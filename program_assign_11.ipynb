{
  "nbformat": 4,
  "nbformat_minor": 0,
  "metadata": {
    "colab": {
      "private_outputs": true,
      "provenance": [],
      "authorship_tag": "ABX9TyPZLDHaIWRHmkosVLrPWELI",
      "include_colab_link": true
    },
    "kernelspec": {
      "name": "python3",
      "display_name": "Python 3"
    },
    "language_info": {
      "name": "python"
    }
  },
  "cells": [
    {
      "cell_type": "markdown",
      "metadata": {
        "id": "view-in-github",
        "colab_type": "text"
      },
      "source": [
        "<a href=\"https://colab.research.google.com/github/pentakotanavya/navyapentakota/blob/main/program_assign_11.ipynb\" target=\"_parent\"><img src=\"https://colab.research.google.com/assets/colab-badge.svg\" alt=\"Open In Colab\"/></a>"
      ]
    },
    {
      "cell_type": "markdown",
      "source": [
        "1.\tWrite a Python program to find words which are greater than given length k?"
      ],
      "metadata": {
        "id": "VNC00U-dSUrD"
      }
    },
    {
      "cell_type": "code",
      "source": [
        "# Getting input from user \n",
        "string =  input('Enter the string : ')\n",
        "k = int(input('Enter k  (value for accepting string) : '))\n",
        "largerStrings = []\n",
        "\n",
        "# Finding words with length greater than k\n",
        "words = string.split(\" \")\n",
        "for word in words:\n",
        "\tif len(word) > k:\n",
        "\t\tlargerStrings.append(word)\n",
        "\t\t\n",
        "# printing values\n",
        "print(\"All words which are greater than given length \", k, \"are \", largerStrings)"
      ],
      "metadata": {
        "id": "2LepAVSYScW5"
      },
      "execution_count": null,
      "outputs": []
    },
    {
      "cell_type": "markdown",
      "source": [
        "2.\tWrite a Python program for removing i-th character from a string?\n",
        "\n"
      ],
      "metadata": {
        "id": "hMaQN-2OUMVe"
      }
    },
    {
      "cell_type": "code",
      "source": [
        "string = \"iNeuron\"\n",
        " \n",
        "# Removing char at pos 3\n",
        "new_str = \"\"\n",
        "n = int(input(\"enter the number of character to remove  \"))\n",
        "for i in range(len(string)):\n",
        "    if i != n:\n",
        "        new_str = new_str + string[i]\n",
        " \n",
        "# Printing string after removal\n",
        "print (\"The string after removal of i'th character : \" + new_str)"
      ],
      "metadata": {
        "id": "XEd5SdMPUcXh"
      },
      "execution_count": null,
      "outputs": []
    },
    {
      "cell_type": "markdown",
      "source": [
        "3.\tWrite a Python program to split and join a string?"
      ],
      "metadata": {
        "id": "fcnN759qVhdc"
      }
    },
    {
      "cell_type": "code",
      "source": [
        "def split_string(string):\n",
        " \n",
        "    # Split the string based on space delimit\n",
        "    string = string.split(' ')\n",
        "     \n",
        "    return string\n",
        " \n",
        "def join_string(string):\n",
        " \n",
        "    # Join the string based on '-' delimiter\n",
        "    string = '-'.join(string)\n",
        "     \n",
        "    return string\n",
        " \n",
        "\n",
        "if __name__ == '__main__':\n",
        "    string = 'welcome to the world'\n",
        "     \n",
        "    # Splitting a string\n",
        "    string = split_string(string)\n",
        "    print(f\"splitted string  :{string}\")\n",
        "    \n",
        " \n",
        "     # Join list of strings into one\n",
        "    new_string = join_string(string)\n",
        "    print(f\"joined string   :{new_string}\")"
      ],
      "metadata": {
        "id": "Hun0jNjdVmsc"
      },
      "execution_count": null,
      "outputs": []
    },
    {
      "cell_type": "markdown",
      "source": [
        "4.\tWrite a Python to check if a given string is binary string or not?"
      ],
      "metadata": {
        "id": "1jKexSw9Xota"
      }
    },
    {
      "cell_type": "code",
      "source": [
        "def check(string):\n",
        "   p = set(string)\n",
        "   s = {'0', '1'}\n",
        "   if s == p or p == {'0'} or p == {'1'}:\n",
        "        print(\"Yes it's binary string\")\n",
        "   else:\n",
        "        print(\"No, it's not a binary string\")\n",
        " \n",
        "\n",
        "if __name__ == \"__main__\":\n",
        " \n",
        "    string =input(\"enter the string  \")  \n",
        "    \n",
        "    check(string)"
      ],
      "metadata": {
        "id": "3N2cG-nWYKbl"
      },
      "execution_count": null,
      "outputs": []
    },
    {
      "cell_type": "markdown",
      "source": [
        "5.\tWrite a Python program to find uncommon words from two Strings?"
      ],
      "metadata": {
        "id": "Nr85RK78ZD6r"
      }
    },
    {
      "cell_type": "code",
      "source": [
        "def UncommonWords(A, B):\n",
        " \n",
        "    # count will contain all the word counts\n",
        "    count = {}\n",
        " \n",
        "    # insert words of string A to hash\n",
        "    for word in A.split():\n",
        "        count[word] = count.get(word, 0) + 1\n",
        " \n",
        "    # insert words of string B to hash\n",
        "    for word in B.split():\n",
        "        count[word] = count.get(word, 0) + 1\n",
        " \n",
        "    # return required list of words\n",
        "    return [word for word in count if count[word] == 1]\n",
        " \n",
        " \n",
        "# Driver Code\n",
        "A = \"from iNeuron institute\"\n",
        "B = \"FSDS course from iNeuron\"\n",
        " \n",
        "# Print required answer\n",
        "print(UncommonWords(A, B))\n",
        "\n",
        " \n",
        " \n"
      ],
      "metadata": {
        "id": "E5NrBCzCZU2V"
      },
      "execution_count": null,
      "outputs": []
    },
    {
      "cell_type": "markdown",
      "source": [
        "6.\tWrite a Python to find all duplicate characters in string?"
      ],
      "metadata": {
        "id": "gqoICULPana0"
      }
    },
    {
      "cell_type": "code",
      "source": [
        "def duplicate_characters(string):\n",
        "    # Create an empty dictionary\n",
        "    chars = {}\n",
        " \n",
        "    # Iterate through each character in the string\n",
        "    for char in string:\n",
        "        # If the character is not in the dictionary, add it\n",
        "        if char not in chars:\n",
        "            chars[char] = 1\n",
        "        else:\n",
        "            # If the character is already in the dictionary, increment the count\n",
        "            chars[char] += 1\n",
        " \n",
        "    # Create a list to store the duplicate characters\n",
        "    duplicates = []\n",
        " \n",
        "    # Iterate through the dictionary to find characters with count greater than 1\n",
        "    for char, count in chars.items():\n",
        "        if count > 1:\n",
        "            duplicates.append(char)\n",
        " \n",
        "    return duplicates\n",
        " \n",
        "\n",
        "print(duplicate_characters(\"Welcome to iNueron\"))"
      ],
      "metadata": {
        "id": "_ywAOwcZbcZk"
      },
      "execution_count": null,
      "outputs": []
    },
    {
      "cell_type": "markdown",
      "source": [
        "7.\tWrite a Python Program to check if a string contains any special character?"
      ],
      "metadata": {
        "id": "K2qLHoHrb4nz"
      }
    },
    {
      "cell_type": "code",
      "source": [
        "# input string\n",
        "n = \"iNueron\"\n",
        "n.split()\n",
        "c = 0\n",
        "s = '[@_!#$%^&*()<>?/\\|}{~:]'  # special character set\n",
        "for i in range(len(n)):\n",
        "    # checking if any special character is present in given string or not\n",
        "    if n[i] in s:\n",
        "        c += 1   # if special character found then add 1 to the c\n",
        " \n",
        "# if c value is greater than 0 then print no\n",
        "# means special character is found in string\n",
        "if c:\n",
        "    print(\"yes, there is a special character in the string\")\n",
        "else:\n",
        "    print(\"There is no special character in the string\")\n",
        " \n",
        "# this code is contributed by gangarajula laxmi"
      ],
      "metadata": {
        "id": "atdtu7kkd-Bg"
      },
      "execution_count": null,
      "outputs": []
    },
    {
      "cell_type": "markdown",
      "source": [],
      "metadata": {
        "id": "FzjrQEeee9UU"
      }
    }
  ]
}
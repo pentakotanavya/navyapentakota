{
  "nbformat": 4,
  "nbformat_minor": 0,
  "metadata": {
    "colab": {
      "private_outputs": true,
      "provenance": [],
      "authorship_tag": "ABX9TyM6BHkgxy6sgdYxNXjnaRu0",
      "include_colab_link": true
    },
    "kernelspec": {
      "name": "python3",
      "display_name": "Python 3"
    },
    "language_info": {
      "name": "python"
    }
  },
  "cells": [
    {
      "cell_type": "markdown",
      "metadata": {
        "id": "view-in-github",
        "colab_type": "text"
      },
      "source": [
        "<a href=\"https://colab.research.google.com/github/pentakotanavya/navyapentakota/blob/main/assignment_21.ipynb\" target=\"_parent\"><img src=\"https://colab.research.google.com/assets/colab-badge.svg\" alt=\"Open In Colab\"/></a>"
      ]
    },
    {
      "cell_type": "code",
      "execution_count": null,
      "metadata": {
        "id": "fgWaSqPlT5YR"
      },
      "outputs": [],
      "source": []
    },
    {
      "cell_type": "markdown",
      "source": [
        "1. Add the current date to the text file today.txt as a string."
      ],
      "metadata": {
        "id": "ycBHvHA1XGdh"
      }
    },
    {
      "cell_type": "code",
      "source": [
        "import datetime\n",
        "# Code to Add current date to the today.txt file\n",
        "file = open('today.txt','w')\n",
        "file.write(datetime.datetime.now().strftime(\"%d-%m-%Y\"))\n",
        "file.close()\n"
      ],
      "metadata": {
        "id": "jU9HpUgEZsi_"
      },
      "execution_count": null,
      "outputs": []
    },
    {
      "cell_type": "markdown",
      "source": [
        "2. Read the text file today.txt into the string today_string"
      ],
      "metadata": {
        "id": "zMh2IIwXaCfC"
      }
    },
    {
      "cell_type": "code",
      "source": [
        "# Code to Read current date from today.txt file\n",
        "file = open('today.txt','r')\n",
        "today_string=file.read()\n",
        "print(today_string)\n",
        "file.close()"
      ],
      "metadata": {
        "id": "qC_pD2JEaDsd"
      },
      "execution_count": null,
      "outputs": []
    },
    {
      "cell_type": "markdown",
      "source": [
        "3. Parse the date from today_string."
      ],
      "metadata": {
        "id": "qNTUliL0ab8u"
      }
    },
    {
      "cell_type": "code",
      "source": [
        "from datetime import datetime\n",
        "parsed_date= datetime.strptime(today_string, '%d-%m-%Y')\n",
        "print(parsed_date)"
      ],
      "metadata": {
        "id": "ufhnkFIHaoVU"
      },
      "execution_count": null,
      "outputs": []
    },
    {
      "cell_type": "markdown",
      "source": [
        "4. List the files in your current directory"
      ],
      "metadata": {
        "id": "tU1NKQTyaz7T"
      }
    },
    {
      "cell_type": "code",
      "source": [
        "import os\n",
        "os.listdir('.')"
      ],
      "metadata": {
        "id": "4SsxQQQia3U3"
      },
      "execution_count": null,
      "outputs": []
    },
    {
      "cell_type": "markdown",
      "source": [
        "5. Create a list of all of the files in your parent directory (minimum five files should be available)."
      ],
      "metadata": {
        "id": "U-B31WuObEYR"
      }
    },
    {
      "cell_type": "code",
      "source": [
        "os.listdir('..')"
      ],
      "metadata": {
        "id": "RnuI5zCRbJMx"
      },
      "execution_count": null,
      "outputs": []
    },
    {
      "cell_type": "markdown",
      "source": [
        "6. Use multiprocessing to create three separate processes. Make each one wait a random number of seconds between one and five, print the current time, and then exit."
      ],
      "metadata": {
        "id": "bYVEPBO-c7NM"
      }
    },
    {
      "cell_type": "code",
      "source": [
        "import multiprocessing\n",
        "import time \n",
        "import random\n",
        "import datetime\n",
        "\n",
        "def procOne():\n",
        "    print(f'Proc_one_Starttime -> {datetime.datetime.now()}')\n",
        "    time.sleep(random.randint(1,5))\n",
        "    print(f'Proc_one_Endtime -> {datetime.datetime.now()}')\n",
        "    \n",
        "def procTwo():\n",
        "    print(f'Proc_two_Starttime -> {datetime.datetime.now()}')\n",
        "    time.sleep(random.randint(1,5))\n",
        "    print(f'Proc_two_Endtime -> {datetime.datetime.now()}')\n",
        "\n",
        "def procThree():\n",
        "    print(f'Proc_two_Starttime -> {datetime.datetime.now()}')\n",
        "    time.sleep(random.randint(1,5))\n",
        "    print(f'Proc_two_Endtime -> {datetime.datetime.now()}')\n",
        "    \n",
        "if __name__ == \"__main__\":    \n",
        "    p1 = multiprocessing.Process(target=procOne)\n",
        "    p2 = multiprocessing.Process(target=procTwo)\n",
        "    p3 = multiprocessing.Process(target=procThree)\n",
        "\n",
        "    p1.start()\n",
        "    p2.start()\n",
        "    p3.start()\n",
        "\n",
        "    p1.join()\n",
        "    p2.join()\n",
        "    p3.join()"
      ],
      "metadata": {
        "id": "Kqo0mqsZdf28"
      },
      "execution_count": null,
      "outputs": []
    },
    {
      "cell_type": "markdown",
      "source": [
        "7. Create a date object of your day of birth"
      ],
      "metadata": {
        "id": "W19cmOamdkY8"
      }
    },
    {
      "cell_type": "code",
      "source": [
        "from datetime import datetime\n",
        "my_dob = datetime.strptime('06/07/1998','%d/%m/%Y')\n",
        "print(type(my_dob))\n",
        "\n"
      ],
      "metadata": {
        "id": "bfC4mSbydniw"
      },
      "execution_count": null,
      "outputs": []
    },
    {
      "cell_type": "markdown",
      "source": [
        "8. What day of the week was your day of birth?"
      ],
      "metadata": {
        "id": "WUpg5wxue-Gx"
      }
    },
    {
      "cell_type": "code",
      "source": [
        "import datetime\n",
        "\n",
        "x = datetime.datetime.now()\n",
        "\n",
        "print(x.strftime(\"%A\"))\n"
      ],
      "metadata": {
        "id": "2HLHxCR8fLYp"
      },
      "execution_count": null,
      "outputs": []
    },
    {
      "cell_type": "markdown",
      "source": [
        "9. When will you be (or when were you) 10,000 days old?"
      ],
      "metadata": {
        "id": "BQDVJ88df0j2"
      }
    },
    {
      "cell_type": "code",
      "source": [
        "from datetime import datetime, timedelta\n",
        "my_dob = datetime.strptime(\"06/07/1998\",'%d/%m/%Y')\n",
        "future_date = my_dob-timedelta(10000)\n",
        "future_date"
      ],
      "metadata": {
        "id": "7mJw1iyZgk06"
      },
      "execution_count": null,
      "outputs": []
    }
  ]
}
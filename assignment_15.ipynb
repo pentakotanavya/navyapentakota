{
  "nbformat": 4,
  "nbformat_minor": 0,
  "metadata": {
    "colab": {
      "provenance": [],
      "authorship_tag": "ABX9TyPC5kzvlOEWNmif4oGzQu/b",
      "include_colab_link": true
    },
    "kernelspec": {
      "name": "python3",
      "display_name": "Python 3"
    },
    "language_info": {
      "name": "python"
    }
  },
  "cells": [
    {
      "cell_type": "markdown",
      "metadata": {
        "id": "view-in-github",
        "colab_type": "text"
      },
      "source": [
        "<a href=\"https://colab.research.google.com/github/pentakotanavya/navyapentakota/blob/main/assignment_15.ipynb\" target=\"_parent\"><img src=\"https://colab.research.google.com/assets/colab-badge.svg\" alt=\"Open In Colab\"/></a>"
      ]
    },
    {
      "cell_type": "code",
      "execution_count": null,
      "metadata": {
        "id": "HJlLtKcIAAKv"
      },
      "outputs": [],
      "source": []
    },
    {
      "cell_type": "markdown",
      "source": [
        "1.How many seconds are in an hour? Use the interactive interpreter as a calculator and multiply the number of seconds in a minute (60) by the number of minutes in an hour (also 60)."
      ],
      "metadata": {
        "id": "Jc4QtKDqAIrv"
      }
    },
    {
      "cell_type": "code",
      "source": [
        "#there are 60 seconds in an hour\n",
        "60*60"
      ],
      "metadata": {
        "colab": {
          "base_uri": "https://localhost:8080/"
        },
        "id": "1zc7mdPAAJ7G",
        "outputId": "5a4c2216-0b92-4b0d-92f7-6428aa835424"
      },
      "execution_count": null,
      "outputs": [
        {
          "output_type": "execute_result",
          "data": {
            "text/plain": [
              "3600"
            ]
          },
          "metadata": {},
          "execution_count": 1
        }
      ]
    },
    {
      "cell_type": "markdown",
      "source": [
        "2. Assign the result from the previous task (seconds in an hour) to a variable called seconds_per_hour."
      ],
      "metadata": {
        "id": "-s0ayyMNAbAI"
      }
    },
    {
      "cell_type": "code",
      "source": [
        "seconds_per_minute=60\n",
        "minutes_per_hour=60\n",
        "seconds_per_hour=seconds_per_minute*minutes_per_hour\n",
        "print(f\"there are {seconds_per_hour} seconds in an hour\")"
      ],
      "metadata": {
        "colab": {
          "base_uri": "https://localhost:8080/"
        },
        "id": "VPVV5d0nAhx4",
        "outputId": "2055686e-9fee-477f-f6ff-1a8271d4d8af"
      },
      "execution_count": null,
      "outputs": [
        {
          "output_type": "stream",
          "name": "stdout",
          "text": [
            "there are 3600 seconds in an hour\n"
          ]
        }
      ]
    },
    {
      "cell_type": "markdown",
      "source": [
        "3. How many seconds do you think there are in a day? Make use of the variables seconds per hour and minutes per hour."
      ],
      "metadata": {
        "id": "jUrqxWVPBi2x"
      }
    },
    {
      "cell_type": "code",
      "source": [
        "seconds_per_minute=60\n",
        "minutes_per_hour=60\n",
        "seconds_per_hour=seconds_per_minute*minutes_per_hour\n",
        "print(f\"there are {seconds_per_hour} seconds in an hour\")\n",
        "result = seconds_per_hour * 24 #24 hours in a dayf\n",
        "print(f\"there are { seconds_per_day} seconds in a day\")"
      ],
      "metadata": {
        "colab": {
          "base_uri": "https://localhost:8080/"
        },
        "id": "ZkuPu6T0BsT8",
        "outputId": "f98a9df1-b3e7-4c7d-fb37-9fdd871816bb"
      },
      "execution_count": null,
      "outputs": [
        {
          "output_type": "stream",
          "name": "stdout",
          "text": [
            "there are 3600 seconds in an hour\n",
            "there are 86400 seconds in a day\n"
          ]
        }
      ]
    },
    {
      "cell_type": "code",
      "source": [],
      "metadata": {
        "id": "eKeRkPjLDj9a"
      },
      "execution_count": null,
      "outputs": []
    },
    {
      "cell_type": "markdown",
      "source": [
        "4. Calculate seconds per day again, but this time save the result in a variable called seconds_per_day"
      ],
      "metadata": {
        "id": "aH5j6F4nDYRQ"
      }
    },
    {
      "cell_type": "code",
      "source": [
        "seconds_per_minute=60\n",
        "minutes_per_hour=60\n",
        "seconds_per_hour=seconds_per_minute*minutes_per_hour\n",
        "\n",
        "seconds_per_day = seconds_per_hour * 24 #24 hours in a day\n",
        "print(f\"there are { seconds_per_day} seconds in a day\")"
      ],
      "metadata": {
        "colab": {
          "base_uri": "https://localhost:8080/"
        },
        "id": "x1f76Fa-Dn98",
        "outputId": "d31ceec1-b0ab-4959-a9fb-b7d010269737"
      },
      "execution_count": null,
      "outputs": [
        {
          "output_type": "stream",
          "name": "stdout",
          "text": [
            "there are 86400 seconds in a day\n"
          ]
        }
      ]
    },
    {
      "cell_type": "markdown",
      "source": [
        "5. Divide seconds_per_day by seconds_per_hour. Use floating-point (/) division."
      ],
      "metadata": {
        "id": "UKJYGq9PD5nh"
      }
    },
    {
      "cell_type": "code",
      "source": [
        "seconds_per_day / seconds_per_hour"
      ],
      "metadata": {
        "colab": {
          "base_uri": "https://localhost:8080/"
        },
        "id": "Yl9ClRyNEN-M",
        "outputId": "a3af5423-9528-47ae-cbea-80b5b979c392"
      },
      "execution_count": null,
      "outputs": [
        {
          "output_type": "execute_result",
          "data": {
            "text/plain": [
              "24.0"
            ]
          },
          "metadata": {},
          "execution_count": 8
        }
      ]
    },
    {
      "cell_type": "markdown",
      "source": [
        "6. Divide seconds_per_day by seconds_per_hour, using integer (//) division. Did this number agree with the floating-point value from the previous question, aside from the final .0?"
      ],
      "metadata": {
        "id": "U7sENzYQERQc"
      }
    },
    {
      "cell_type": "code",
      "source": [
        "seconds_per_day // seconds_per_hour"
      ],
      "metadata": {
        "colab": {
          "base_uri": "https://localhost:8080/"
        },
        "id": "mT0kOa5fEgKq",
        "outputId": "a7862be5-ec8c-410a-e858-89a18577fd61"
      },
      "execution_count": null,
      "outputs": [
        {
          "output_type": "execute_result",
          "data": {
            "text/plain": [
              "24"
            ]
          },
          "metadata": {},
          "execution_count": 9
        }
      ]
    },
    {
      "cell_type": "markdown",
      "source": [
        "yes"
      ],
      "metadata": {
        "id": "qiRx-5VzEnbK"
      }
    },
    {
      "cell_type": "markdown",
      "source": [
        "7. Write a generator, genPrimes, that returns the sequence of prime numbers on successive calls to its next() method: 2, 3, 5, 7, 11, ..."
      ],
      "metadata": {
        "id": "VB__4hF6EqOx"
      }
    },
    {
      "cell_type": "code",
      "source": [
        "def genPrimes():\n",
        "    n = 2\n",
        "    primes = []\n",
        "    while True:\n",
        "        for i in primes:\n",
        "            if n % i == 0:\n",
        "                break\n",
        "        else:\n",
        "            primes.append(n)\n",
        "            yield n\n",
        "        n += 1\n",
        "    "
      ],
      "metadata": {
        "id": "5WXyObxcEyDV"
      },
      "execution_count": null,
      "outputs": []
    }
  ]
}
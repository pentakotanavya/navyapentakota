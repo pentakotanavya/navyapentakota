{
  "nbformat": 4,
  "nbformat_minor": 0,
  "metadata": {
    "colab": {
      "private_outputs": true,
      "provenance": [],
      "authorship_tag": "ABX9TyM6XnIKx/pTlfTdS8iD5kBG",
      "include_colab_link": true
    },
    "kernelspec": {
      "name": "python3",
      "display_name": "Python 3"
    },
    "language_info": {
      "name": "python"
    }
  },
  "cells": [
    {
      "cell_type": "markdown",
      "metadata": {
        "id": "view-in-github",
        "colab_type": "text"
      },
      "source": [
        "<a href=\"https://colab.research.google.com/github/pentakotanavya/navyapentakota/blob/main/assignment_24.ipynb\" target=\"_parent\"><img src=\"https://colab.research.google.com/assets/colab-badge.svg\" alt=\"Open In Colab\"/></a>"
      ]
    },
    {
      "cell_type": "markdown",
      "source": [
        "1. What is the relationship between def statements and lambda expressions ?\n",
        "\n",
        "def statement is used to create a normal function. where as lamba expressions are used to create Anonymous functions. which can be assigned to a variable and can be called using the variable later in function.\n",
        "\n",
        "Lambda's body is a single expression and not a block of statements like def statement. The lambda expression's body is similar to what we'd put in a def body's return statement. We simply type the result as an expression instead of explicitly returning it. Because it is limited to an expression, a lambda is less general than a def statement.\n"
      ],
      "metadata": {
        "id": "LtpBU1Nbv1rs"
      }
    },
    {
      "cell_type": "markdown",
      "source": [
        "2. What is the benefit of lambda?\n",
        "\n",
        "The following are some of the benefits of lambda expressions:\n",
        "\n",
        "1.Can be used to create Nameless/Anonymous functions inside some complex functions if we are planning to use it only once.\n",
        "2.Moderate to small functions can be created in a single line\n",
        "Fuctions created using lambda expressions can be assigned to a variable and can be used by simply calling the variable\n"
      ],
      "metadata": {
        "id": "B1rqWzQtwtTe"
      }
    },
    {
      "cell_type": "markdown",
      "source": [
        "3. Compare and contrast map, filter, and reduce.\n",
        "\n",
        "The map() function is a type of higher-order. This function takes another function as a parameter\n",
        "along with a sequence of iterables and returns an output after applying the function to each iterable present in the sequence."
      ],
      "metadata": {
        "id": "rC2S8nv_w6Ed"
      }
    },
    {
      "cell_type": "code",
      "source": [
        "\n",
        "\n",
        "print('Map ->',list(map(lambda x:x+x, [1,2,3,4])))"
      ],
      "metadata": {
        "id": "mHWQU4isxdTF"
      },
      "execution_count": null,
      "outputs": []
    },
    {
      "cell_type": "markdown",
      "source": [
        "The filter() function is used to create an output list consisting of values for which the function returns true."
      ],
      "metadata": {
        "id": "uhfm-MmexsZb"
      }
    },
    {
      "cell_type": "code",
      "source": [
        "print('Filter ->',list(filter(lambda x:x%2 !=0, [1,2,3,4])))"
      ],
      "metadata": {
        "id": "gtNNNTG3xuzi"
      },
      "execution_count": null,
      "outputs": []
    },
    {
      "cell_type": "markdown",
      "source": [
        "The reduce() function, as the name describes, applies a given function to the iterables and returns a single value"
      ],
      "metadata": {
        "id": "jda9jwtCx_ZP"
      }
    },
    {
      "cell_type": "code",
      "source": [
        "from functools import reduce\n",
        "print('Reduce ->',reduce(lambda x,y:x+y, [1,2,3,4,5,6]))"
      ],
      "metadata": {
        "id": "EMBZ_x6EyATM"
      },
      "execution_count": null,
      "outputs": []
    },
    {
      "cell_type": "markdown",
      "source": [
        "4. What are function annotations, and how are they used?:\n",
        "\n",
        "Function annotations are arbitrary python expressions that are associated with various part of functions. These expressions are evaluated at compile time and have no life in python’s runtime environment. Python does not attach any meaning to these annotations. They take life when interpreted by third party libraries, for example, mypy.\n",
        "Python supports dynamic typing and hence no module is provided for type checking. Annotations like\n",
        "[def foo(a:”int”, b:”float”=5.0)  -> ”int”]"
      ],
      "metadata": {
        "id": "X1JdgnjEyNe7"
      }
    },
    {
      "cell_type": "markdown",
      "source": [
        "5. What are recursive functions, and how are they used?\n",
        "\n",
        "The term Recursion can be defined as the process of defining something in terms of itself. In simple words, it is a process in which a function calls itself directly or indirectly. \n",
        "example :\n",
        "  Factorial of a number is the product of all the integers from 1 to that number. For example, the factorial of 3 (denoted as 3!) is 1*2*3 =6.\n",
        "  factorial(3)          # 1st call with 3\n",
        "3 * factorial(2)      # 2nd call with 2\n",
        "3 * 2 * factorial(1)  # 3rd call with 1\n",
        "3 * 2 * 1             # return from 3rd call as number=1\n",
        "3 * 2                 # return from 2nd call\n",
        "6                     # return from 1st call"
      ],
      "metadata": {
        "id": "2ASmOTxDyxH9"
      }
    },
    {
      "cell_type": "markdown",
      "source": [
        "6. What are some general design guidelines for coding functions?\n",
        "\n",
        "\n",
        "In any programming language, functions facilitate code reusability. In simple terms, when you want to do something repeatedly, you can define that something as a function and call that function whenever you need to.\n",
        "\n",
        "guidelines:\n",
        " 1.You need to use the def keyword, give your function a name, followed by a pair of parentheses, and end the line with a colon (:).\n",
        " 2.If your function takes arguments, the names of the arguments (parameters) are mentioned inside the opening and closing parentheses.\n",
        "Please note that in function definition, the arguments that your function consumes are referred to as parameters.\n",
        " 3.When you call the function with specific values for these parameters, they're called arguments or actual parameters. This is because the arguments in the function call are the values used for the function's parameters.\n",
        "Then, you begin an indented block. This is the body of the function that describes what your function does.\n",
        " 4.There's a return statement that returns the result of the operation on the arguments. The return statement returns control to the point where the function was originally called.\n",
        "\n",
        " \n",
        "syntax :\n",
        " def function_name(parameters):\n",
        "    # What the function does goes here(body)\n",
        "    return result "
      ],
      "metadata": {
        "id": "KGmp4MWz0HAf"
      }
    },
    {
      "cell_type": "markdown",
      "source": [
        "7. Name three or more ways that functions can communicate results to a caller.\n",
        "\n",
        "1. Function can return single value\n",
        "2. Can return multiple values, tuple\n",
        "3. can return list,dictionary\n",
        "4. can return function object\n",
        "5. can return class object"
      ],
      "metadata": {
        "id": "9p2CM8iZ1Qqv"
      }
    },
    {
      "cell_type": "code",
      "source": [],
      "metadata": {
        "id": "mDDlO8a-yRxB"
      },
      "execution_count": null,
      "outputs": []
    }
  ]
}
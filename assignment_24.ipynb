{
  "nbformat": 4,
  "nbformat_minor": 0,
  "metadata": {
    "colab": {
      "private_outputs": true,
      "provenance": [],
      "authorship_tag": "ABX9TyPHXOjhWEaJs5XuYstDxjGZ",
      "include_colab_link": true
    },
    "kernelspec": {
      "name": "python3",
      "display_name": "Python 3"
    },
    "language_info": {
      "name": "python"
    }
  },
  "cells": [
    {
      "cell_type": "markdown",
      "metadata": {
        "id": "view-in-github",
        "colab_type": "text"
      },
      "source": [
        "<a href=\"https://colab.research.google.com/github/pentakotanavya/navyapentakota/blob/main/assignment_24.ipynb\" target=\"_parent\"><img src=\"https://colab.research.google.com/assets/colab-badge.svg\" alt=\"Open In Colab\"/></a>"
      ]
    },
    {
      "cell_type": "code",
      "execution_count": null,
      "metadata": {
        "id": "6wSQz5N22Zkf"
      },
      "outputs": [],
      "source": []
    },
    {
      "cell_type": "markdown",
      "source": [
        "1) . What is the difference between enclosing a list comprehension in square brackets and parentheses?\n",
        "\n",
        "\n"
      ],
      "metadata": {
        "id": "S5wCDVGr2csC"
      }
    },
    {
      "cell_type": "code",
      "source": [
        "##List Comprehension with square brackets produces list.\n",
        "list = [i for i in range(10)]\n",
        "list"
      ],
      "metadata": {
        "id": "3Qeio_eU2tSz"
      },
      "execution_count": null,
      "outputs": []
    },
    {
      "cell_type": "code",
      "source": [
        "##List Comprehension with parentheses creates generators\n",
        "list = (i for i in range(10))\n",
        "list"
      ],
      "metadata": {
        "id": "2oK5qhG_24mr"
      },
      "execution_count": null,
      "outputs": []
    },
    {
      "cell_type": "markdown",
      "source": [
        "2) What is the relationship between generators and iterators?\n",
        "#iterator:\n",
        "An iterator is an object which contains a countable number of values and it is used to iterate over iterable objects like list, tuples etc\n",
        "Using an iterator-\n",
        "iter() keyword is used to create an iterator containing an iterable object.\n",
        "next() keyword is used to call the next element in the iterable object.\n"
      ],
      "metadata": {
        "id": "jQnvg55u3XdK"
      }
    },
    {
      "cell_type": "code",
      "source": [
        "iter_list = iter(['Apple', 'Orange', 'Banana'])\n",
        "print(next(iter_list))\n",
        "print(next(iter_list))\n",
        "print(next(iter_list))"
      ],
      "metadata": {
        "id": "KtayTQgt3pLS"
      },
      "execution_count": null,
      "outputs": []
    },
    {
      "cell_type": "markdown",
      "source": [
        "#generator :\n",
        "It is another way of creating iterators in a simple way where it uses the keyword “yield” instead of returning it in a defined function\n",
        "Generators are implemented using a function\n",
        "Here, the yield function returns the data without affecting or exiting the function. \n",
        "It will return a sequence of data in an iterable format where we need to iterate over the sequence to use the data as they won’t store the entire sequence in the memory\n",
        "By using next() function we can iterate the output of generator function"
      ],
      "metadata": {
        "id": "B27r8JS73trb"
      }
    },
    {
      "cell_type": "code",
      "source": [
        "def my_generator(n):\n",
        "\n",
        "    # initialize counter\n",
        "    value = 0\n",
        "\n",
        "    # loop until counter is less than n\n",
        "    while value < n:\n",
        "\n",
        "        # produce the current value of the counter\n",
        "        yield value\n",
        "\n",
        "        # increment the counter\n",
        "        value += 1\n",
        "\n",
        "# iterate over the generator object produced by my_generator\n",
        "for value in my_generator(3):\n",
        "\n",
        "    # print each value produced by generator\n",
        "    print(value)"
      ],
      "metadata": {
        "id": "ao4HeAgz30p_"
      },
      "execution_count": null,
      "outputs": []
    },
    {
      "cell_type": "markdown",
      "source": [
        "\n",
        "3) What are the signs that a function is a generator function?\n",
        "\n",
        "\n",
        "the signs that a function is a generator function are:\n",
        "1.Defined with the def keyword\n",
        "2.Use the yield keyword\n",
        "3.May contain several yield keywords.\n",
        "4.Returns an iterator."
      ],
      "metadata": {
        "id": "moj1zIP54HvE"
      }
    },
    {
      "cell_type": "markdown",
      "source": [
        "4) What is the purpose of a yield statement?\n",
        "\n",
        "\n",
        "Using yield keyword is highly memory efficient, since the execution happens only when the caller iterates over the object.\n",
        "As the variables states are saved, we can pause and resume from the same point, thus saving time.\n"
      ],
      "metadata": {
        "id": "PZ4QuAKK4rDu"
      }
    },
    {
      "cell_type": "markdown",
      "source": [
        "5) What is the relationship between map calls and list comprehensions? Make a comparison and contrast between the two.\n",
        "\n",
        "Map function:\n",
        "Suppose we have a function and we want to compute this function for different values in a single line of code . This is where map() function plays its role. map() function returns a map object(which is an iterator) of the results after applying the given function to each item of a given iterable (list, tuple etc.)\n",
        "\n",
        "If we already have a function defined, it is often good to use map For example, map(sum, myLists) is more neat than [sum(x) for x in myLists]. You gain the elegance of not having to make up a dummy variable (e.g. sum(x) for x... or sum(_) for _... or sum(readableName) for readableName...) which you have to type twice, just to iterate.\n",
        "\n",
        "List Comprehension:\n",
        "List Comprehension is a substitute for the lambda function, map(), filter() and reduce()\n",
        "\n",
        "\n",
        "Comparision :\n",
        "    1. List comprehension is more concise and easier to read as compared to map\n",
        "    2. List comprehension allows filtering. In map, we have no such facility\n",
        "    For example, to print all even numbers in range of 100, we can write [n for n in range(100) if n%2 == 0]. There is \n",
        "    no alternate for it in map\n",
        "    3. List comprehension are used when a list of results is required, where as map only returns a map object and does \n",
        "    not return any list.\n",
        "    4. List comprehension is faster than map when we need to evaluate expressions that are too long or complicated \n",
        "    to express\n",
        "    5. Map is faster in case of calling an already defined function (as no lambda is required)\n",
        "    "
      ],
      "metadata": {
        "id": "Th_bv1lQ5N9V"
      }
    },
    {
      "cell_type": "markdown",
      "source": [],
      "metadata": {
        "id": "IBl5w8WB4lAH"
      }
    }
  ]
}
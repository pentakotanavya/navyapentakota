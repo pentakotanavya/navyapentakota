{
  "nbformat": 4,
  "nbformat_minor": 0,
  "metadata": {
    "colab": {
      "provenance": [],
      "authorship_tag": "ABX9TyPzjuLhGQ/6ze7tX2DTAjSj",
      "include_colab_link": true
    },
    "kernelspec": {
      "name": "python3",
      "display_name": "Python 3"
    },
    "language_info": {
      "name": "python"
    }
  },
  "cells": [
    {
      "cell_type": "markdown",
      "metadata": {
        "id": "view-in-github",
        "colab_type": "text"
      },
      "source": [
        "<a href=\"https://colab.research.google.com/github/pentakotanavya/navyapentakota/blob/main/program_assign_4.ipynb\" target=\"_parent\"><img src=\"https://colab.research.google.com/assets/colab-badge.svg\" alt=\"Open In Colab\"/></a>"
      ]
    },
    {
      "cell_type": "markdown",
      "source": [
        "1.\tWrite a Python Program to Find the Factorial of a Number?"
      ],
      "metadata": {
        "id": "hcEFzYrXP5JT"
      }
    },
    {
      "cell_type": "code",
      "source": [
        "num = int(input(\"Enter a number: \"))\n",
        "factorial = 1\n",
        "if num < 0:                   # check if the number is negative, positive or zero\n",
        "   print(\" factorial does not exist \")\n",
        "elif num == 0:\n",
        "   print(\"The factorial of 0 is 1\")\n",
        "else:\n",
        "   for i in range(1,num + 1):\n",
        "       factorial = factorial*i\n",
        "   print(\"The factorial of\",num,\"is\",factorial)"
      ],
      "metadata": {
        "colab": {
          "base_uri": "https://localhost:8080/"
        },
        "id": "bFNitmJsP7cU",
        "outputId": "2e945d6c-2ed3-4bb7-c4e4-e2d4f2b9c1df"
      },
      "execution_count": 13,
      "outputs": [
        {
          "output_type": "stream",
          "name": "stdout",
          "text": [
            "Enter a number: 6\n",
            "The factorial of 6 is 720\n"
          ]
        }
      ]
    },
    {
      "cell_type": "markdown",
      "source": [
        "2.\tWrite a Python Program to Display the multiplication Table?"
      ],
      "metadata": {
        "id": "1Zoo411KQJHf"
      }
    },
    {
      "cell_type": "code",
      "source": [
        "num = int(input(\"Enter a number :\"))\n",
        "for i in range(1,13) :\n",
        "    print(f\"{num} * {i} = {num*i}\")"
      ],
      "metadata": {
        "colab": {
          "base_uri": "https://localhost:8080/"
        },
        "id": "ueSYf4NzQTtO",
        "outputId": "17510c6f-caad-43c9-f8c8-3aa4af701ab9"
      },
      "execution_count": 19,
      "outputs": [
        {
          "output_type": "stream",
          "name": "stdout",
          "text": [
            "Enter a number :4\n",
            "4 * 1 = 4\n",
            "4 * 2 = 8\n",
            "4 * 3 = 12\n",
            "4 * 4 = 16\n",
            "4 * 5 = 20\n",
            "4 * 6 = 24\n",
            "4 * 7 = 28\n",
            "4 * 8 = 32\n",
            "4 * 9 = 36\n",
            "4 * 10 = 40\n",
            "4 * 11 = 44\n",
            "4 * 12 = 48\n"
          ]
        }
      ]
    },
    {
      "cell_type": "markdown",
      "source": [
        "3.\tWrite a Python Program to Print the Fibonacci sequence?"
      ],
      "metadata": {
        "id": "1peXR2kVRxPU"
      }
    },
    {
      "cell_type": "code",
      "source": [
        "n = int(input(\"How many terms? \"))\n",
        "a =0                #first two terms\n",
        "b = 1 \n",
        "count = 0\n",
        "if n <= 0:\n",
        "   print(\"Please enter a positive integer\")\n",
        "elif n== 1:\n",
        "   print(\"Fibonacci sequence upto\",nterms,\":\")\n",
        "   print(a)\n",
        "else:\n",
        "   print(\"Fibonacci sequence:\")\n",
        "   while count < n:\n",
        "       print(a)\n",
        "       c= a+b\n",
        "      \n",
        "       a= b                       # update values\n",
        "       b = c\n",
        "       count += 1\n"
      ],
      "metadata": {
        "colab": {
          "base_uri": "https://localhost:8080/"
        },
        "id": "1LpBSdtXR8ET",
        "outputId": "1532562f-7631-44a0-89df-c931f9646fdb"
      },
      "execution_count": 23,
      "outputs": [
        {
          "output_type": "stream",
          "name": "stdout",
          "text": [
            "How many terms? 10\n",
            "Fibonacci sequence:\n",
            "0\n",
            "1\n",
            "1\n",
            "2\n",
            "3\n",
            "5\n",
            "8\n",
            "13\n",
            "21\n",
            "34\n"
          ]
        }
      ]
    },
    {
      "cell_type": "markdown",
      "source": [
        "4.\tWrite a Python Program to Check Armstrong Number?"
      ],
      "metadata": {
        "id": "MGRFrd_LTpzS"
      }
    },
    {
      "cell_type": "code",
      "source": [
        "num = 407\n",
        "sum = 0     # initialize sum\n",
        "\n",
        "temp = num           # find the sum of the cube of each digit\n",
        "while temp > 0:\n",
        "   digit = temp % 10\n",
        "   sum = sum + digit ** 3\n",
        "   temp //= 10\n",
        "\n",
        "if num == sum:\n",
        "   print(num,\"is an Armstrong number\")\n",
        "else:\n",
        "   print(num,\"is not an Armstrong number\")"
      ],
      "metadata": {
        "colab": {
          "base_uri": "https://localhost:8080/"
        },
        "id": "adeh2EIITyzG",
        "outputId": "3d09b20c-f0c6-42db-c94a-62fafc81912c"
      },
      "execution_count": 36,
      "outputs": [
        {
          "output_type": "stream",
          "name": "stdout",
          "text": [
            "407 is an Armstrong number\n"
          ]
        }
      ]
    },
    {
      "cell_type": "markdown",
      "source": [
        "5.\tWrite a Python Program to Find Armstrong Number in an Interval?"
      ],
      "metadata": {
        "id": "QyNVcb6yXxnB"
      }
    },
    {
      "cell_type": "code",
      "source": [
        "lwr = int(input(\"Enter lower bound \"))\n",
        "uppr =int(input(\"Enter upper bound \")) \n",
        "print(f\"The armstrong numbers between {lwr} and {uppr} are : \")\n",
        "for numb in range(lwr, uppr + 1):\n",
        "   odr = len(str(numb))         # order of number\n",
        "   sum = 0\n",
        "   tem = numb\n",
        "   while tem > 0:\n",
        "       digit = tem % 10\n",
        "       sum += digit ** odr\n",
        "       tem //= 10\n",
        "\n",
        "   if numb == sum:\n",
        "          print(numb)\n",
        "       \n",
        "\n",
        "              \n",
        "\n",
        "                "
      ],
      "metadata": {
        "colab": {
          "base_uri": "https://localhost:8080/"
        },
        "id": "B6GQsc0aX5P3",
        "outputId": "07a628c3-f61b-4bb0-b2e9-258aa749c45d"
      },
      "execution_count": 68,
      "outputs": [
        {
          "output_type": "stream",
          "name": "stdout",
          "text": [
            "Enter lower bound 100\n",
            "Enter upper bound 500\n",
            "The armstrong numbers between 100 and 500 are : \n",
            "153\n",
            "370\n",
            "371\n",
            "407\n"
          ]
        }
      ]
    },
    {
      "cell_type": "markdown",
      "source": [
        "6.\tWrite a Python Program to Find the Sum of Natural Numbers?"
      ],
      "metadata": {
        "id": "1ws1T9XhiOV6"
      }
    },
    {
      "cell_type": "code",
      "source": [
        "sum = 0\n",
        "n = int(input(\"enter the number \"))\n",
        "sum = n * (n+1)/2\n",
        "print(sum)"
      ],
      "metadata": {
        "id": "mADwnFCyiTMT",
        "outputId": "ca955ca4-16c2-4c10-a964-88c48bb27c24",
        "colab": {
          "base_uri": "https://localhost:8080/"
        }
      },
      "execution_count": 74,
      "outputs": [
        {
          "output_type": "stream",
          "name": "stdout",
          "text": [
            "enter the number 10\n",
            "55.0\n"
          ]
        }
      ]
    },
    {
      "cell_type": "code",
      "source": [],
      "metadata": {
        "id": "gjQBOM4bibXq"
      },
      "execution_count": null,
      "outputs": []
    }
  ]
}
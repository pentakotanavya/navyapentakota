{
  "nbformat": 4,
  "nbformat_minor": 0,
  "metadata": {
    "colab": {
      "private_outputs": true,
      "provenance": [],
      "authorship_tag": "ABX9TyO0Fvwpl6lwnIZpPOxJFUIU",
      "include_colab_link": true
    },
    "kernelspec": {
      "name": "python3",
      "display_name": "Python 3"
    },
    "language_info": {
      "name": "python"
    }
  },
  "cells": [
    {
      "cell_type": "markdown",
      "metadata": {
        "id": "view-in-github",
        "colab_type": "text"
      },
      "source": [
        "<a href=\"https://colab.research.google.com/github/pentakotanavya/navyapentakota/blob/main/program_assign_12.ipynb\" target=\"_parent\"><img src=\"https://colab.research.google.com/assets/colab-badge.svg\" alt=\"Open In Colab\"/></a>"
      ]
    },
    {
      "cell_type": "markdown",
      "source": [
        "1.\tWrite a Python program to Extract Unique values dictionary values?"
      ],
      "metadata": {
        "id": "Qwl-ykdlhTNm"
      }
    },
    {
      "cell_type": "code",
      "source": [
        "dict = {'first': [5, 6, 7, 8],\n",
        "             'second': [10, 11, 7, 5],\n",
        "             'third': [6, 12, 10, 8],\n",
        "             'fourth': [1, 2, 5]}\n",
        " \n",
        "# Extract Unique values dictionary values\n",
        "# Using set comprehension + values() + sorted()\n",
        "result= list(sorted({ele for val in dict.values() for ele in val}))\n",
        " \n",
        "# printing result\n",
        "print(\"The unique values list is : \" + str(result))"
      ],
      "metadata": {
        "id": "unumillbhdQe"
      },
      "execution_count": null,
      "outputs": []
    },
    {
      "cell_type": "markdown",
      "source": [
        "2.\tWrite a Python program to find the sum of all items in a dictionary?"
      ],
      "metadata": {
        "id": "hxPvPl2Bhubz"
      }
    },
    {
      "cell_type": "code",
      "source": [
        "\n",
        "dict={ 'k1':10, 'k2':20, 'k3':30, 'k4':40 }\n",
        "print(\"sum of the values is : \",sum(dict.values()))"
      ],
      "metadata": {
        "id": "b33io17DiD7B"
      },
      "execution_count": null,
      "outputs": []
    },
    {
      "cell_type": "markdown",
      "source": [
        "3.\tWrite a Python program to Merging two Dictionaries?"
      ],
      "metadata": {
        "id": "V_mm8uMFisoC"
      }
    },
    {
      "cell_type": "code",
      "source": [
        "def Merge(dict1, dict2):\n",
        "    return(dict2.update(dict1))\n",
        " \n",
        " \n",
        "# Driver code\n",
        "dict1 = {'a': 10, 'b': 8}\n",
        "dict2 = {'d': 6, 'c': 4}\n",
        " \n",
        "Merge(dict1,dict2)\n",
        " \n",
        "# changes made in dict2\n",
        "print(dict2)"
      ],
      "metadata": {
        "id": "BVEFc-fwiEH0"
      },
      "execution_count": null,
      "outputs": []
    },
    {
      "cell_type": "markdown",
      "source": [
        "4.\tWrite a Python program to convert key-values list to flat dictionary?"
      ],
      "metadata": {
        "id": "93k55AdqmtCx"
      }
    },
    {
      "cell_type": "code",
      "source": [
        "in_list = [('A',10),('B',20),('C',30),('D',40),('E',50),('F',60),('G',70),('H',80),('I',90),('J',100)]\n",
        "\n",
        "out_dict = {}\n",
        "for ele in in_list:\n",
        "    out_dict[ele[0]] = ele[1]\n",
        "print(out_dict)"
      ],
      "metadata": {
        "id": "zwqLOt0MoCr5"
      },
      "execution_count": null,
      "outputs": []
    },
    {
      "cell_type": "markdown",
      "source": [
        "5.\tWrite a Python program to insertion at the beginning in OrderedDict?"
      ],
      "metadata": {
        "id": "j4dOnb8aoYGh"
      }
    },
    {
      "cell_type": "code",
      "source": [
        "from collections import OrderedDict\n",
        " \n",
        "# initialising ordered_dict\n",
        "d1= OrderedDict({'navya': 1, 'vinay': 2})\n",
        " \n",
        "# inserting items in starting of dict\n",
        "d1.update({'raga':3})\n",
        "d1.move_to_end('raga', last = False)\n",
        " \n",
        "# print result\n",
        "print(\"Resultant Dictionary : \"+str(d1))"
      ],
      "metadata": {
        "id": "PUUuStVsodVX"
      },
      "execution_count": null,
      "outputs": []
    },
    {
      "cell_type": "markdown",
      "source": [
        "6.\tWrite a Python program to check order of character in string using OrderedDict()?"
      ],
      "metadata": {
        "id": "VikkMypCp7DD"
      }
    },
    {
      "cell_type": "code",
      "source": [
        "# Function to check if string follows order of\n",
        "# characters defined by a pattern\n",
        "from collections import OrderedDict\n",
        " \n",
        "def checkOrder(input, pattern):\n",
        "     \n",
        "    # create empty OrderedDict\n",
        "    # output will be like {'a': None,'b': None, 'c': None}\n",
        "    dict = OrderedDict.fromkeys(input)\n",
        " \n",
        "    # traverse generated OrderedDict parallel with\n",
        "    # pattern string to check if order of characters\n",
        "    # are same or not\n",
        "    ptrlen = 0\n",
        "    for key,value in dict.items():\n",
        "        if (key == pattern[ptrlen]):\n",
        "            ptrlen = ptrlen + 1\n",
        "         \n",
        "        # check if we have traverse complete\n",
        "        # pattern string\n",
        "        if (ptrlen == (len(pattern))):\n",
        "            return 'true'\n",
        " \n",
        "    # if we come out from for loop that means\n",
        "    # order was mismatched\n",
        "    return 'false'\n",
        " \n",
        "# Driver program\n",
        "if __name__ == \"__main__\":\n",
        "    input = 'engineers rock'\n",
        "    pattern = 'er'\n",
        "    print (checkOrder(input,pattern))"
      ],
      "metadata": {
        "id": "1FdW7LYup-99"
      },
      "execution_count": null,
      "outputs": []
    },
    {
      "cell_type": "markdown",
      "source": [
        "7.\tWrite a Python program to sort Python Dictionaries by Key or Value?"
      ],
      "metadata": {
        "id": "HHHEuGSJqQp4"
      }
    },
    {
      "cell_type": "code",
      "source": [
        "myDict = {'navya': 10, 'siva': 9,\n",
        "        'vinay': 15, 'raga': 2, 'dhana': 32}\n",
        " \n",
        "mykeys = list(myDict.keys())\n",
        "mykeys.sort()\n",
        "sorted_dict = {i: myDict[i] for i in mykeys}\n",
        " \n",
        "print(sorted_dict)"
      ],
      "metadata": {
        "id": "5RUMu1xBqUPT"
      },
      "execution_count": null,
      "outputs": []
    },
    {
      "cell_type": "markdown",
      "source": [],
      "metadata": {
        "id": "JA8Tk_o_rvx4"
      }
    }
  ]
}
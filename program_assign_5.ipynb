{
  "nbformat": 4,
  "nbformat_minor": 0,
  "metadata": {
    "colab": {
      "provenance": [],
      "authorship_tag": "ABX9TyO1U7nOhVV70x0o393pCik4",
      "include_colab_link": true
    },
    "kernelspec": {
      "name": "python3",
      "display_name": "Python 3"
    },
    "language_info": {
      "name": "python"
    }
  },
  "cells": [
    {
      "cell_type": "markdown",
      "metadata": {
        "id": "view-in-github",
        "colab_type": "text"
      },
      "source": [
        "<a href=\"https://colab.research.google.com/github/pentakotanavya/navyapentakota/blob/main/program_assign_5.ipynb\" target=\"_parent\"><img src=\"https://colab.research.google.com/assets/colab-badge.svg\" alt=\"Open In Colab\"/></a>"
      ]
    },
    {
      "cell_type": "code",
      "execution_count": null,
      "metadata": {
        "id": "aTNzNpGbl8zZ"
      },
      "outputs": [],
      "source": []
    },
    {
      "cell_type": "markdown",
      "source": [
        "1.\tWrite a Python Program to Find LCM?"
      ],
      "metadata": {
        "id": "S10uDA6CmP9g"
      }
    },
    {
      "cell_type": "code",
      "source": [
        "def compute_lcm(x, y):\n",
        "   if x > y:                 # choose the greater number\n",
        "       greater = x\n",
        "   else:\n",
        "       greater = y\n",
        "   while(True):\n",
        "       if((greater % x == 0) and (greater % y == 0)):\n",
        "           lcm = greater\n",
        "           break\n",
        "       greater += 1\n",
        "   return lcm\n",
        "\n",
        "num1 = int(input(\"enter first number \"))\n",
        "num2 = int(input(\"enter secong number \"))\n",
        "\n",
        "print(f\" L.C.M. of {num1} and {num2} is {compute_lcm(num1, num2)}\")"
      ],
      "metadata": {
        "colab": {
          "base_uri": "https://localhost:8080/"
        },
        "id": "LpeKLG4AmQ6J",
        "outputId": "3a0897f1-dc9d-4c16-feb0-ae1d7147b33e"
      },
      "execution_count": 7,
      "outputs": [
        {
          "output_type": "stream",
          "name": "stdout",
          "text": [
            "enter first number 2\n",
            "enter secong number 4\n",
            " L.C.M. of 2 and 4 is 4\n"
          ]
        }
      ]
    },
    {
      "cell_type": "markdown",
      "source": [
        "2.\tWrite a Python Program to Find HCF?"
      ],
      "metadata": {
        "id": "ZCyBrfZaonOX"
      }
    },
    {
      "cell_type": "code",
      "source": [
        "def compute_hcf(x, y):\n",
        "    if x > y:                # choose the smaller number\n",
        "        smaller = y\n",
        "    else:\n",
        "        smaller = x\n",
        "    for i in range(1, smaller+1):\n",
        "        if((x % i == 0) and (y % i == 0)):\n",
        "            hcf = i \n",
        "    return hcf\n",
        "\n",
        "num1 = int(input(\"enter first number \"))\n",
        "num2 = int(input(\"enter secong number \"))\n",
        "\n",
        "\n",
        "print(f\"The H.C.F. of {num1} and {num2} is  {compute_hcf(num1, num2)}\")"
      ],
      "metadata": {
        "colab": {
          "base_uri": "https://localhost:8080/"
        },
        "id": "dKDiLg3DosMx",
        "outputId": "5768ac3a-077a-46e9-978f-58282abe1acd"
      },
      "execution_count": 8,
      "outputs": [
        {
          "output_type": "stream",
          "name": "stdout",
          "text": [
            "enter first number 2\n",
            "enter secong number 4\n",
            "The H.C.F. of 2 and 4 is  2\n"
          ]
        }
      ]
    },
    {
      "cell_type": "markdown",
      "source": [
        "3.\tWrite a Python Program to Convert Decimal to Binary, Octal and Hexadecimal?"
      ],
      "metadata": {
        "id": "Rq2nnp52pfIL"
      }
    },
    {
      "cell_type": "code",
      "source": [
        "Decimal = int(input(\"Enter the decimal to convert :\"))\n",
        "\n",
        "print(f\"{Decimal} in Binary number : {bin(Decimal)}\")\n",
        "print(f\"{Decimal} in octa decimal :{oct(Decimal)}\")\n",
        "print(f\"{Decimal} in hexal decimal : {hex(Decimal)}\")"
      ],
      "metadata": {
        "colab": {
          "base_uri": "https://localhost:8080/"
        },
        "id": "xJ8UapwjpkhM",
        "outputId": "d91cf454-37bc-44a8-b482-bbccc91a0e75"
      },
      "execution_count": 12,
      "outputs": [
        {
          "output_type": "stream",
          "name": "stdout",
          "text": [
            "Enter the decimal to convert :5\n",
            "5 in Binary number : 0b101\n",
            "5 in octa decimal :0o5\n",
            "5 in hexal decimal : 0x5\n"
          ]
        }
      ]
    },
    {
      "cell_type": "markdown",
      "source": [
        "4.\tWrite a Python Program To Find ASCII value of a character?"
      ],
      "metadata": {
        "id": "OzbHsjYMq_mO"
      }
    },
    {
      "cell_type": "code",
      "source": [
        "c = input(\"Enter the character : \")\n",
        "print(\"The ASCII value of '\" + c + \"' is\", ord(c))"
      ],
      "metadata": {
        "colab": {
          "base_uri": "https://localhost:8080/"
        },
        "id": "Qgs7wFb5rO6V",
        "outputId": "91c89dd6-cf4b-48d2-fa62-7f80cf5dc196"
      },
      "execution_count": 14,
      "outputs": [
        {
          "output_type": "stream",
          "name": "stdout",
          "text": [
            "Enter the character : N\n",
            "The ASCII value of 'N' is 78\n"
          ]
        }
      ]
    },
    {
      "cell_type": "markdown",
      "source": [
        "5.\tWrite a Python Program to Make a Simple Calculator with 4 basic mathematical operations?"
      ],
      "metadata": {
        "id": "DXyV1LPurlqA"
      }
    },
    {
      "cell_type": "code",
      "source": [
        "x = int(input(\"Enter first value : \"))\n",
        "y = int(input(\"Enter second value : \"))\n",
        "print(f\" Addition :{x} + {y} = {x+y} \")\n",
        "print(f\" subtraction : {x} - {y} = {x-y} \")\n",
        "print(f\" multiplication : {x} * {y} = {x*y} \")\n",
        "print(f\" division : {x} / {y} = {x/y} \")\n"
      ],
      "metadata": {
        "colab": {
          "base_uri": "https://localhost:8080/"
        },
        "id": "C-ZDsqGrrvIa",
        "outputId": "309bd27b-2016-487a-9048-aab775caf2ff"
      },
      "execution_count": 16,
      "outputs": [
        {
          "output_type": "stream",
          "name": "stdout",
          "text": [
            "Enter first value : 4\n",
            "Enter second value : 2\n",
            " Addition :4 + 2 = 6 \n",
            " subtraction : 4 - 2 = 2 \n",
            " multiplication : 4 * 2 = 8 \n",
            " division : 4 / 2 = 2.0 \n"
          ]
        }
      ]
    }
  ]
}
{
  "nbformat": 4,
  "nbformat_minor": 0,
  "metadata": {
    "colab": {
      "provenance": [],
      "authorship_tag": "ABX9TyMyaKiw/4I4F7wVZxRCOxsg",
      "include_colab_link": true
    },
    "kernelspec": {
      "name": "python3",
      "display_name": "Python 3"
    },
    "language_info": {
      "name": "python"
    },
    "gpuClass": "standard"
  },
  "cells": [
    {
      "cell_type": "markdown",
      "metadata": {
        "id": "view-in-github",
        "colab_type": "text"
      },
      "source": [
        "<a href=\"https://colab.research.google.com/github/pentakotanavya/navyapentakota/blob/main/program_assign_22.ipynb\" target=\"_parent\"><img src=\"https://colab.research.google.com/assets/colab-badge.svg\" alt=\"Open In Colab\"/></a>"
      ]
    },
    {
      "cell_type": "markdown",
      "source": [
        "Question1\n",
        "Create a function that takes three parameters where:\n",
        "•\tx is the start of the range (inclusive).\n",
        "•\ty is the end of the range (inclusive).\n",
        "•\tn is the divisor to be checked against.\n",
        "Return an ordered list with numbers in the range that are divisible by the third parameter n. Return an empty list if there are no numbers that are divisible by n.\n",
        "Examples\n",
        "list_operation(1, 10, 3) ➞ [3, 6, 9]\n",
        "\n",
        "list_operation(7, 9, 2) ➞ [8]\n",
        "\n",
        "list_operation(15, 20, 7) ➞ []\n"
      ],
      "metadata": {
        "id": "K-iSYj0S-1kI"
      }
    },
    {
      "cell_type": "code",
      "source": [
        "def list_operation(start,end,divisor):\n",
        "    out_list = []\n",
        "    for ele in range(start,end+1):\n",
        "        if ele%divisor == 0:\n",
        "            out_list.append(ele)\n",
        "    print(f'Output: ➞ {out_list}')\n",
        "\n",
        "list_operation(1, 10, 3)\n",
        "list_operation(7, 9, 2)\n",
        "list_operation(15, 20, 7)"
      ],
      "metadata": {
        "colab": {
          "base_uri": "https://localhost:8080/"
        },
        "id": "xSG5J8qH-5PA",
        "outputId": "a768f0e5-ebd3-478f-b2d0-4db572340083"
      },
      "execution_count": 1,
      "outputs": [
        {
          "output_type": "stream",
          "name": "stdout",
          "text": [
            "Output: ➞ [3, 6, 9]\n",
            "Output: ➞ [8]\n",
            "Output: ➞ []\n"
          ]
        }
      ]
    },
    {
      "cell_type": "markdown",
      "source": [
        "Question2\n",
        "Create a function that takes in two lists and returns True if the second list follows the first list by one element, and False otherwise. In other words, determine if the second list is the first list shifted to the right by 1.\n",
        "Examples\n",
        "simon_says([1, 2], [5, 1]) ➞ True\n",
        "\n",
        "simon_says([1, 2], [5, 5]) ➞ False\n",
        "\n",
        "simon_says([1, 2, 3, 4, 5], [0, 1, 2, 3, 4]) ➞ True\n",
        "\n",
        "simon_says([1, 2, 3, 4, 5], [5, 5, 1, 2, 3]) ➞ False\n",
        "Notes\n",
        "•\tBoth input lists will be of the same length, and will have a minimum length of 2.\n",
        "•\tThe values of the 0-indexed element in the second list and the n-1th indexed element in the first list do not matter.\n"
      ],
      "metadata": {
        "id": "l6iFOWaN-_8R"
      }
    },
    {
      "cell_type": "code",
      "source": [
        "def simon_says(in_list_1,in_list_2):\n",
        "    if len(in_list_1) == len(in_list_1) and len(in_list_1) >=2 and len(in_list_1) >=2:\n",
        "        if(in_list_1[:-1] == in_list_2[1:]):\n",
        "            print(f'{in_list_1,in_list_2} ➞ {True}')\n",
        "        else:\n",
        "            print(f'{in_list_1,in_list_2} ➞ {False}')\n",
        "            \n",
        "simon_says([1, 2], [5, 1])\n",
        "simon_says([1, 2], [5, 5])\n",
        "simon_says([1, 2, 3, 4, 5], [0, 1, 2, 3, 4])\n",
        "simon_says([1, 2, 3, 4, 5], [5, 5, 1, 2, 3])"
      ],
      "metadata": {
        "colab": {
          "base_uri": "https://localhost:8080/"
        },
        "id": "ZjzRRF0p_Eq_",
        "outputId": "d5ff264b-8a7a-4f76-b7fb-8b84130e5b89"
      },
      "execution_count": 2,
      "outputs": [
        {
          "output_type": "stream",
          "name": "stdout",
          "text": [
            "([1, 2], [5, 1]) ➞ True\n",
            "([1, 2], [5, 5]) ➞ False\n",
            "([1, 2, 3, 4, 5], [0, 1, 2, 3, 4]) ➞ True\n",
            "([1, 2, 3, 4, 5], [5, 5, 1, 2, 3]) ➞ False\n"
          ]
        }
      ]
    },
    {
      "cell_type": "markdown",
      "source": [
        "Question3\n",
        "A group of friends have decided to start a secret society. The name will be the first letter of each of their names, sorted in alphabetical order.\n",
        "Create a function that takes in a list of names and returns the name of the secret society.\n",
        "Examples\n",
        "society_name([\"Adam\", \"Sarah\", \"Malcolm\"]) ➞ \"AMS\"\n",
        "\n",
        "society_name([\"Harry\", \"Newt\", \"Luna\", \"Cho\"]) ➞ \"CHLN\"\n",
        "\n",
        "society_name([\"Phoebe\", \"Chandler\", \"Rachel\", \"Ross\", \"Monica\", \"Joey\"])\n",
        "\n"
      ],
      "metadata": {
        "id": "o1-HBkbN_OXn"
      }
    },
    {
      "cell_type": "code",
      "source": [
        "def society_name(in_list):\n",
        "    out_string = []\n",
        "    for ele in in_list:\n",
        "        out_string.append(ele[0])\n",
        "    output = ''.join(sorted(out_string))\n",
        "    print(f'{in_list} ➞ {output}')\n",
        "\n",
        "society_name([\"Adam\", \"Sarah\", \"Malcolm\"])\n",
        "society_name([\"Harry\", \"Newt\", \"Luna\", \"Cho\"])\n",
        "society_name([\"Phoebe\", \"Chandler\", \"Rachel\", \"Ross\", \"Monica\", \"Joey\"])"
      ],
      "metadata": {
        "colab": {
          "base_uri": "https://localhost:8080/"
        },
        "id": "EL21nZT0_Stc",
        "outputId": "cd13e432-4628-4bd1-fc0f-d4e4190aadda"
      },
      "execution_count": 3,
      "outputs": [
        {
          "output_type": "stream",
          "name": "stdout",
          "text": [
            "['Adam', 'Sarah', 'Malcolm'] ➞ AMS\n",
            "['Harry', 'Newt', 'Luna', 'Cho'] ➞ CHLN\n",
            "['Phoebe', 'Chandler', 'Rachel', 'Ross', 'Monica', 'Joey'] ➞ CJMPRR\n"
          ]
        }
      ]
    },
    {
      "cell_type": "markdown",
      "source": [
        "Question4\n",
        "An isogram is a word that has no duplicate letters. Create a function that takes a string and returns either True or False depending on whether or not it's an \"isogram\".\n",
        "Examples\n",
        "is_isogram(\"Algorism\") ➞ True\n",
        "\n",
        "is_isogram(\"PasSword\") ➞ False\n",
        "# Not case sensitive.\n",
        "\n",
        "is_isogram(\"Consecutive\") ➞ False\n",
        "Notes\n",
        "•\tIgnore letter case (should not be case sensitive).\n",
        "•\tAll test cases contain valid one word strings.\n"
      ],
      "metadata": {
        "id": "WH1qhaGK_d6V"
      }
    },
    {
      "cell_type": "code",
      "source": [
        "def is_isogram(in_string):\n",
        "    lower_in_string = in_string.lower()\n",
        "    if len(lower_in_string) == len(set(lower_in_string)):\n",
        "        print(f'{in_string} ➞ {True}')\n",
        "    else:\n",
        "        print(f'{in_string} ➞ {False}')\n",
        "    \n",
        "is_isogram(\"Algorism\")\n",
        "is_isogram(\"PasSword\")\n",
        "is_isogram(\"Consecutive\")"
      ],
      "metadata": {
        "colab": {
          "base_uri": "https://localhost:8080/"
        },
        "id": "cx-8g1gQ_fbp",
        "outputId": "d273a675-f46d-48b5-c3e0-8c9040c12e06"
      },
      "execution_count": 4,
      "outputs": [
        {
          "output_type": "stream",
          "name": "stdout",
          "text": [
            "Algorism ➞ True\n",
            "PasSword ➞ False\n",
            "Consecutive ➞ False\n"
          ]
        }
      ]
    },
    {
      "cell_type": "markdown",
      "source": [
        "Question5\n",
        "Create a function that takes a string and returns True or False, depending on whether the characters are in order or not.\n",
        "Examples\n",
        "is_in_order(\"abc\") ➞ True\n",
        "\n",
        "is_in_order(\"edabit\") ➞ False\n",
        "\n",
        "is_in_order(\"123\") ➞ True\n",
        "\n",
        "is_in_order(\"xyzz\") ➞ True\n",
        "Notes\n",
        "You don't have to handle empty strings.\n",
        "\n"
      ],
      "metadata": {
        "id": "7zo0CHhk_m4j"
      }
    },
    {
      "cell_type": "code",
      "source": [
        "def is_in_order(in_string):\n",
        "    in_string_sorted = ''.join(sorted(in_string))\n",
        "    if in_string == in_string_sorted:\n",
        "        print(f'{in_string} ➞ {True}')\n",
        "    else:\n",
        "       print(f'{in_string} ➞ {False}')\n",
        "\n",
        "is_in_order(\"abc\")\n",
        "is_in_order(\"edabit\")\n",
        "is_in_order(\"123\")\n",
        "is_in_order(\"xyzz\")"
      ],
      "metadata": {
        "colab": {
          "base_uri": "https://localhost:8080/"
        },
        "id": "IHQaUBIq_q8v",
        "outputId": "8e186966-93f3-4a46-c9d9-96675d58f55e"
      },
      "execution_count": 5,
      "outputs": [
        {
          "output_type": "stream",
          "name": "stdout",
          "text": [
            "abc ➞ True\n",
            "edabit ➞ False\n",
            "123 ➞ True\n",
            "xyzz ➞ True\n"
          ]
        }
      ]
    }
  ]
}
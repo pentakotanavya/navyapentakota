{
  "nbformat": 4,
  "nbformat_minor": 0,
  "metadata": {
    "colab": {
      "provenance": [],
      "authorship_tag": "ABX9TyOTYCdhjOYkQkWjyCva6wc7",
      "include_colab_link": true
    },
    "kernelspec": {
      "name": "python3",
      "display_name": "Python 3"
    },
    "language_info": {
      "name": "python"
    }
  },
  "cells": [
    {
      "cell_type": "markdown",
      "metadata": {
        "id": "view-in-github",
        "colab_type": "text"
      },
      "source": [
        "<a href=\"https://colab.research.google.com/github/pentakotanavya/navyapentakota/blob/main/program_assign_6.ipynb\" target=\"_parent\"><img src=\"https://colab.research.google.com/assets/colab-badge.svg\" alt=\"Open In Colab\"/></a>"
      ]
    },
    {
      "cell_type": "code",
      "execution_count": null,
      "metadata": {
        "id": "6hy4oNANuxkt"
      },
      "outputs": [],
      "source": []
    },
    {
      "cell_type": "markdown",
      "source": [
        "1.\tWrite a Python Program to Display Fibonacci Sequence Using Recursion?"
      ],
      "metadata": {
        "id": "tLGbYWrhuyO4"
      }
    },
    {
      "cell_type": "code",
      "source": [
        "def fibonacci(n):\n",
        "   if n <= 1:\n",
        "       return n\n",
        "   else:\n",
        "       return(fibonacci(n-1) + fibonacci(n-2))\n",
        "\n",
        "n = int(input(\"Enter the number to generate series\"))\n",
        "\n",
        "if n <= 0:\n",
        "   print(\"Plese enter a positive integer\")\n",
        "else:\n",
        "   print(\"Fibonacci sequence:\")\n",
        "   for i in range(n):\n",
        "       print(fibonacci(i))"
      ],
      "metadata": {
        "colab": {
          "base_uri": "https://localhost:8080/"
        },
        "id": "qNZ6UoYLu2VO",
        "outputId": "4e700bd0-3131-4981-be15-aafa5835de99"
      },
      "execution_count": 1,
      "outputs": [
        {
          "output_type": "stream",
          "name": "stdout",
          "text": [
            "Enter the number to generate series 10\n",
            "Fibonacci sequence:\n",
            "0\n",
            "1\n",
            "1\n",
            "2\n",
            "3\n",
            "5\n",
            "8\n",
            "13\n",
            "21\n",
            "34\n"
          ]
        }
      ]
    },
    {
      "cell_type": "markdown",
      "source": [
        "2.\tWrite a Python Program to Find Factorial of Number Using Recursion?"
      ],
      "metadata": {
        "id": "yDzSINntvwXM"
      }
    },
    {
      "cell_type": "code",
      "source": [
        "def fact(n) :\n",
        "  if n < 0 :\n",
        "     print(\"Enter a positive number\")\n",
        "  elif n==0 or n==1 :\n",
        "       return 1\n",
        "  else :\n",
        "       return n * fact(n-1)\n",
        "       \n",
        "num = int(input(\"Enter the number : \"))\n",
        "print(f\"factorial of {num} = {fact(num)}\")"
      ],
      "metadata": {
        "colab": {
          "base_uri": "https://localhost:8080/"
        },
        "id": "SBtOhhsuv03d",
        "outputId": "fbc3457a-455e-43cd-ad1a-cc7ae664dbe1"
      },
      "execution_count": 8,
      "outputs": [
        {
          "output_type": "stream",
          "name": "stdout",
          "text": [
            "Enter the number : 5\n",
            "factorial of 5 = 120\n"
          ]
        }
      ]
    },
    {
      "cell_type": "markdown",
      "source": [
        "3.\tWrite a Python Program to calculate your Body Mass Index?"
      ],
      "metadata": {
        "id": "w9EcQpuFx2e-"
      }
    },
    {
      "cell_type": "code",
      "source": [
        "height = float(input(\"Enter your height(m): \"))\n",
        "weight = float(input(\"Enter your weight(kg): \"))\n",
        "BMI = weight / (height * height)\n",
        "print(f\"Your BMI is: {BMI}\")"
      ],
      "metadata": {
        "colab": {
          "base_uri": "https://localhost:8080/"
        },
        "id": "cAAsiSSTyNII",
        "outputId": "8595726f-7c40-42e4-f0df-63e76235e95d"
      },
      "execution_count": 12,
      "outputs": [
        {
          "output_type": "stream",
          "name": "stdout",
          "text": [
            "Enter your height(m): 900\n",
            "Enter your weight(kg): 50\n",
            "Your BMI is: 6.17283950617284e-05\n"
          ]
        }
      ]
    },
    {
      "cell_type": "markdown",
      "source": [
        "4.\tWrite a Python Program to calculate the natural logarithm of any number?"
      ],
      "metadata": {
        "id": "-Po9AjMNzIY2"
      }
    },
    {
      "cell_type": "code",
      "source": [
        "import math\n",
        "\n",
        "n = int(input(\"Enter the number : \"))\n",
        "print (\"Natural logarithm of\",n,  \"is : \",math.log(n))\n",
        " "
      ],
      "metadata": {
        "colab": {
          "base_uri": "https://localhost:8080/"
        },
        "id": "auNRiH5_zf_4",
        "outputId": "8ecf765e-74a2-44be-a8db-6940cc22bedc"
      },
      "execution_count": 17,
      "outputs": [
        {
          "output_type": "stream",
          "name": "stdout",
          "text": [
            "Enter the number : 5\n",
            "Natural logarithm of 5 is :  1.6094379124341003\n"
          ]
        }
      ]
    },
    {
      "cell_type": "markdown",
      "source": [
        "5.\tWrite a Python Program for cube sum of first n natural numbers?"
      ],
      "metadata": {
        "id": "BR-6tmDp0JR4"
      }
    },
    {
      "cell_type": "code",
      "source": [
        "n = int(input(\"Enter number : \"))\n",
        "sum = 0\n",
        "\n",
        "for i in range(1,n+1):\n",
        "      sum = sum + (i**3)\n",
        "\n",
        "\n",
        "print(\"cube sum of first \" ,n ,\" natural numbers = \",sum)\n",
        "      "
      ],
      "metadata": {
        "colab": {
          "base_uri": "https://localhost:8080/"
        },
        "id": "Bpq7Ue5i0p_H",
        "outputId": "03b8fbff-9b49-4fda-9e6f-8a9af4e6f367"
      },
      "execution_count": 22,
      "outputs": [
        {
          "output_type": "stream",
          "name": "stdout",
          "text": [
            "Enter number : 3\n",
            "cube sum of first  3  natural numbers =  36\n"
          ]
        }
      ]
    }
  ]
}
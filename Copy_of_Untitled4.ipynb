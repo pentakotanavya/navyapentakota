{
  "nbformat": 4,
  "nbformat_minor": 0,
  "metadata": {
    "colab": {
      "provenance": [],
      "authorship_tag": "ABX9TyMf+sXQuos45kHbNKezRjsJ",
      "include_colab_link": true
    },
    "kernelspec": {
      "name": "python3",
      "display_name": "Python 3"
    },
    "language_info": {
      "name": "python"
    }
  },
  "cells": [
    {
      "cell_type": "markdown",
      "metadata": {
        "id": "view-in-github",
        "colab_type": "text"
      },
      "source": [
        "<a href=\"https://colab.research.google.com/github/pentakotanavya/navyapentakota/blob/main/Copy_of_Untitled4.ipynb\" target=\"_parent\"><img src=\"https://colab.research.google.com/assets/colab-badge.svg\" alt=\"Open In Colab\"/></a>"
      ]
    },
    {
      "cell_type": "code",
      "execution_count": null,
      "metadata": {
        "id": "XJqZrw7qk4DL"
      },
      "outputs": [],
      "source": []
    },
    {
      "cell_type": "markdown",
      "source": [
        "1. 1.\tWrite a Python program to print \"Hello Python\"?"
      ],
      "metadata": {
        "id": "tGQ-ckzlk5BK"
      }
    },
    {
      "cell_type": "code",
      "source": [
        "print(\"Hello Python\")"
      ],
      "metadata": {
        "colab": {
          "base_uri": "https://localhost:8080/"
        },
        "id": "mb_fRe4Mk7fC",
        "outputId": "58d053a8-c4d1-4fe4-f943-c5e4f2455d1e"
      },
      "execution_count": null,
      "outputs": [
        {
          "output_type": "stream",
          "name": "stdout",
          "text": [
            "Hello Python\n"
          ]
        }
      ]
    },
    {
      "cell_type": "markdown",
      "source": [],
      "metadata": {
        "id": "JwhGgjyblZqn"
      }
    },
    {
      "cell_type": "markdown",
      "source": [
        "2. 2.\tWrite a Python program to do arithmetical operations addition and division.?"
      ],
      "metadata": {
        "id": "DFka4XfElZxd"
      }
    },
    {
      "cell_type": "code",
      "source": [
        "a = 10\n",
        "b = 20\n",
        "print(f\"arithmetic addition :{a+b} and arithmetic division :{a/b}\") "
      ],
      "metadata": {
        "colab": {
          "base_uri": "https://localhost:8080/"
        },
        "id": "REgPXMwTlkWY",
        "outputId": "c2f46fbb-779c-42de-dfab-c0d87b58cc9b"
      },
      "execution_count": null,
      "outputs": [
        {
          "output_type": "stream",
          "name": "stdout",
          "text": [
            "arithmetic addition :30 and arithmetic division :0.5\n"
          ]
        }
      ]
    },
    {
      "cell_type": "markdown",
      "source": [
        "3. 3.\tWrite a Python program to find the area of a triangle?"
      ],
      "metadata": {
        "id": "zPMqqawbmaX4"
      }
    },
    {
      "cell_type": "code",
      "source": [
        "a = float(input(\"Enter the breadth of a triangle : \"))\n",
        "b = float(input(\"Enter the height of a triangle : \"))\n",
        "print(f\"The area of a triangle = {(1/2)*a*b}\")"
      ],
      "metadata": {
        "colab": {
          "base_uri": "https://localhost:8080/"
        },
        "id": "ui7R85GlmgM-",
        "outputId": "c43ac262-76a8-4c73-9c57-eec5ed5105fc"
      },
      "execution_count": null,
      "outputs": [
        {
          "output_type": "stream",
          "name": "stdout",
          "text": [
            "Enter the breadth of a triangle : 4\n",
            "Enter the height of a triangle : 3\n",
            "The area of a triangle = 6.0\n"
          ]
        }
      ]
    },
    {
      "cell_type": "markdown",
      "source": [
        "4.\tWrite a Python program to swap two variables?"
      ],
      "metadata": {
        "id": "I8mre9NsoTuk"
      }
    },
    {
      "cell_type": "code",
      "source": [
        "a = input(\"enter a value : \")\n",
        "b = input(\"enter b value : \")\n",
        "t =0\n",
        "print(f\"before swapping a = {a}, b = {b}\")\n",
        "t = a\n",
        "a = b\n",
        "b = t\n",
        "print(f\"after swapping a = {a}, b = {b}\") "
      ],
      "metadata": {
        "colab": {
          "base_uri": "https://localhost:8080/"
        },
        "id": "_SWNCjTooYGq",
        "outputId": "daac9b01-4e85-4dc9-f65a-152e008d28c1"
      },
      "execution_count": null,
      "outputs": [
        {
          "output_type": "stream",
          "name": "stdout",
          "text": [
            "enter a value : 3\n",
            "enter b value : 6\n",
            "before swapping a = 3, b = 6\n",
            "after swapping a = 6, b = 3\n"
          ]
        }
      ]
    },
    {
      "cell_type": "markdown",
      "source": [
        "5.\tWrite a Python program to generate a random number?"
      ],
      "metadata": {
        "id": "hsha8U6opTYG"
      }
    },
    {
      "cell_type": "code",
      "source": [
        "import random\n",
        "num = random.randint(1,10)\n",
        "print(num)\n"
      ],
      "metadata": {
        "colab": {
          "base_uri": "https://localhost:8080/"
        },
        "id": "ZlN2wlWZpZoG",
        "outputId": "1d901c90-063c-43ba-c37a-14377d9db8b6"
      },
      "execution_count": null,
      "outputs": [
        {
          "output_type": "stream",
          "name": "stdout",
          "text": [
            "3\n"
          ]
        }
      ]
    }
  ]
}
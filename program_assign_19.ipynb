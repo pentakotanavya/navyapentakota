{
  "nbformat": 4,
  "nbformat_minor": 0,
  "metadata": {
    "colab": {
      "provenance": [],
      "authorship_tag": "ABX9TyOC7qkP5+Xcre2mnf/ZVpN5",
      "include_colab_link": true
    },
    "kernelspec": {
      "name": "python3",
      "display_name": "Python 3"
    },
    "language_info": {
      "name": "python"
    },
    "gpuClass": "standard"
  },
  "cells": [
    {
      "cell_type": "markdown",
      "metadata": {
        "id": "view-in-github",
        "colab_type": "text"
      },
      "source": [
        "<a href=\"https://colab.research.google.com/github/pentakotanavya/navyapentakota/blob/main/program_assign_19.ipynb\" target=\"_parent\"><img src=\"https://colab.research.google.com/assets/colab-badge.svg\" alt=\"Open In Colab\"/></a>"
      ]
    },
    {
      "cell_type": "markdown",
      "source": [
        "Question1\n",
        "Create a function that takes a string and returns a string in which each character is repeated once.\n",
        "Examples\n",
        "double_char(\"String\") ➞ \"SSttrriinngg\"\n",
        "\n",
        "double_char(\"Hello World!\") ➞ \"HHeelllloo  WWoorrlldd!!\"\n",
        "\n",
        "double_char(\"1234!_ \") ➞ \"11223344!!__  \"\n"
      ],
      "metadata": {
        "id": "LyiyoC3U5_Qg"
      }
    },
    {
      "cell_type": "code",
      "source": [
        "def double_char(in_string):\n",
        "    out_string = ''\n",
        "    for ele in in_string:\n",
        "        out_string += ele*2\n",
        "    return out_string\n",
        "\n",
        "print(f'➞ {double_char(\"String\")}')\n",
        "print(f'➞ {double_char(\"Hello World!\")}')\n",
        "print(f'➞ {double_char(\"1234!_\")}')"
      ],
      "metadata": {
        "colab": {
          "base_uri": "https://localhost:8080/"
        },
        "id": "8UUk7aap6BmS",
        "outputId": "cc9ae0df-e3ca-4291-dac7-717096206b26"
      },
      "execution_count": 1,
      "outputs": [
        {
          "output_type": "stream",
          "name": "stdout",
          "text": [
            "➞ SSttrriinngg\n",
            "➞ HHeelllloo  WWoorrlldd!!\n",
            "➞ 11223344!!__\n"
          ]
        }
      ]
    },
    {
      "cell_type": "markdown",
      "source": [
        "Question2\n",
        "Create a function that reverses a boolean value and returns the string \"boolean expected\" if another variable type is given.\n",
        "Examples\n",
        "reverse(True) ➞ False\n",
        "\n",
        "reverse(False) ➞ True\n",
        "\n",
        "reverse(0) ➞ \"boolean expected\"\n",
        "\n",
        "reverse(None) ➞ \"boolean expected\"\n",
        "\n"
      ],
      "metadata": {
        "id": "ty0EeSiT6PpU"
      }
    },
    {
      "cell_type": "code",
      "source": [
        "def reverse(in_bool):\n",
        "    if type(in_bool) == bool:\n",
        "        return not in_bool\n",
        "    else:\n",
        "        return \"Boolean Expected\"\n",
        "\n",
        "print(f'reverse(True) ➞ {reverse(True)}')\n",
        "print(f'reverse(False) ➞ {reverse(False)}')\n",
        "print(f'reverse(0) ➞ {reverse(0)}')\n",
        "print(f'reverse(None) ➞ {reverse(None)}')"
      ],
      "metadata": {
        "colab": {
          "base_uri": "https://localhost:8080/"
        },
        "id": "jg1raV_76UEO",
        "outputId": "40c54701-9ce6-48f0-c89e-cebea448da88"
      },
      "execution_count": 2,
      "outputs": [
        {
          "output_type": "stream",
          "name": "stdout",
          "text": [
            "reverse(True) ➞ False\n",
            "reverse(False) ➞ True\n",
            "reverse(0) ➞ Boolean Expected\n",
            "reverse(None) ➞ Boolean Expected\n"
          ]
        }
      ]
    },
    {
      "cell_type": "markdown",
      "source": [
        "Question3\n",
        "Create a function that returns the thickness (in meters) of a piece of paper after folding it n number of times. The paper starts off with a thickness of 0.5mm.\n",
        "Examples\n",
        "num_layers(1) ➞ \"0.001m\"\n",
        "# Paper folded once is 1mm (equal to 0.001m)\n",
        "\n",
        "num_layers(4) ➞ \"0.008m\"\n",
        "# Paper folded 4 times is 8mm (equal to 0.008m)\n",
        "\n",
        "num_layers(21) ➞ \"1048.576m\"\n",
        "# Paper folded 21 times is 1048576mm (equal to 1048.576m)\n",
        "\n",
        "\n"
      ],
      "metadata": {
        "id": "YNI2VVui6fW4"
      }
    },
    {
      "cell_type": "code",
      "source": [
        "def num_layers(in_num):\n",
        "    out_num = 0.5\n",
        "    for ele in range(in_num):\n",
        "        out_num *= 2\n",
        "    print(f'Output ➞ {out_num/1000}m')\n",
        "    \n",
        "num_layers(1)\n",
        "num_layers(4)\n",
        "num_layers(21)"
      ],
      "metadata": {
        "colab": {
          "base_uri": "https://localhost:8080/"
        },
        "id": "LwST_8cx6kbL",
        "outputId": "7a1a809f-62a1-4fbf-dd00-955aaf8ad94d"
      },
      "execution_count": 3,
      "outputs": [
        {
          "output_type": "stream",
          "name": "stdout",
          "text": [
            "Output ➞ 0.001m\n",
            "Output ➞ 0.008m\n",
            "Output ➞ 1048.576m\n"
          ]
        }
      ]
    },
    {
      "cell_type": "markdown",
      "source": [
        "Question4\n",
        "Create a function that takes a single string as argument and returns an ordered list containing the indices of all capital letters in the string.\n",
        "Examples\n",
        "index_of_caps(\"eDaBiT\") ➞ [1, 3, 5]\n",
        "\n",
        "index_of_caps(\"eQuINoX\") ➞ [1, 3, 4, 6]\n",
        "\n",
        "index_of_caps(\"determine\") ➞ []\n",
        "\n",
        "index_of_caps(\"STRIKE\") ➞ [0, 1, 2, 3, 4, 5]\n",
        "\n",
        "index_of_caps(\"sUn\") ➞ [1]\n"
      ],
      "metadata": {
        "id": "rVtZ8YF26rji"
      }
    },
    {
      "cell_type": "code",
      "source": [
        "def index_of_caps(in_string):\n",
        "    out_string = []\n",
        "    for ele in in_string:\n",
        "        if ele.isupper():\n",
        "            out_string.append(in_string.index(ele))\n",
        "    print(f'{in_string} ➞ {out_string}')\n",
        "\n",
        "index_of_caps(\"eDaBiT\")\n",
        "index_of_caps(\"eQuINoX\")\n",
        "index_of_caps(\"determine\")\n",
        "index_of_caps(\"STRIKE\")\n",
        "index_of_caps(\"sUn\")"
      ],
      "metadata": {
        "colab": {
          "base_uri": "https://localhost:8080/"
        },
        "id": "Gf7q7XGi6wNC",
        "outputId": "2bbbdfe5-fcbd-4de2-ab50-4cee03ced419"
      },
      "execution_count": 4,
      "outputs": [
        {
          "output_type": "stream",
          "name": "stdout",
          "text": [
            "eDaBiT ➞ [1, 3, 5]\n",
            "eQuINoX ➞ [1, 3, 4, 6]\n",
            "determine ➞ []\n",
            "STRIKE ➞ [0, 1, 2, 3, 4, 5]\n",
            "sUn ➞ [1]\n"
          ]
        }
      ]
    },
    {
      "cell_type": "markdown",
      "source": [
        "Question5\n",
        "Using list comprehensions, create a function that finds all even numbers from 1 to the given number.\n",
        "Examples\n",
        "find_even_nums(8) ➞ [2, 4, 6, 8]\n",
        "\n",
        "find_even_nums(4) ➞ [2, 4]\n",
        "\n",
        "find_even_nums(2) ➞ [2]\n",
        "\n"
      ],
      "metadata": {
        "id": "PO-HG5q663qb"
      }
    },
    {
      "cell_type": "code",
      "source": [
        "def find_even_nums(in_num):\n",
        "    out_list = [i for i in range(1,in_num+1) if i%2 == 0]\n",
        "    print(f'Output ➞ {out_list}')\n",
        "    \n",
        "find_even_nums(8)\n",
        "find_even_nums(4)\n",
        "find_even_nums(2)"
      ],
      "metadata": {
        "colab": {
          "base_uri": "https://localhost:8080/"
        },
        "id": "0DP3bRDf68Da",
        "outputId": "65e58f3f-1e88-4d53-fdad-46275ac4aa78"
      },
      "execution_count": 5,
      "outputs": [
        {
          "output_type": "stream",
          "name": "stdout",
          "text": [
            "Output ➞ [2, 4, 6, 8]\n",
            "Output ➞ [2, 4]\n",
            "Output ➞ [2]\n"
          ]
        }
      ]
    },
    {
      "cell_type": "code",
      "source": [],
      "metadata": {
        "id": "5NK8cy0-7N80"
      },
      "execution_count": null,
      "outputs": []
    }
  ]
}
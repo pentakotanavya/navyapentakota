{
  "nbformat": 4,
  "nbformat_minor": 0,
  "metadata": {
    "colab": {
      "provenance": [],
      "authorship_tag": "ABX9TyMs07e+wCp73JkZ6v7zDhab",
      "include_colab_link": true
    },
    "kernelspec": {
      "name": "python3",
      "display_name": "Python 3"
    },
    "language_info": {
      "name": "python"
    }
  },
  "cells": [
    {
      "cell_type": "markdown",
      "metadata": {
        "id": "view-in-github",
        "colab_type": "text"
      },
      "source": [
        "<a href=\"https://colab.research.google.com/github/pentakotanavya/navyapentakota/blob/main/program_assign_2.ipynb\" target=\"_parent\"><img src=\"https://colab.research.google.com/assets/colab-badge.svg\" alt=\"Open In Colab\"/></a>"
      ]
    },
    {
      "cell_type": "code",
      "execution_count": null,
      "metadata": {
        "id": "KiYUaHZFr_02"
      },
      "outputs": [],
      "source": []
    },
    {
      "cell_type": "markdown",
      "source": [
        "1.\tWrite a Python program to convert kilometers to miles?"
      ],
      "metadata": {
        "id": "QE7c9gzBsGia"
      }
    },
    {
      "cell_type": "code",
      "source": [
        "                                                             # 1 kilometer equals 0.62137 miles.\n",
        "                                                               # Miles = kilometer * 0.62137   \n",
        "km = float(input(\"Enter kilometers \"))\n",
        "print(f\"{km} kilometers = {km * 0.62137} miles\")"
      ],
      "metadata": {
        "colab": {
          "base_uri": "https://localhost:8080/"
        },
        "id": "3ij8ve1ssZ22",
        "outputId": "beec702c-ee76-4cf5-ff68-44ae6f72508e"
      },
      "execution_count": 2,
      "outputs": [
        {
          "output_type": "stream",
          "name": "stdout",
          "text": [
            "Enter kilometers 5\n",
            "5.0 kilometers = 3.1068499999999997 miles\n"
          ]
        }
      ]
    },
    {
      "cell_type": "markdown",
      "source": [
        "2.\tWrite a Python program to convert Celsius to Fahrenheit?"
      ],
      "metadata": {
        "id": "Hxwr0fWNzxQc"
      }
    },
    {
      "cell_type": "code",
      "source": [
        "                                   #F = (9/5)*C + 32\n",
        "C = float(input(\"Enter Celsius \"))\n",
        "print(f\"{C} Celsius = {(9/5)*C + 32} Fahrenheit\")                                   "
      ],
      "metadata": {
        "colab": {
          "base_uri": "https://localhost:8080/"
        },
        "id": "91_5UxQpz7GA",
        "outputId": "1530d025-8ebf-40fc-decd-d726a674ce89"
      },
      "execution_count": 3,
      "outputs": [
        {
          "output_type": "stream",
          "name": "stdout",
          "text": [
            "Enter Celsius 20\n",
            "20.0 Celsius = 68.0 Fahrenheit\n"
          ]
        }
      ]
    },
    {
      "cell_type": "markdown",
      "source": [
        "3.\tWrite a Python program to display calendar?"
      ],
      "metadata": {
        "id": "XvT8IxHI0p-r"
      }
    },
    {
      "cell_type": "code",
      "source": [
        "# importing calendar module\n",
        "import calendar\n",
        "\n",
        "yy = int(input(\"Enter year : \")) # year\n",
        "mm = int(input(\"Enter month : \")) # month\n",
        "\n",
        "print(calendar.month(yy, mm)) #displaying"
      ],
      "metadata": {
        "colab": {
          "base_uri": "https://localhost:8080/"
        },
        "id": "YRtDqD8N1BuV",
        "outputId": "51ebeece-e210-4aff-a55b-3edf7d601a05"
      },
      "execution_count": 5,
      "outputs": [
        {
          "output_type": "stream",
          "name": "stdout",
          "text": [
            "Enter year :  2022\n",
            "Enter month : 12\n",
            "   December 2022\n",
            "Mo Tu We Th Fr Sa Su\n",
            "          1  2  3  4\n",
            " 5  6  7  8  9 10 11\n",
            "12 13 14 15 16 17 18\n",
            "19 20 21 22 23 24 25\n",
            "26 27 28 29 30 31\n",
            "\n"
          ]
        }
      ]
    },
    {
      "cell_type": "markdown",
      "source": [
        "4.\tWrite a Python program to solve quadratic equation?"
      ],
      "metadata": {
        "id": "0isHpFGm1rUF"
      }
    },
    {
      "cell_type": "code",
      "source": [
        "                            # ax^2 + bx + c\n",
        "                            #coefficient a must not equal to zero\n",
        "import cmath                            \n",
        "a = float(input(\"coefficient a : \"))\n",
        "if a == 0: \n",
        "        print(\"Invalid value\")\n",
        "else :\n",
        "     b = float(input(\"coefficient b : \"))\n",
        "     c = float(input(\"coefficient c : \"))\n",
        "    \n",
        "dis = (b**2) - (4 * a*c)\n",
        "  \n",
        "# find two results\n",
        "ans1 = (-b-cmath.sqrt(dis))/(2 * a)\n",
        "ans2 = (-b + cmath.sqrt(dis))/(2 * a)\n",
        "  \n",
        "# printing the results\n",
        "print('The roots are')\n",
        "print(ans1)\n",
        "print(ans2)\n",
        "\n",
        "                            "
      ],
      "metadata": {
        "colab": {
          "base_uri": "https://localhost:8080/"
        },
        "id": "XKRgYLxZ4xAu",
        "outputId": "52bc8ae1-5b96-4803-e41c-2f1de25d994c"
      },
      "execution_count": 13,
      "outputs": [
        {
          "output_type": "stream",
          "name": "stdout",
          "text": [
            "coefficient a :  1\n",
            "coefficient b : 4\n",
            "coefficient c : 2\n",
            "The roots are\n",
            "(-3.414213562373095+0j)\n",
            "(-0.5857864376269049+0j)\n"
          ]
        }
      ]
    },
    {
      "cell_type": "markdown",
      "source": [
        "5.\tWrite a Python program to swap two variables without temp variable?"
      ],
      "metadata": {
        "id": "d0wN4PNt8hPt"
      }
    },
    {
      "cell_type": "code",
      "source": [
        "a = int(input(\"Enter value of first variable : \"))\n",
        "b = int(input(\"Enter value of second variable : \"))\n",
        "a = a + b\n",
        "b = a - b\n",
        "a = a - b\n",
        "print(\"After swapping: \")\n",
        "print(\"a = \",a)\n",
        "print(\"b = \",b)"
      ],
      "metadata": {
        "colab": {
          "base_uri": "https://localhost:8080/"
        },
        "id": "Co0xTOcB8vta",
        "outputId": "ff0da32e-7962-4fc8-8a61-a066db7b066f"
      },
      "execution_count": 14,
      "outputs": [
        {
          "output_type": "stream",
          "name": "stdout",
          "text": [
            "Enter value of first variable : 3\n",
            "Enter value of second variable : 5\n",
            "After swapping: \n",
            "a =  5\n",
            "b =  3\n"
          ]
        }
      ]
    },
    {
      "cell_type": "markdown",
      "source": [],
      "metadata": {
        "id": "qn5UDBqZ9VNI"
      }
    }
  ]
}
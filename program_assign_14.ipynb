{
  "nbformat": 4,
  "nbformat_minor": 0,
  "metadata": {
    "colab": {
      "provenance": [],
      "authorship_tag": "ABX9TyMiHsk7+9MJHlzzj4TTFm64",
      "include_colab_link": true
    },
    "kernelspec": {
      "name": "python3",
      "display_name": "Python 3"
    },
    "language_info": {
      "name": "python"
    },
    "gpuClass": "standard"
  },
  "cells": [
    {
      "cell_type": "markdown",
      "metadata": {
        "id": "view-in-github",
        "colab_type": "text"
      },
      "source": [
        "<a href=\"https://colab.research.google.com/github/pentakotanavya/navyapentakota/blob/main/program_assign_14.ipynb\" target=\"_parent\"><img src=\"https://colab.research.google.com/assets/colab-badge.svg\" alt=\"Open In Colab\"/></a>"
      ]
    },
    {
      "cell_type": "markdown",
      "source": [
        "1.Define a class with a generator which can iterate the numbers, which are divisible by 7, between a given range 0 and n."
      ],
      "metadata": {
        "id": "uSBt6fzleByv"
      }
    },
    {
      "cell_type": "code",
      "source": [
        "n = int(input())\n",
        "divBy7 = [i for i in range(0, n) if (i % 7 == 0)]\n",
        "print(divBy7)\n",
        "def putNumbers(n):\n",
        "    i = 0\n",
        "    while i<=n :\n",
        "        if i % 7 == 0:\n",
        "             print(i)\n",
        "             yield(i)\n",
        "\n",
        "putNumbers(n)"
      ],
      "metadata": {
        "id": "95Wc6rj5e8Ur",
        "colab": {
          "base_uri": "https://localhost:8080/"
        },
        "outputId": "24609429-d4b1-403b-a91d-e05139417ec3"
      },
      "execution_count": 2,
      "outputs": [
        {
          "output_type": "stream",
          "name": "stdout",
          "text": [
            "100\n",
            "[0, 7, 14, 21, 28, 35, 42, 49, 56, 63, 70, 77, 84, 91, 98]\n"
          ]
        },
        {
          "output_type": "execute_result",
          "data": {
            "text/plain": [
              "<generator object putNumbers at 0x7ffa02b58ac0>"
            ]
          },
          "metadata": {},
          "execution_count": 2
        }
      ]
    },
    {
      "cell_type": "markdown",
      "source": [
        "2.Write a program to compute the frequency of the words from the input. The output should output after sorting the key alphanumerically. \n",
        "\n",
        "Suppose the following input is supplied to the program:\n",
        "\n",
        "New to Python or choosing between Python 2 and Python 3? Read Python 2 or Python 3.\n",
        "\n",
        "Then, the output should be:\n",
        "\n",
        "2:2\n",
        "\n",
        "3.:1\n",
        "\n",
        "3?:1\n",
        "\n",
        "New:1\n",
        "\n",
        "Python:5\n",
        "\n",
        "Read:1\n",
        "\n",
        "and:1\n",
        "\n",
        "between:1\n",
        "\n",
        "choosing:1\n",
        "\n",
        "or:2\n",
        "\n",
        "to:1\n"
      ],
      "metadata": {
        "id": "whKYnjZThgp2"
      }
    },
    {
      "cell_type": "code",
      "source": [
        "def checkFrequency():\n",
        "    in_string = input(\"Enter the Input String: \")\n",
        "    frequency = {}\n",
        "    for ele in in_string.split(\" \"):\n",
        "        if(frequency.get(ele) == None):\n",
        "            frequency[ele] = 1\n",
        "        else:\n",
        "            frequency[ele] += 1 \n",
        "    for ele in sorted(frequency):\n",
        "        print(f'{ele}:{frequency[ele]}',end=\" \")\n",
        "checkFrequency()"
      ],
      "metadata": {
        "id": "Gum9jSE9h0d5",
        "colab": {
          "base_uri": "https://localhost:8080/"
        },
        "outputId": "e568a92b-5756-41dc-b066-d135cfd4d807"
      },
      "execution_count": 3,
      "outputs": [
        {
          "output_type": "stream",
          "name": "stdout",
          "text": [
            "Enter the Input String: New to Python or choosing between Python 2 and Python 3? Read Python 2 or Python 3\n",
            "2:2 3:1 3?:1 New:1 Python:5 Read:1 and:1 between:1 choosing:1 or:2 to:1 "
          ]
        }
      ]
    },
    {
      "cell_type": "markdown",
      "source": [
        "3.Define a class Person and its two child classes: Male and Female. All classes have a method \"getGender\" which can print \"Male\" for Male class and \"Female\" for Female class."
      ],
      "metadata": {
        "id": "dmgkWBrLiLAT"
      }
    },
    {
      "cell_type": "code",
      "source": [
        "class Person():\n",
        "    def getGender():\n",
        "        pass\n",
        "    \n",
        "class Male(Person):\n",
        "    def getGender():\n",
        "        print(\"Male\")\n",
        "        \n",
        "class Female(Person):\n",
        "    def getGender():\n",
        "        print(\"Female\")\n",
        "\n",
        "Male.getGender()\n",
        "Female.getGender()"
      ],
      "metadata": {
        "id": "1q1VqIPViV-o",
        "colab": {
          "base_uri": "https://localhost:8080/"
        },
        "outputId": "7696f025-63dc-4159-f5cb-f90e965d47f7"
      },
      "execution_count": 4,
      "outputs": [
        {
          "output_type": "stream",
          "name": "stdout",
          "text": [
            "Male\n",
            "Female\n"
          ]
        }
      ]
    },
    {
      "cell_type": "markdown",
      "source": [
        "4.Please write a program to generate all sentences where subject is in [\"I\", \"You\"] and verb is in [\"Play\", \"Love\"] and the object is in [\"Hockey\",\"Football\"].\n",
        "\n"
      ],
      "metadata": {
        "id": "DsYChu9lilEV"
      }
    },
    {
      "cell_type": "code",
      "source": [
        "def generateSentences():\n",
        "    subject = ['I','You']\n",
        "    verb = ['Play','Love']\n",
        "    object = ['Hockey','Football']\n",
        "    for s in subject:\n",
        "        for v in verb:\n",
        "            for o in object:\n",
        "                print(f'{s} {v} {o}')\n",
        "generateSentences()          "
      ],
      "metadata": {
        "id": "g_tpQJYCio3d",
        "colab": {
          "base_uri": "https://localhost:8080/"
        },
        "outputId": "3aa20226-4fd5-4d40-ea3a-b4c214233aee"
      },
      "execution_count": 5,
      "outputs": [
        {
          "output_type": "stream",
          "name": "stdout",
          "text": [
            "I Play Hockey\n",
            "I Play Football\n",
            "I Love Hockey\n",
            "I Love Football\n",
            "You Play Hockey\n",
            "You Play Football\n",
            "You Love Hockey\n",
            "You Love Football\n"
          ]
        }
      ]
    },
    {
      "cell_type": "markdown",
      "source": [
        "5.Please write a program to compress and decompress the string \"hello world!hello world!hello world!hello world!\".\n",
        "\n"
      ],
      "metadata": {
        "id": "jQohbu8ti-Qz"
      }
    },
    {
      "cell_type": "code",
      "source": [
        "def compress(in_string):\n",
        "    output = in_string[0]\n",
        "    count = 1\n",
        "    for ele in range(len(in_string)-1):\n",
        "        if in_string[ele] == in_string[ele+1]:\n",
        "            count +=1\n",
        "        else:\n",
        "            if count > 1:\n",
        "                output += str(count)\n",
        "            output += in_string[ele+1]\n",
        "            count = 1\n",
        "    if count > 1:\n",
        "        output += str(count)            \n",
        "    print(output)\n",
        "\n",
        "\n",
        "def decompress(in_string):\n",
        "    output = ''\n",
        "    for ele in range(len(in_string)):\n",
        "        if in_string[ele].isdigit():\n",
        "            output += output[-1]*(int(in_string[ele])-1)\n",
        "        else:\n",
        "            output += in_string[ele]\n",
        "    print(output)\n",
        "    \n",
        "        \n",
        "compress(\"hello world!hello world!hello world!hello world!\")\n",
        "decompress(\"hello world!hello world!hello world!hello world!\")"
      ],
      "metadata": {
        "id": "2SFN61x3jDw0",
        "colab": {
          "base_uri": "https://localhost:8080/"
        },
        "outputId": "3230ff13-f1dd-4d18-c2a3-be998559b511"
      },
      "execution_count": 6,
      "outputs": [
        {
          "output_type": "stream",
          "name": "stdout",
          "text": [
            "hel2o world!hel2o world!hel2o world!hel2o world!\n",
            "hello world!hello world!hello world!hello world!\n"
          ]
        }
      ]
    },
    {
      "cell_type": "markdown",
      "source": [
        "6.Please write a binary search function which searches an item in a sorted list. The function should return the index of element to be searched in the list."
      ],
      "metadata": {
        "id": "YndgwyoIjlTi"
      }
    },
    {
      "cell_type": "code",
      "source": [
        "def binarySearch(arr, l, r, x):\n",
        " \n",
        "    while l <= r:\n",
        " \n",
        "        mid = l + (r - l) // 2\n",
        " \n",
        "        # Check if x is present at mid\n",
        "        if arr[mid] == x:\n",
        "            return mid\n",
        " \n",
        "        # If x is greater, ignore left half\n",
        "        elif arr[mid] < x:\n",
        "            l = mid + 1\n",
        " \n",
        "        # If x is smaller, ignore right half\n",
        "        else:\n",
        "            r = mid - 1\n",
        " \n",
        "    # If we reach here, then the element\n",
        "    # was not present\n",
        "    return -1\n",
        " \n",
        " \n",
        "\n",
        "if __name__ == '__main__':\n",
        "    arr = [2, 3, 4, 10, 40]\n",
        "    x = int(input(\"enter the element to be search\"))\n",
        " \n",
        "    # Function call\n",
        "    result = binarySearch(arr, 0, len(arr)-1, x)\n",
        "    if result != -1:\n",
        "        print(\"Element is present at index\", result)\n",
        "    else:\n",
        "        print(\"Element is not present in array\")\n"
      ],
      "metadata": {
        "id": "IawG45m6kNik",
        "colab": {
          "base_uri": "https://localhost:8080/"
        },
        "outputId": "ad62a3a6-d64f-4eb3-c0f4-2831d3a8b4aa"
      },
      "execution_count": 7,
      "outputs": [
        {
          "output_type": "stream",
          "name": "stdout",
          "text": [
            "enter the element to be search4\n",
            "Element is present at index 2\n"
          ]
        }
      ]
    }
  ]
}
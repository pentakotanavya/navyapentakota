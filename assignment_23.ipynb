{
  "nbformat": 4,
  "nbformat_minor": 0,
  "metadata": {
    "colab": {
      "private_outputs": true,
      "provenance": [],
      "authorship_tag": "ABX9TyMUI5rXcDKjcIenKJfLZTkl",
      "include_colab_link": true
    },
    "kernelspec": {
      "name": "python3",
      "display_name": "Python 3"
    },
    "language_info": {
      "name": "python"
    }
  },
  "cells": [
    {
      "cell_type": "markdown",
      "metadata": {
        "id": "view-in-github",
        "colab_type": "text"
      },
      "source": [
        "<a href=\"https://colab.research.google.com/github/pentakotanavya/navyapentakota/blob/main/assignment_23.ipynb\" target=\"_parent\"><img src=\"https://colab.research.google.com/assets/colab-badge.svg\" alt=\"Open In Colab\"/></a>"
      ]
    },
    {
      "cell_type": "markdown",
      "source": [
        "1. What is the result of the code, and why?\n",
        ">>> def func(a, b=6, c=8):\n",
        "print(a, b, c)\n",
        ">>> func(1, 2)\n"
      ],
      "metadata": {
        "id": "GL3g_xqjreZN"
      }
    },
    {
      "cell_type": "code",
      "source": [
        "def func(a, b=6, c=8):\n",
        "      print(a, b, c)\n",
        "func(1, 2)\n"
      ],
      "metadata": {
        "id": "q5W7DKj-rgrd"
      },
      "execution_count": null,
      "outputs": []
    },
    {
      "cell_type": "markdown",
      "source": [
        "here we use to print a,b,c in the function and we gave the values to these arguments. when we call the function with the values 1 and 2 , the compiler will assign them to first two arguments in the function. so, the result is 1, 2, 1nd 8"
      ],
      "metadata": {
        "id": "I9WMYVomrr8g"
      }
    },
    {
      "cell_type": "markdown",
      "source": [
        "2. What is the result of this code, and why?\n",
        ">>> def func(a, b, c=5):\n",
        "print(a, b, c)\n",
        ">>> func(1, c=3, b=2)\n"
      ],
      "metadata": {
        "id": "QJBfv7VlsG8L"
      }
    },
    {
      "cell_type": "code",
      "source": [
        "\n",
        "def func(a, b, c=5):\n",
        "   print(a, b, c)\n",
        "func(1, c=3, b=2)\n"
      ],
      "metadata": {
        "id": "plLLmRSWsLaZ"
      },
      "execution_count": null,
      "outputs": []
    },
    {
      "cell_type": "markdown",
      "source": [
        "here we call the function with 1, c=3, b=2. so, it will assign 1 to a ,2 to b and c to 3. but while calling th function the compiler matches it with the function definition. so, the output is 1 2 3"
      ],
      "metadata": {
        "id": "-7QDXbg4sc4d"
      }
    },
    {
      "cell_type": "markdown",
      "source": [
        "3. How about this code: what is its result, and why?\n",
        ">>> def func(a, *pargs):\n",
        "print(a, pargs)\n",
        ">>> func(1, 2, 3)\n"
      ],
      "metadata": {
        "id": "ic-FqZGgtEtT"
      }
    },
    {
      "cell_type": "code",
      "source": [
        "def func(a, *pargs):\n",
        "    print(a, pargs)\n",
        "func(1, 2, 3)\n"
      ],
      "metadata": {
        "id": "H9p2vIxjtJX7"
      },
      "execution_count": null,
      "outputs": []
    },
    {
      "cell_type": "markdown",
      "source": [
        "*pargs allows multiple arguments. so, here when we call the function it takes first value to the first argument a and the remaining to the *pargs i.e.,it gives a seperately and remaining values seperately."
      ],
      "metadata": {
        "id": "A21C4EDWtWMG"
      }
    },
    {
      "cell_type": "markdown",
      "source": [
        "4. What does this code print, and why?\n",
        ">>> def func(a, **kargs):\n",
        "print(a, kargs)\n",
        ">>> func(a=1, c=3, b=2)\n"
      ],
      "metadata": {
        "id": "YeO0spj2tvTl"
      }
    },
    {
      "cell_type": "code",
      "source": [
        "def func(a, **kargs):\n",
        "     print(a, kargs)\n",
        "func(a=1, c=3, b=2)\n"
      ],
      "metadata": {
        "id": "YbJSXuCfty2b"
      },
      "execution_count": null,
      "outputs": []
    },
    {
      "cell_type": "markdown",
      "source": [
        "**kargs gives like key value pairs i.e., like dictionary. so, the result will be 1 {'c': 3, 'b': 2}"
      ],
      "metadata": {
        "id": "PCaVyGiAt-R5"
      }
    },
    {
      "cell_type": "markdown",
      "source": [
        "5. What gets printed by this, and explain?\n",
        ">>> def func(a, b, c=8, d=5): print(a, b, c, d)\n",
        ">>> func(1, *(5, 6))\n"
      ],
      "metadata": {
        "id": "RY6KSlyruJT4"
      }
    },
    {
      "cell_type": "code",
      "source": [
        "def func(a, b, c=8, d=5):\n",
        "   print(a, b, c, d)\n",
        "func(1, *(5, 6))\n"
      ],
      "metadata": {
        "id": "31yRWlusuU-x"
      },
      "execution_count": null,
      "outputs": []
    },
    {
      "cell_type": "markdown",
      "source": [
        "The output of the above is 1 5 6 5. here the function expects 4 arguments. the value for a is provided explicitly whereas for arguments b and c, the function will expand the *(5,6) and consider the value of b as 5 and value of c as 6. since the default value of d is provided in function declaration d value will be 5. "
      ],
      "metadata": {
        "id": "XUz58q4huou8"
      }
    },
    {
      "cell_type": "markdown",
      "source": [
        "6. what is the result of this, and explain?\n",
        ">>> def func(a, b, c): a = 2; b[0] = 'x'; c['a'] = 'y'\n",
        ">>> l=1; m=[1]; n={'a':0}\n",
        ">>> func(l, m, n)\n",
        ">>> l, m, n\n",
        "\n",
        "\n",
        "\n",
        "---\n",
        "\n"
      ],
      "metadata": {
        "id": "i2TtrjXPu0mc"
      }
    },
    {
      "cell_type": "code",
      "source": [
        "def func(a, b, c):a = 2; b[0] = 'x'; c['a'] = 'y'\n",
        "l=1; m=[1]; n={'a':0}\n",
        "func(l, m, n)\n",
        "l, m, n\n",
        "\n"
      ],
      "metadata": {
        "id": "gYT48RMGu-3S"
      },
      "execution_count": null,
      "outputs": []
    },
    {
      "cell_type": "markdown",
      "source": [
        "The output of above code is 1, ['x'], {'a': 'y'}.\n",
        "\n",
        "Eventhough Python gives importance to indentation. its provides a facility to declare an entire function in one single line. where statements in a function body are sepereated by ;\n",
        "When l,m,n are provided as inputs to the function. its modifies the values of l,m,n and sets the value of l=2 ,m=['x'] and n={'a':'y'}"
      ],
      "metadata": {
        "id": "22GJGAkgvSJv"
      }
    }
  ]
}
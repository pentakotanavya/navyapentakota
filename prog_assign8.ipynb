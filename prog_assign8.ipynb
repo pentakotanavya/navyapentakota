{
  "nbformat": 4,
  "nbformat_minor": 0,
  "metadata": {
    "colab": {
      "provenance": [],
      "authorship_tag": "ABX9TyP0u8qCsHqH7OHpU+I9vTC+",
      "include_colab_link": true
    },
    "kernelspec": {
      "name": "python3",
      "display_name": "Python 3"
    },
    "language_info": {
      "name": "python"
    }
  },
  "cells": [
    {
      "cell_type": "markdown",
      "metadata": {
        "id": "view-in-github",
        "colab_type": "text"
      },
      "source": [
        "<a href=\"https://colab.research.google.com/github/pentakotanavya/navyapentakota/blob/main/prog_assign8.ipynb\" target=\"_parent\"><img src=\"https://colab.research.google.com/assets/colab-badge.svg\" alt=\"Open In Colab\"/></a>"
      ]
    },
    {
      "cell_type": "markdown",
      "source": [
        "Write a Python Program to Add Two Matrices?"
      ],
      "metadata": {
        "id": "w30eHIwa5fwN"
      }
    },
    {
      "cell_type": "code",
      "source": [
        "a = [[1,2,3],\n",
        "    [4 ,5,6],\n",
        "    [7 ,8,9]]\n",
        "   \n",
        "b = [[10,11,12],\n",
        "    [13,14,15],\n",
        "    [16,17,18]]\n",
        "   \n",
        "  \n",
        "c = [[0,0,0],\n",
        "         [0,0,0],\n",
        "         [0,0,0]]\n",
        "  \n",
        "\n",
        "for i in range(len(a)):\n",
        " \n",
        "   \n",
        "   for j in range(len(a[0])):\n",
        "       c[i][j] = a[i][j] + b[i][j]\n",
        "  \n",
        "for k in c:\n",
        "     print(k)"
      ],
      "metadata": {
        "colab": {
          "base_uri": "https://localhost:8080/"
        },
        "id": "A7LaZEyQ5iIB",
        "outputId": "26b72c69-ddb8-4205-f8b4-debedb3db5a4"
      },
      "execution_count": 2,
      "outputs": [
        {
          "output_type": "stream",
          "name": "stdout",
          "text": [
            "[11, 13, 15]\n",
            "[17, 19, 21]\n",
            "[23, 25, 27]\n"
          ]
        }
      ]
    },
    {
      "cell_type": "markdown",
      "source": [
        "Write a Python Program to Multiply Two Matrices?"
      ],
      "metadata": {
        "id": "lQXzzUjX7wn8"
      }
    },
    {
      "cell_type": "code",
      "source": [
        "a = [[1,2,3],\n",
        "    [4 ,5,6],\n",
        "    [7 ,8,9]]\n",
        "   \n",
        "b = [[10,11,12],\n",
        "    [13,14,15],\n",
        "    [16,17,18]]\n",
        "   \n",
        "  \n",
        "c = [[0,0,0],\n",
        "         [0,0,0],\n",
        "         [0,0,0]]\n",
        "\n",
        "for i in range(len(a)):\n",
        " \n",
        "   for j in range(len(b[0])):\n",
        " \n",
        "       for k in range(len(b)):\n",
        "            c[i][j] += a[i][k] * b[k][j]\n",
        " \n",
        "for r in c:\n",
        "    print(r)         "
      ],
      "metadata": {
        "colab": {
          "base_uri": "https://localhost:8080/"
        },
        "id": "s0RXnlwf7_B6",
        "outputId": "7eeaa1d6-02a0-43ef-81dc-ba53360deaaf"
      },
      "execution_count": 4,
      "outputs": [
        {
          "output_type": "stream",
          "name": "stdout",
          "text": [
            "[84, 90, 96]\n",
            "[201, 216, 231]\n",
            "[318, 342, 366]\n"
          ]
        }
      ]
    },
    {
      "cell_type": "markdown",
      "source": [
        "Write a Python Program to Transpose a Matrix?"
      ],
      "metadata": {
        "id": "fmvhz6ec8pZX"
      }
    },
    {
      "cell_type": "code",
      "source": [
        "a = [[1,2,3],\n",
        "    [4 ,5,6],\n",
        "    [7,8,9]]\n",
        "\n",
        "t = [[0,0,0],\n",
        "         [0,0,0],\n",
        "     [0,0,0,]]\n",
        "\n",
        "# iterate through rows\n",
        "for i in range(len(a)):\n",
        "   # iterate through columns\n",
        "   for j in range(len(a[0])):\n",
        "       t[j][i] = a[i][j]\n",
        "\n",
        "for k in t:\n",
        "   print(k)"
      ],
      "metadata": {
        "colab": {
          "base_uri": "https://localhost:8080/"
        },
        "id": "d-_9j8RW8wtg",
        "outputId": "c77fa6e1-5e08-4662-fc72-4c44e0d40083"
      },
      "execution_count": 6,
      "outputs": [
        {
          "output_type": "stream",
          "name": "stdout",
          "text": [
            "[1, 4, 7]\n",
            "[2, 5, 8]\n",
            "[3, 6, 9]\n"
          ]
        }
      ]
    },
    {
      "cell_type": "markdown",
      "source": [
        "Write a Python Program to Sort Words in Alphabetic Order?"
      ],
      "metadata": {
        "id": "oz93Oa0I9eQj"
      }
    },
    {
      "cell_type": "code",
      "source": [
        "w = input(\"Enter the word : \")\n",
        "\n",
        "sw = sorted(w)\n",
        "print(f\"sorted word is: {sw}\")"
      ],
      "metadata": {
        "colab": {
          "base_uri": "https://localhost:8080/"
        },
        "id": "CtfKjrpt9m36",
        "outputId": "9847c5f1-edc5-445c-9bd1-47ed30111daf"
      },
      "execution_count": 8,
      "outputs": [
        {
          "output_type": "stream",
          "name": "stdout",
          "text": [
            "Enter the word : navya\n",
            "sorted word is: ['a', 'a', 'n', 'v', 'y']\n"
          ]
        }
      ]
    },
    {
      "cell_type": "markdown",
      "source": [
        "Write a Python Program to Remove Punctuation From a String?"
      ],
      "metadata": {
        "id": "pFmLbZOB-OhK"
      }
    },
    {
      "cell_type": "code",
      "source": [
        "s = \"Hi, I am navya. How are you ?\"\n",
        "print(\"The original string is : \" + s)\n",
        "punc = '''!()-[]{};:'\"\\,<>./?@#$%^&*_~'''\n",
        " \n",
        "for i in s:\n",
        "    if i in punc:\n",
        "        s = s.replace(i, \"\")\n",
        " \n",
        "print(\"The string after punctuation filter : \" + s)"
      ],
      "metadata": {
        "colab": {
          "base_uri": "https://localhost:8080/"
        },
        "id": "3m4zmKmg-Zry",
        "outputId": "0f44736d-50a5-4ca7-e458-f289b3199330"
      },
      "execution_count": 15,
      "outputs": [
        {
          "output_type": "stream",
          "name": "stdout",
          "text": [
            "The original string is : Hi, I am navya. How are you ?\n",
            "The string after punctuation filter : Hi I am navya How are you \n"
          ]
        }
      ]
    },
    {
      "cell_type": "markdown",
      "source": [],
      "metadata": {
        "id": "XHLIs7zA_w-Q"
      }
    }
  ]
}
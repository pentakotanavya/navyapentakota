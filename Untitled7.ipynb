{
  "nbformat": 4,
  "nbformat_minor": 0,
  "metadata": {
    "colab": {
      "provenance": [],
      "authorship_tag": "ABX9TyPaqvooeGDSQFu4ltdduSOA",
      "include_colab_link": true
    },
    "kernelspec": {
      "name": "python3",
      "display_name": "Python 3"
    },
    "language_info": {
      "name": "python"
    }
  },
  "cells": [
    {
      "cell_type": "markdown",
      "metadata": {
        "id": "view-in-github",
        "colab_type": "text"
      },
      "source": [
        "<a href=\"https://colab.research.google.com/github/pentakotanavya/navyapentakota/blob/main/Untitled7.ipynb\" target=\"_parent\"><img src=\"https://colab.research.google.com/assets/colab-badge.svg\" alt=\"Open In Colab\"/></a>"
      ]
    },
    {
      "cell_type": "markdown",
      "source": [
        "1.\tWrite a Python Program to find sum of array?"
      ],
      "metadata": {
        "id": "8SOcnaZYHCH-"
      }
    },
    {
      "cell_type": "code",
      "source": [
        "a = [1,2,3,4,5,6,7,8]\n",
        "sum = 0\n",
        "n = len(a)\n",
        "for i in range(0,n):\n",
        "    sum = sum + a[i]\n",
        "    \n",
        "\n",
        "print(\"sum of an array :\", sum)\n"
      ],
      "metadata": {
        "colab": {
          "base_uri": "https://localhost:8080/"
        },
        "id": "leowCw46HIU7",
        "outputId": "767629da-76d7-469c-dae7-586cb3b94ea0"
      },
      "execution_count": 6,
      "outputs": [
        {
          "output_type": "stream",
          "name": "stdout",
          "text": [
            "sum of an array : 36\n"
          ]
        }
      ]
    },
    {
      "cell_type": "markdown",
      "source": [
        "2.\tWrite a Python Program to find largest element in an array?"
      ],
      "metadata": {
        "id": "6YRsuMVhIm7Y"
      }
    },
    {
      "cell_type": "code",
      "source": [
        "a = [1,12,3,4,51,6,7,85,99]\n",
        "largest = 1\n",
        "\n",
        "for i in range(1, len(a)):\n",
        "  if a[i] > a[i-1]:\n",
        "      largest = a[i]\n",
        "    \n",
        "\n",
        "print(\"largest element in an array :\", largest)"
      ],
      "metadata": {
        "colab": {
          "base_uri": "https://localhost:8080/"
        },
        "id": "lAHZ0ulbIzcK",
        "outputId": "b8075e17-8987-4be2-d95e-1ccbd46d635f"
      },
      "execution_count": 16,
      "outputs": [
        {
          "output_type": "stream",
          "name": "stdout",
          "text": [
            "largest element in an array : 99\n"
          ]
        }
      ]
    },
    {
      "cell_type": "markdown",
      "source": [
        "3.\tWrite a Python Program for array rotation?"
      ],
      "metadata": {
        "id": "Fc4FTYO-Kfa5"
      }
    },
    {
      "cell_type": "code",
      "source": [
        "def rotate(array, n, d):\n",
        "    temp = []\n",
        "    i = 0\n",
        "    while (i < d):\n",
        "        temp.append(arr[i])\n",
        "        i = i + 1\n",
        "    i = 0\n",
        "    while (d < n):\n",
        "        arr[i] = arr[d]\n",
        "        i = i + 1\n",
        "        d = d + 1\n",
        "    arr[:] = arr[: i] + temp\n",
        "    return arr\n",
        " \n",
        "\n",
        "arr = [1, 2, 3, 4, 5, 6, 7]\n",
        "print(\"Array after  rotation : \",rotateArray(arr, len(arr), 2))\n"
      ],
      "metadata": {
        "colab": {
          "base_uri": "https://localhost:8080/"
        },
        "id": "QWwf8knxNl3w",
        "outputId": "12c35b3f-99ed-49bf-ab59-0594cf10dc47"
      },
      "execution_count": 18,
      "outputs": [
        {
          "output_type": "stream",
          "name": "stdout",
          "text": [
            "Array after  rotation :  [3, 4, 5, 6, 7, 1, 2]\n"
          ]
        }
      ]
    },
    {
      "cell_type": "markdown",
      "source": [
        "4.\tWrite a Python Program to Split the array and add the first part to the end?"
      ],
      "metadata": {
        "id": "J7VSr34XO1FE"
      }
    },
    {
      "cell_type": "code",
      "source": [
        "def split(arr, n, d):\n",
        "    for i in range(0, d):\n",
        "        x = arr[0]\n",
        "        for j in range(0, n-1):\n",
        "            arr[j] = arr[j + 1]\n",
        "         \n",
        "        arr[n-1] = x\n",
        "        \n",
        "arr = [1,2,3,4,5,6,7,8]\n",
        "n = len(arr)\n",
        "position = int((n+1)/2)\n",
        " \n",
        "split(arr, n, position)\n",
        " \n",
        "for i in range(0, n):\n",
        "    print(arr[i],end=' ')"
      ],
      "metadata": {
        "colab": {
          "base_uri": "https://localhost:8080/"
        },
        "id": "-6GqEOTuPIx-",
        "outputId": "ab4a1edf-a77d-4e79-812b-0ab510a5e598"
      },
      "execution_count": 27,
      "outputs": [
        {
          "output_type": "stream",
          "name": "stdout",
          "text": [
            "5 6 7 8 1 2 3 4 "
          ]
        }
      ]
    },
    {
      "cell_type": "markdown",
      "source": [
        "5.\tWrite a Python Program to check if given array is Monotonic?"
      ],
      "metadata": {
        "id": "ZyHpp2T3RGDI"
      }
    },
    {
      "cell_type": "code",
      "source": [
        "\n",
        "\n",
        "\n",
        "def ismonotone(a):\n",
        "    n=len(a) \n",
        "    if n==1:\n",
        "        return True\n",
        "    else:\n",
        "        \n",
        "        if all(a[i]>=a[i+1] for i in range(0,n-1) or a[i]<=a[i+1] for i in range(0,n-1)):\n",
        "            return True\n",
        "        else:\n",
        "            return False\n",
        "\n",
        "A = [6, 9, 4,3,2,1]\n",
        "print(ismonotone(A))"
      ],
      "metadata": {
        "colab": {
          "base_uri": "https://localhost:8080/"
        },
        "id": "fPJYlRfgRzd7",
        "outputId": "a709dfeb-d4bc-4cb9-9a8c-2cf625e3d2e7"
      },
      "execution_count": 52,
      "outputs": [
        {
          "output_type": "stream",
          "name": "stdout",
          "text": [
            "False\n"
          ]
        }
      ]
    },
    {
      "cell_type": "code",
      "source": [],
      "metadata": {
        "id": "I_obzHl_WYQe"
      },
      "execution_count": null,
      "outputs": []
    }
  ]
}
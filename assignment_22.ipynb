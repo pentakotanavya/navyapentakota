{
  "nbformat": 4,
  "nbformat_minor": 0,
  "metadata": {
    "colab": {
      "private_outputs": true,
      "provenance": [],
      "authorship_tag": "ABX9TyNX8dZh3YulDadF8//YMrYG",
      "include_colab_link": true
    },
    "kernelspec": {
      "name": "python3",
      "display_name": "Python 3"
    },
    "language_info": {
      "name": "python"
    }
  },
  "cells": [
    {
      "cell_type": "markdown",
      "metadata": {
        "id": "view-in-github",
        "colab_type": "text"
      },
      "source": [
        "<a href=\"https://colab.research.google.com/github/pentakotanavya/navyapentakota/blob/main/assignment_22.ipynb\" target=\"_parent\"><img src=\"https://colab.research.google.com/assets/colab-badge.svg\" alt=\"Open In Colab\"/></a>"
      ]
    },
    {
      "cell_type": "markdown",
      "source": [
        "1. What is the result of the code, and explain?\n",
        "\n",
        "\n",
        ">>> X = 'iNeuron'\n",
        ">>> def func():\n",
        "print(X)\n",
        "\n",
        "\n",
        ">>> func()\n"
      ],
      "metadata": {
        "id": "RL4eIvn9h0h8"
      }
    },
    {
      "cell_type": "code",
      "source": [
        "X = 'iNeuron'\n",
        "def func(): \n",
        "  print(X)\n",
        "\n",
        "func()"
      ],
      "metadata": {
        "id": "DBuYOw9ph5Wk"
      },
      "execution_count": null,
      "outputs": []
    },
    {
      "cell_type": "markdown",
      "source": [
        "we use to print the string x which having ineuron as a value in the function body. So, the function will return the ineuron when we call it."
      ],
      "metadata": {
        "id": "6YR45oRViFZe"
      }
    },
    {
      "cell_type": "markdown",
      "source": [
        "2. What is the result of the code, and explain?\n",
        "\n",
        "\n",
        ">>> X = 'iNeuron'\n",
        ">>> def func():\n",
        "X = 'NI!'\n",
        "\n",
        "\n",
        ">>> func()\n",
        ">>> print(X)\n"
      ],
      "metadata": {
        "id": "P87w4hB7idp4"
      }
    },
    {
      "cell_type": "code",
      "source": [
        " X = 'iNeuron'\n",
        "def func():\n",
        "     X = 'NI!'\n",
        "\n",
        "\n",
        "func()\n",
        "print(X)\n"
      ],
      "metadata": {
        "id": "7L0WP7VcimEu"
      },
      "execution_count": null,
      "outputs": []
    },
    {
      "cell_type": "markdown",
      "source": [
        "we didnot use a print inside the function. so, when we call print outside the function only the global variable x=ineuron will be called. so, the result will be ineuron"
      ],
      "metadata": {
        "id": "kiEIlItpjeT2"
      }
    },
    {
      "cell_type": "markdown",
      "source": [
        "3. What does this code print, and why?\n",
        "\n",
        "\n",
        ">>> X = 'iNeuron'\n",
        ">>> def func():\n",
        "X = 'NI'\n",
        "print(X)\n",
        "\n",
        "\n",
        ">>> func()\n",
        ">>> print(X)\n"
      ],
      "metadata": {
        "id": "EG2-r-lej2i0"
      }
    },
    {
      "cell_type": "code",
      "source": [
        "X = 'iNeuron'\n",
        "def func():\n",
        "        X = 'NI'\n",
        "        print(X)\n",
        "\n",
        "\n",
        "func()\n",
        "print(X)\n"
      ],
      "metadata": {
        "id": "6fxt3_6wj682"
      },
      "execution_count": null,
      "outputs": []
    },
    {
      "cell_type": "markdown",
      "source": [
        "in the above code we assign NI to the local variable and we use to print inside the fumction. And we created one global variable having the value ineuron. In this code first we call function() and then print(x).So, first the print() in the function will be called and then the print() outside the function. so, the result will be \n",
        "NI\n",
        "iNeuron"
      ],
      "metadata": {
        "id": "wPuQZrQwk2Ie"
      }
    },
    {
      "cell_type": "markdown",
      "source": [],
      "metadata": {
        "id": "obb-nVCflgrq"
      }
    },
    {
      "cell_type": "markdown",
      "source": [
        "4. What output does this code produce? Why?\n",
        "\n",
        "\n",
        ">>> X = 'iNeuron'\n",
        ">>> def func():\n",
        "global X\n",
        "X = 'NI'\n",
        "\n",
        "\n",
        ">>> func()\n",
        ">>> print(X)\n"
      ],
      "metadata": {
        "id": "0byhxQxwlhBd"
      }
    },
    {
      "cell_type": "code",
      "source": [
        "X = 'iNeuron'\n",
        "def func():\n",
        "    global X\n",
        "    X = 'NI'\n",
        "\n",
        "\n",
        "func()\n",
        "print(X)"
      ],
      "metadata": {
        "id": "HnoBYJCklpSf"
      },
      "execution_count": null,
      "outputs": []
    },
    {
      "cell_type": "markdown",
      "source": [
        "The output of the code is NI. the global keyword allows a variable to be accessible in the current scope. since we are using global keyword inside the function func it directly access the variable in X in global scope. and changes its value to NI. hence the output of the code is NI"
      ],
      "metadata": {
        "id": "MP69ZkOUl8LF"
      }
    },
    {
      "cell_type": "markdown",
      "source": [
        "\n",
        "5. What about this code—what’s the output, and why?\n",
        "\n",
        "\n",
        ">>> X = 'iNeuron'\n",
        ">>> def func():\n",
        "X = 'NI'\n",
        "def nested():\n",
        "print(X)\n",
        "nested()\n",
        "\n",
        "\n",
        ">>> func()\n",
        ">>> X\n",
        "\n"
      ],
      "metadata": {
        "id": "73Xxf2QqmW91"
      }
    },
    {
      "cell_type": "code",
      "source": [
        "X = 'iNeuron'\n",
        "def func():\n",
        "  X = 'NI'\n",
        "  def nested():\n",
        "     print(X)\n",
        "  nested()\n",
        "\n",
        "\n",
        "func()\n",
        "X\n",
        "\n"
      ],
      "metadata": {
        "id": "MwHe7ouCptIj"
      },
      "execution_count": null,
      "outputs": []
    },
    {
      "cell_type": "markdown",
      "source": [
        "we first call the function func() which having nested() in it. so, first ni will be printed and then the global variable eill be printed."
      ],
      "metadata": {
        "id": "htVkqHN0qFED"
      }
    },
    {
      "cell_type": "markdown",
      "source": [
        "6. How about this code: what is its output in Python 3, and explain?\n",
        "\n",
        "\n",
        ">>> def func():\n",
        "X = 'NI'\n",
        "def nested():\n",
        "nonlocal X\n",
        "X = 'Spam'\n",
        "nested()\n",
        "print(X)\n",
        "\n",
        "\n",
        ">>> func()\n",
        "\n",
        "\n",
        "\n"
      ],
      "metadata": {
        "id": "DFpuj8pqqXnI"
      }
    },
    {
      "cell_type": "code",
      "source": [
        "def func():\n",
        "   X = 'NI'\n",
        "   def nested():\n",
        "      nonlocal X\n",
        "      X = 'Spam'\n",
        "   nested()\n",
        "   print(X)\n",
        "\n",
        "\n",
        "func()"
      ],
      "metadata": {
        "id": "ZPAwNFGmqdHp"
      },
      "execution_count": null,
      "outputs": []
    },
    {
      "cell_type": "markdown",
      "source": [
        "The output of the code is Spam. nonlocal keyword wii declare a variable as non local.Hence the statement X = \"Spam\" is modified in the global scope. hence the output will be Spam.\n"
      ],
      "metadata": {
        "id": "uz9e_2kxq3VD"
      }
    }
  ]
}
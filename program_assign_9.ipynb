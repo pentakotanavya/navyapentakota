{
  "nbformat": 4,
  "nbformat_minor": 0,
  "metadata": {
    "colab": {
      "private_outputs": true,
      "provenance": [],
      "authorship_tag": "ABX9TyOIG+FK7KrUlFsw/d97NJmB",
      "include_colab_link": true
    },
    "kernelspec": {
      "name": "python3",
      "display_name": "Python 3"
    },
    "language_info": {
      "name": "python"
    }
  },
  "cells": [
    {
      "cell_type": "markdown",
      "metadata": {
        "id": "view-in-github",
        "colab_type": "text"
      },
      "source": [
        "<a href=\"https://colab.research.google.com/github/pentakotanavya/navyapentakota/blob/main/program_assign_9.ipynb\" target=\"_parent\"><img src=\"https://colab.research.google.com/assets/colab-badge.svg\" alt=\"Open In Colab\"/></a>"
      ]
    },
    {
      "cell_type": "markdown",
      "source": [
        "1.\tWrite a Python program to check if the given number is a Disarium Number?\n",
        "\n",
        "\n",
        "A number is said to be the Disarium number when the sum of its digit raised to the power of their respective positions becomes equal to the number itself.\n",
        "\n",
        "For example, 175 is a Disarium number as follows:\n",
        "\n",
        "1**1+ 7**2 + 5**3 = 1+ 49 + 125 = 175"
      ],
      "metadata": {
        "id": "icOjDe-49qjq"
      }
    },
    {
      "cell_type": "code",
      "source": [
        "#calculateLength() will count the digits present in a number    \n",
        "def calculateLength(n):    \n",
        "    length = 0   \n",
        "    while(n != 0):    \n",
        "        length = length + 1    \n",
        "        n = n//10    \n",
        "    return length    \n",
        "     \n",
        "num = 175    \n",
        "rem = sum = 0    \n",
        "len = calculateLength(num)    \n",
        "     \n",
        "#Makes a copy of the original number num    \n",
        "n = num   \n",
        "     \n",
        "#Calculates the sum of digits powered with their respective position    \n",
        "while(num > 0):    \n",
        "    rem = num%10   \n",
        "    sum = sum + int(rem**len)   \n",
        "    num = num//10\n",
        "    len = len - 1    \n",
        "     \n",
        "#Checks whether the sum is equal to the number itself    \n",
        "if(sum == n):    \n",
        "    print(str(n) + \" is a disarium number\")    \n",
        "else:    \n",
        "    print(str(n) + \" is not a disarium number\")    "
      ],
      "metadata": {
        "id": "3THrW9FD9tBy"
      },
      "execution_count": null,
      "outputs": []
    },
    {
      "cell_type": "markdown",
      "source": [
        "2.\tWrite a Python program to print all disarium numbers between 1 to 100?"
      ],
      "metadata": {
        "id": "xAJQLXeu7MyE"
      }
    },
    {
      "cell_type": "code",
      "source": [
        "#calculateLength() will count the digits present in a number    \n",
        "def calculateLength(n):    \n",
        "    length = 0   \n",
        "    while(n != 0):    \n",
        "        length = length + 1    \n",
        "        n = n//10    \n",
        "    return length\n",
        "     \n",
        "#sumOfDigits() will calculates the sum of digits powered with their respective position    \n",
        "def sumOfDigits(num):    \n",
        "    rem = sum = 0    \n",
        "    len = calculateLength(num)    \n",
        "        \n",
        "    while(num > 0):    \n",
        "        rem = num%10\n",
        "        sum = sum + (rem**len)    \n",
        "        num = num//10\n",
        "        len = len - 1    \n",
        "    return sum\n",
        "      \n",
        "result = 0 \n",
        "     \n",
        "#Displays all disarium numbers between 1 and 100    \n",
        "print(\"Disarium numbers between 1 and 100 are\")    \n",
        "for i in range(1, 101):    \n",
        "    result = sumOfDigits(i)\n",
        "        \n",
        "    if(result == i):    \n",
        "        print(i)"
      ],
      "metadata": {
        "id": "3C18Eje47NtT"
      },
      "execution_count": null,
      "outputs": []
    },
    {
      "cell_type": "markdown",
      "source": [
        "3.\tWrite a Python program to check if the given number is Happy Number?\n",
        "\n",
        "\n",
        "a  number is said to be happy if it yields 1 when replaced by the sum of squares of its digits repeatedly. If this process results in an endless cycle of numbers containing 4, then the number will be an unhappy number.\n",
        "\n",
        "Let's understand by an example:\n",
        "\n",
        "Number = 32\n",
        "32+ 22 = 13\n",
        "12 + 32 = 10\n",
        "12 + 02 = 1"
      ],
      "metadata": {
        "id": "3y_3MmW77uok"
      }
    },
    {
      "cell_type": "code",
      "source": [
        "#isHappyNumber() will determine whether a number is happy or not    \n",
        "def isHappyNumber(num):    \n",
        "    rem = sum = 0    \n",
        "        \n",
        "    #Calculates the sum of squares of digits    \n",
        "    while(num > 0):    \n",
        "        rem = num%10   \n",
        "        sum = sum + (rem*rem)   \n",
        "        num = num//10    \n",
        "    return sum   \n",
        "        \n",
        "num = 82    \n",
        "result = num    \n",
        "     \n",
        "while(result != 1 and result != 4):    \n",
        "    result = isHappyNumber(result)   \n",
        "     \n",
        "#Happy number always ends with 1    \n",
        "if(result == 1):    \n",
        "    print(str(num) + \" is a happy number\")    \n",
        "#Unhappy number ends in a cycle of repeating numbers which contain 4    \n",
        "elif(result == 4):    \n",
        "    print(str(num) + \" is not a happy number\")  "
      ],
      "metadata": {
        "id": "lCnS0tiY9IVp"
      },
      "execution_count": null,
      "outputs": []
    },
    {
      "cell_type": "markdown",
      "source": [
        "4.\tWrite a Python program to print all happy numbers between 1 and 100?"
      ],
      "metadata": {
        "id": "gcImD19f9fEy"
      }
    },
    {
      "cell_type": "code",
      "source": [
        "def isHappyNumber(num):    \n",
        "    rem = sum = 0   \n",
        "        \n",
        "    #Calculates the sum of squares of digits    \n",
        "    while(num > 0):    \n",
        "        rem = num%10   \n",
        "        sum = sum + (rem*rem)   \n",
        "        num = num//10   \n",
        "    return sum    \n",
        "        \n",
        "print(\"happy numbers between 1 and 100 are\")  \n",
        "for i in range(1, 101):    \n",
        "    result = i\n",
        "\n",
        "    while(result != 1 and result != 4):    \n",
        "       result = isHappyNumber(result)   \n",
        "     \n",
        "#Happy number always ends with 1    \n",
        "    if(result == 1):    \n",
        "        print(i)\n",
        "      \n",
        "\n",
        "    "
      ],
      "metadata": {
        "id": "X3CjZ3KU9mxk"
      },
      "execution_count": null,
      "outputs": []
    },
    {
      "cell_type": "markdown",
      "source": [
        "5.\tWrite a Python program to determine whether the given number is a Harshad Number?\n",
        "\n",
        "\n",
        "A number is said to be a Harshad number or Niven number if it is divisible by the sum of its digits. In other words, If we are given a number that is divisible by the sum of its own digits, the number will be called a Harshad Number. \n",
        "\n",
        "example:\n",
        "number= 448\n",
        "sum = 4+4+8=16\n",
        "448//16=28"
      ],
      "metadata": {
        "id": "kljyxKjuBibY"
      }
    },
    {
      "cell_type": "code",
      "source": [
        "Number = int(input(\"Enter the Number to Check Harshad Number = \"))\n",
        "Sum = 0\n",
        "rem = 0\n",
        "\n",
        "Temp = Number\n",
        "while Temp > 0:\n",
        "    rem = Temp % 10\n",
        "    Sum = Sum + rem\n",
        "    Temp = Temp // 10\n",
        "\n",
        "print(\"The Sum of the Digits = %d\" %Sum)\n",
        "\n",
        "if Number % Sum == 0:\n",
        "    print(\"\\n%d is a Harshad Number.\" %Number)\n",
        "else:\n",
        "    print(\"%d is Not a Harshad Number.\" %Number)"
      ],
      "metadata": {
        "id": "2d_TJWMpB0mz"
      },
      "execution_count": null,
      "outputs": []
    },
    {
      "cell_type": "markdown",
      "source": [
        "6.\tWrite a Python program to print all pronic numbers between 1 and 100?\n",
        "\n",
        "\n",
        "The pronic number is a product of two consecutive integers of the form: n(n+1).\n",
        "\n",
        "For example:\n",
        "\n",
        "6 = 2(2+1)= n(n+1),\n",
        "72 =8(8+1) = n(n+1)"
      ],
      "metadata": {
        "id": "q6Z-rj9DCvjW"
      }
    },
    {
      "cell_type": "code",
      "source": [
        "#isPronicNumber() will determine whether a given number is a pronic number or not    \n",
        "def isPronicNumber(num):    \n",
        "    flag = False   \n",
        "        \n",
        "    for j in range(1, num+1):    \n",
        "        #Checks for pronic number by multiplying consecutive numbers    \n",
        "        if((j*(j+1)) == num):    \n",
        "            flag = True  \n",
        "            break   \n",
        "    return flag  \n",
        "     \n",
        "#Displays pronic numbers between 1 and 100    \n",
        "print(\"Pronic numbers between 1 and 100: \")  \n",
        "for i in range(1, 101):    \n",
        "    if(isPronicNumber(i)):    \n",
        "        print(i)  \n",
        "    "
      ],
      "metadata": {
        "id": "RLPhnmpkDD8r"
      },
      "execution_count": null,
      "outputs": []
    }
  ]
}
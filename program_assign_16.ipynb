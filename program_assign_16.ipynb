{
  "nbformat": 4,
  "nbformat_minor": 0,
  "metadata": {
    "colab": {
      "provenance": [],
      "authorship_tag": "ABX9TyMRt2233//eBYJD0bdmuZq5",
      "include_colab_link": true
    },
    "kernelspec": {
      "name": "python3",
      "display_name": "Python 3"
    },
    "language_info": {
      "name": "python"
    },
    "gpuClass": "standard"
  },
  "cells": [
    {
      "cell_type": "markdown",
      "metadata": {
        "id": "view-in-github",
        "colab_type": "text"
      },
      "source": [
        "<a href=\"https://colab.research.google.com/github/pentakotanavya/navyapentakota/blob/main/program_assign_16.ipynb\" target=\"_parent\"><img src=\"https://colab.research.google.com/assets/colab-badge.svg\" alt=\"Open In Colab\"/></a>"
      ]
    },
    {
      "cell_type": "code",
      "execution_count": null,
      "metadata": {
        "id": "ZtT42vvQvfdI"
      },
      "outputs": [],
      "source": []
    },
    {
      "cell_type": "markdown",
      "source": [
        "Question1. Write a function that stutters a word as if someone is struggling to read it. The first two letters are repeated twice with an ellipsis ... and space after each, and then the word is pronounced with a question mark ?.\n",
        "Examples\n",
        "stutter(\"incredible\") ➞ \"in... in... incredible?\"\n",
        "\n",
        "stutter(\"enthusiastic\") ➞ \"en... en... enthusiastic?\"\n",
        "\n",
        "stutter(\"outstanding\") ➞ \"ou... ou... outstanding?\"\n",
        "\n",
        "Hint :- Assume all input is in lower case and at least two characters long\n"
      ],
      "metadata": {
        "id": "Dt0Ogo_6vqeu"
      }
    },
    {
      "cell_type": "code",
      "source": [
        "def stutterWord():\n",
        "    in_string = input('Enter the Word :')\n",
        "    out_string = in_string.replace(in_string[0:2],((in_string[0:2]+'... ')*2)+ in_string[0:2])  +'?'\n",
        "    print(f'{in_string} ➞ {out_string}')\n",
        "\n",
        "for i in range(3):\n",
        "    stutterWord()"
      ],
      "metadata": {
        "colab": {
          "base_uri": "https://localhost:8080/"
        },
        "id": "50q8akQPw2fL",
        "outputId": "badb55ed-a616-4c5d-f89f-e62d27b4cb2e"
      },
      "execution_count": 1,
      "outputs": [
        {
          "output_type": "stream",
          "name": "stdout",
          "text": [
            "Enter the Word :enthusiastic\n",
            "enthusiastic ➞ en... en... enthusiastic?\n",
            "Enter the Word :outstanding\n",
            "outstanding ➞ ou... ou... outstanding?\n",
            "Enter the Word :incredible\n",
            "incredible ➞ in... in... incredible?\n"
          ]
        }
      ]
    },
    {
      "cell_type": "markdown",
      "source": [
        "Question 2.Create a function that takes an angle in radians and returns the corresponding angle in degrees rounded to one decimal place.\n",
        "Examples\n",
        "radians_to_degrees(1) ➞ 57.3\n",
        "\n",
        "radians_to_degrees(20) ➞ 1145.9\n",
        "\n",
        "radians_to_degrees(50) ➞ 2864.8\n"
      ],
      "metadata": {
        "id": "vqonBeUTxdfy"
      }
    },
    {
      "cell_type": "code",
      "source": [
        "import math\n",
        "def radianToDegree():\n",
        "    in_num = int(input('Enter the angle in Radians: '))\n",
        "    out_num = (180/math.pi)*in_num\n",
        "    print(f'{in_num} radian(s) ➞ {out_num:.1f} degrees')\n",
        "\n",
        "for x in range(3):\n",
        "    radianToDegree()"
      ],
      "metadata": {
        "colab": {
          "base_uri": "https://localhost:8080/"
        },
        "id": "qLG8ggsixmAV",
        "outputId": "ed302e3e-f896-476e-acc3-b51682bfca68"
      },
      "execution_count": 2,
      "outputs": [
        {
          "output_type": "stream",
          "name": "stdout",
          "text": [
            "Enter the angle in Radians: 1\n",
            "1 radian(s) ➞ 57.3 degrees\n",
            "Enter the angle in Radians: 20\n",
            "20 radian(s) ➞ 1145.9 degrees\n",
            "Enter the angle in Radians: 50\n",
            "50 radian(s) ➞ 2864.8 degrees\n"
          ]
        }
      ]
    },
    {
      "cell_type": "markdown",
      "source": [
        "Question 3. In this challenge, establish if a given integer num is a Curzon number. If 1 plus 2 elevated to num is exactly divisible by 1 plus 2 multiplied by num, then num is a Curzon number.\n",
        "Given a non-negative integer num, implement a function that returns True if num is a Curzon number, or False otherwise.\n",
        "Examples\n",
        "is_curzon(5) ➞ True\n",
        "# 2 ** 5 + 1 = 33\n",
        "# 2 * 5 + 1 = 11\n",
        "# 33 is a multiple of 11\n",
        "\n",
        "is_curzon(10) ➞ False\n",
        "# 2 ** 10 + 1 = 1025\n",
        "# 2 * 10 + 1 = 21\n",
        "# 1025 is not a multiple of 21\n",
        "\n",
        "is_curzon(14) ➞ True\n",
        "# 2 ** 14 + 1 = 16385\n",
        "# 2 * 14 + 1 = 29\n",
        "# 16385 is a multiple of 29\n"
      ],
      "metadata": {
        "id": "PYu1rLfDxyhO"
      }
    },
    {
      "cell_type": "code",
      "source": [
        "def checkCurzon():\n",
        "    in_num = int(input(\"Enter a number: \"))\n",
        "    if (pow(2,in_num)+1)%((2*in_num)+1) == 0:\n",
        "        print(f'{in_num} is a Curzon Number')\n",
        "    else:\n",
        "        print(f'{in_num} is Not a Curzon Number')\n",
        "\n",
        "for x in range(3):\n",
        "    checkCurzon()"
      ],
      "metadata": {
        "colab": {
          "base_uri": "https://localhost:8080/"
        },
        "id": "kSgz0zZhx7yj",
        "outputId": "305b1f1b-56d0-4b5e-c242-fdb317c0afb5"
      },
      "execution_count": 4,
      "outputs": [
        {
          "output_type": "stream",
          "name": "stdout",
          "text": [
            "Enter a number: 5\n",
            "5 is a Curzon Number\n",
            "Enter a number: 10\n",
            "10 is Not a Curzon Number\n",
            "Enter a number: 14\n",
            "14 is a Curzon Number\n"
          ]
        }
      ]
    },
    {
      "cell_type": "markdown",
      "source": [
        "Question 4.Given the side length x find the area of a hexagon.\n",
        " \n",
        "Examples\n",
        "area_of_hexagon(1) ➞ 2.6\n",
        "\n",
        "area_of_hexagon(2) ➞ 10.4\n",
        "\n",
        "area_of_hexagon(3) ➞ 23.4\n",
        "\n"
      ],
      "metadata": {
        "id": "XIo7nPr2ywtO"
      }
    },
    {
      "cell_type": "code",
      "source": [
        "import math\n",
        "def areaOfHexagon():\n",
        "    in_num = int(input('Enter the side length of a Hexagon: '))\n",
        "    out_num = ((3*math.sqrt(3))/2)*(pow(in_num,2))\n",
        "    print(f'Area for Hexagon of sidelength {in_num} ➞ {out_num:.1f}')\n",
        "    \n",
        "for x in range(3):\n",
        "    areaOfHexagon()"
      ],
      "metadata": {
        "colab": {
          "base_uri": "https://localhost:8080/"
        },
        "id": "_2K3GRCAy24h",
        "outputId": "22d01b28-fc65-4a08-9b0b-ca6bc31b4cee"
      },
      "execution_count": 5,
      "outputs": [
        {
          "output_type": "stream",
          "name": "stdout",
          "text": [
            "Enter the side length of a Hexagon: 1\n",
            "Area for Hexagon of sidelength 1 ➞ 2.6\n",
            "Enter the side length of a Hexagon: 2\n",
            "Area for Hexagon of sidelength 2 ➞ 10.4\n",
            "Enter the side length of a Hexagon: 3\n",
            "Area for Hexagon of sidelength 3 ➞ 23.4\n"
          ]
        }
      ]
    },
    {
      "cell_type": "markdown",
      "source": [
        "Question 5. Create a function that returns a base-2 (binary) representation of a base-10 (decimal) string number. To convert is simple: ((2) means base-2 and (10) means base-10) 010101001(2) = 1 + 8 + 32 + 128.\n",
        "Going from right to left, the value of the most right bit is 1, now from that every bit to the left will be x2 the value, value of an 8 bit binary numbers are (256, 128, 64, 32, 16, 8, 4, 2, 1).\n",
        "Examples\n",
        "binary(1) ➞ \"1\"\n",
        "# 1*1 = 1\n",
        "\n",
        "binary(5) ➞ \"101\"\n",
        "# 1*1 + 1*4 = 5\n",
        "\n",
        "binary(10) ➞ \"1010\"\n",
        "# 1*2 + 1*8 = 10\n"
      ],
      "metadata": {
        "id": "OI5e5dqnzAVs"
      }
    },
    {
      "cell_type": "code",
      "source": [
        "def getBinary():\n",
        "    in_num = int(input(\"Enter a Number: \"))\n",
        "    out_num = bin(in_num).replace('0b','') \n",
        "    print(f'Binary of {in_num} ➞ {out_num}')\n",
        "\n",
        "for x in range(3):\n",
        "    getBinary()"
      ],
      "metadata": {
        "colab": {
          "base_uri": "https://localhost:8080/"
        },
        "id": "pVcVBG5ZzFHq",
        "outputId": "29a7fa93-8aef-4845-e109-d512efef960a"
      },
      "execution_count": 6,
      "outputs": [
        {
          "output_type": "stream",
          "name": "stdout",
          "text": [
            "Enter a Number: 5\n",
            "Binary of 5 ➞ 101\n",
            "Enter a Number: 1\n",
            "Binary of 1 ➞ 1\n",
            "Enter a Number: 10\n",
            "Binary of 10 ➞ 1010\n"
          ]
        }
      ]
    }
  ]
}
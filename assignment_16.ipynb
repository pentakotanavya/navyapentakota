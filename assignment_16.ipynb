{
  "nbformat": 4,
  "nbformat_minor": 0,
  "metadata": {
    "colab": {
      "provenance": [],
      "toc_visible": true,
      "authorship_tag": "ABX9TyMxhsTbIP6qx8o8RLELpkNl",
      "include_colab_link": true
    },
    "kernelspec": {
      "name": "python3",
      "display_name": "Python 3"
    },
    "language_info": {
      "name": "python"
    }
  },
  "cells": [
    {
      "cell_type": "markdown",
      "metadata": {
        "id": "view-in-github",
        "colab_type": "text"
      },
      "source": [
        "<a href=\"https://colab.research.google.com/github/pentakotanavya/navyapentakota/blob/main/assignment_16.ipynb\" target=\"_parent\"><img src=\"https://colab.research.google.com/assets/colab-badge.svg\" alt=\"Open In Colab\"/></a>"
      ]
    },
    {
      "cell_type": "markdown",
      "source": [
        "1.\tCreate a list called years_list, starting with the year of your birth, and each year thereafter until the year of your fifth birthday. For example, if you were born in 1980. the list would be years_list = [1980, 1981, 1982, 1983, 1984, 1985]."
      ],
      "metadata": {
        "id": "EiZTFc5vlTzL"
      }
    },
    {
      "cell_type": "code",
      "execution_count": null,
      "metadata": {
        "colab": {
          "base_uri": "https://localhost:8080/"
        },
        "id": "lZAWEUSwkvEb",
        "outputId": "d4d35b4f-6349-4c1d-fffb-99502727ed3d"
      },
      "outputs": [
        {
          "output_type": "execute_result",
          "data": {
            "text/plain": [
              "[1998, 1999, 2000, 2001, 2002, 2003]"
            ]
          },
          "metadata": {},
          "execution_count": 2
        }
      ],
      "source": [
        "years_list = [1998,1999,2000,2001,2002,2003]\n",
        "years_list\n"
      ]
    },
    {
      "cell_type": "markdown",
      "source": [
        "2.In which year in years_list was your third birthday? Remember, you were 0 years of age for your first year."
      ],
      "metadata": {
        "id": "8brENft7lN8X"
      }
    },
    {
      "cell_type": "code",
      "source": [
        "years_list[3]"
      ],
      "metadata": {
        "colab": {
          "base_uri": "https://localhost:8080/"
        },
        "id": "q-sFqLnmlBSn",
        "outputId": "3c34203a-c174-461f-ed3f-d7830f2392a0"
      },
      "execution_count": null,
      "outputs": [
        {
          "output_type": "execute_result",
          "data": {
            "text/plain": [
              "2001"
            ]
          },
          "metadata": {},
          "execution_count": 3
        }
      ]
    },
    {
      "cell_type": "markdown",
      "source": [
        "3.In the years list, which year were you the oldest?"
      ],
      "metadata": {
        "id": "lmLAj1fVlmoF"
      }
    },
    {
      "cell_type": "code",
      "source": [
        "years_list[5]\n",
        "          "
      ],
      "metadata": {
        "colab": {
          "base_uri": "https://localhost:8080/"
        },
        "id": "H_QKZsyQlupD",
        "outputId": "76650170-3932-4348-cf0f-dbd0ccd28d51"
      },
      "execution_count": null,
      "outputs": [
        {
          "output_type": "execute_result",
          "data": {
            "text/plain": [
              "2003"
            ]
          },
          "metadata": {},
          "execution_count": 5
        }
      ]
    },
    {
      "cell_type": "markdown",
      "source": [
        "4. Make a list called things with these three strings as elements: \"mozzarella\", \"cinderella\", \"salmonella\"."
      ],
      "metadata": {
        "id": "PNBgzp6umDPJ"
      }
    },
    {
      "cell_type": "code",
      "source": [
        "things = ['mozzarella','Cinderella','salmonella']\n",
        "things"
      ],
      "metadata": {
        "colab": {
          "base_uri": "https://localhost:8080/"
        },
        "id": "XGitLSUemHbq",
        "outputId": "d0754646-6f29-48a6-a53f-263ff5aab37e"
      },
      "execution_count": null,
      "outputs": [
        {
          "output_type": "execute_result",
          "data": {
            "text/plain": [
              "['mozzarella', 'Cinderella', 'salmonella']"
            ]
          },
          "metadata": {},
          "execution_count": 8
        }
      ]
    },
    {
      "cell_type": "markdown",
      "source": [
        "5. Capitalize the element in things that refers to a person and then print the list. Did it change the element in the list?"
      ],
      "metadata": {
        "id": "2j-Ma2e4mbIm"
      }
    },
    {
      "cell_type": "code",
      "source": [
        "things[2]= things[2].upper()\n",
        "\n",
        "things\n"
      ],
      "metadata": {
        "id": "PVgPglbBmf90",
        "colab": {
          "base_uri": "https://localhost:8080/"
        },
        "outputId": "4c87a483-766b-4654-9fa2-5ed5add25ac5"
      },
      "execution_count": 10,
      "outputs": [
        {
          "output_type": "execute_result",
          "data": {
            "text/plain": [
              "['mozzarella', 'Cinderella', 'SALMONELLA']"
            ]
          },
          "metadata": {},
          "execution_count": 10
        }
      ]
    },
    {
      "cell_type": "markdown",
      "source": [
        "yes it changes the element in the list  "
      ],
      "metadata": {
        "id": "kgWxc-jengtf"
      }
    },
    {
      "cell_type": "markdown",
      "source": [
        "6. Make a surprise list with the elements \"Groucho,\" \"Chico,\" and \"Harpo.\""
      ],
      "metadata": {
        "id": "NSTQWTp_nmZ3"
      }
    },
    {
      "cell_type": "code",
      "source": [
        "surprise = ['Groucho','Chico','Harpo']\n"
      ],
      "metadata": {
        "id": "BpJu8_Y7nsOB"
      },
      "execution_count": 11,
      "outputs": []
    },
    {
      "cell_type": "markdown",
      "source": [
        "7. Lowercase the last element of the surprise list, reverse it, and then capitalize it."
      ],
      "metadata": {
        "id": "Wygb2n1Kn9Tt"
      }
    },
    {
      "cell_type": "code",
      "source": [
        " surprise[-1].lower()\n",
        "\n",
        " surprise[ : : -1].upper()"
      ],
      "metadata": {
        "colab": {
          "base_uri": "https://localhost:8080/",
          "height": 36
        },
        "id": "6GyPMZ4xrXwj",
        "outputId": "1511c36e-7a74-403b-9822-84b5a0278a5b"
      },
      "execution_count": 28,
      "outputs": [
        {
          "output_type": "execute_result",
          "data": {
            "text/plain": [
              "'OPRAH'"
            ],
            "application/vnd.google.colaboratory.intrinsic+json": {
              "type": "string"
            }
          },
          "metadata": {},
          "execution_count": 28
        }
      ]
    },
    {
      "cell_type": "markdown",
      "source": [
        "8. Make an English-to-French dictionary called e2f and print it. Here are your starter words: dog is chien, cat is chat, and walrus is morse."
      ],
      "metadata": {
        "id": "6e7YHFPgsCFw"
      }
    },
    {
      "cell_type": "code",
      "source": [
        "e2f = { 'dog' : 'chien', 'cat' : 'chat', 'walrus' : 'morse'}"
      ],
      "metadata": {
        "id": "WNNaHeqssVSt"
      },
      "execution_count": 29,
      "outputs": []
    },
    {
      "cell_type": "markdown",
      "source": [
        "9.Write the French word for walrus in your three-word dictionary e2f."
      ],
      "metadata": {
        "id": "bb-Nucijsouj"
      }
    },
    {
      "cell_type": "code",
      "source": [
        "e2f['walrus']"
      ],
      "metadata": {
        "colab": {
          "base_uri": "https://localhost:8080/",
          "height": 36
        },
        "id": "I0Iuq-KCsud1",
        "outputId": "9f9f287e-fc59-4c20-913a-79c6871c1732"
      },
      "execution_count": 30,
      "outputs": [
        {
          "output_type": "execute_result",
          "data": {
            "text/plain": [
              "'morse'"
            ],
            "application/vnd.google.colaboratory.intrinsic+json": {
              "type": "string"
            }
          },
          "metadata": {},
          "execution_count": 30
        }
      ]
    },
    {
      "cell_type": "markdown",
      "source": [
        "10. Make a French-to-English dictionary called f2e from e2f. Use the items method."
      ],
      "metadata": {
        "id": "0qezwSnTuqqL"
      }
    },
    {
      "cell_type": "code",
      "source": [
        "f2e = dict((v, k) for k, v in e2f.items())\n",
        "\n",
        "f2e"
      ],
      "metadata": {
        "colab": {
          "base_uri": "https://localhost:8080/"
        },
        "id": "Wn6B4E2_uy_A",
        "outputId": "9f90ec4f-181f-4982-db6d-d47b322bd806"
      },
      "execution_count": 34,
      "outputs": [
        {
          "output_type": "execute_result",
          "data": {
            "text/plain": [
              "{'chien': 'dog', 'chat': 'cat', 'morse': 'walrus'}"
            ]
          },
          "metadata": {},
          "execution_count": 34
        }
      ]
    },
    {
      "cell_type": "markdown",
      "source": [
        "11.Print the English version of the French word chien using f2e."
      ],
      "metadata": {
        "id": "BKNL32jSweqW"
      }
    },
    {
      "cell_type": "code",
      "source": [
        "f2e['chien']"
      ],
      "metadata": {
        "colab": {
          "base_uri": "https://localhost:8080/",
          "height": 36
        },
        "id": "3jZu6FMjwmfo",
        "outputId": "e39cfa35-4407-4b24-d34a-8efed8adecf9"
      },
      "execution_count": 36,
      "outputs": [
        {
          "output_type": "execute_result",
          "data": {
            "text/plain": [
              "'dog'"
            ],
            "application/vnd.google.colaboratory.intrinsic+json": {
              "type": "string"
            }
          },
          "metadata": {},
          "execution_count": 36
        }
      ]
    },
    {
      "cell_type": "markdown",
      "source": [
        "12. . Make and print a set of English words from the keys in e2f."
      ],
      "metadata": {
        "id": "QmVx8Ctswwu5"
      }
    },
    {
      "cell_type": "code",
      "source": [
        "set = e2f.keys()\n",
        "\n",
        "set"
      ],
      "metadata": {
        "colab": {
          "base_uri": "https://localhost:8080/"
        },
        "id": "bAn5p2f_xV1a",
        "outputId": "c525053e-c41a-4818-9366-ea54f790e19f"
      },
      "execution_count": 38,
      "outputs": [
        {
          "output_type": "execute_result",
          "data": {
            "text/plain": [
              "dict_keys(['dog', 'cat', 'walrus'])"
            ]
          },
          "metadata": {},
          "execution_count": 38
        }
      ]
    },
    {
      "cell_type": "markdown",
      "source": [
        "13. Make a multilevel dictionary called life. Use these strings for the topmost keys: 'animals', 'plants', and 'other'. Make the 'animals' key refer to another dictionary with the keys 'cats', 'octopi', and 'emus'. Make the 'cats' key refer to a list of strings with the values 'Henri', 'Grumpy', and 'Lucy'. Make all the other keys refer to empty dictionaries."
      ],
      "metadata": {
        "id": "xuWmSc-Xxh2h"
      }
    },
    {
      "cell_type": "code",
      "source": [
        "life = {'animals':{'cats':{'Henri','Grumpy','Lucy'}, 'octopi':{ }, 'emus': {  }},'plants':{ } ,' other' :{  }}"
      ],
      "metadata": {
        "id": "ta0yorlRxr7s"
      },
      "execution_count": 40,
      "outputs": []
    },
    {
      "cell_type": "markdown",
      "source": [
        "14.Print the top-level keys of life."
      ],
      "metadata": {
        "id": "ADHnGU5Ty5eZ"
      }
    },
    {
      "cell_type": "code",
      "source": [
        "print(life.keys())"
      ],
      "metadata": {
        "colab": {
          "base_uri": "https://localhost:8080/"
        },
        "id": "hcYhrAEzy-Ex",
        "outputId": "c3e706d5-c1a4-473a-9cdf-7633c9ebc73b"
      },
      "execution_count": 41,
      "outputs": [
        {
          "output_type": "stream",
          "name": "stdout",
          "text": [
            "dict_keys(['animals', 'plants', ' other'])\n"
          ]
        }
      ]
    },
    {
      "cell_type": "markdown",
      "source": [
        "15. . Print the keys for life['animals']."
      ],
      "metadata": {
        "id": "NgCrjnC2zFHd"
      }
    },
    {
      "cell_type": "code",
      "source": [
        "life['animals']"
      ],
      "metadata": {
        "colab": {
          "base_uri": "https://localhost:8080/"
        },
        "id": "M2gUo0mkzJsP",
        "outputId": "e16bc070-ced5-4a25-a211-5aadd6b82358"
      },
      "execution_count": 43,
      "outputs": [
        {
          "output_type": "execute_result",
          "data": {
            "text/plain": [
              "{'cats': {'Grumpy', 'Henri', 'Lucy'}, 'octopi': {}, 'emus': {}}"
            ]
          },
          "metadata": {},
          "execution_count": 43
        }
      ]
    },
    {
      "cell_type": "markdown",
      "source": [
        "16. . Print the values for life['animals']['cats']"
      ],
      "metadata": {
        "id": "uqClK5SZzTOY"
      }
    },
    {
      "cell_type": "code",
      "source": [
        " life['animals']['cats']"
      ],
      "metadata": {
        "colab": {
          "base_uri": "https://localhost:8080/"
        },
        "id": "RuMZWz-Pze91",
        "outputId": "6a471a9f-d166-49dc-9e48-8f3c964e37bb"
      },
      "execution_count": 44,
      "outputs": [
        {
          "output_type": "execute_result",
          "data": {
            "text/plain": [
              "{'Grumpy', 'Henri', 'Lucy'}"
            ]
          },
          "metadata": {},
          "execution_count": 44
        }
      ]
    }
  ]
}
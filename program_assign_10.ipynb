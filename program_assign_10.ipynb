{
  "nbformat": 4,
  "nbformat_minor": 0,
  "metadata": {
    "colab": {
      "private_outputs": true,
      "provenance": [],
      "authorship_tag": "ABX9TyP5Oy0aNKA2h6+FGanInJ5o",
      "include_colab_link": true
    },
    "kernelspec": {
      "name": "python3",
      "display_name": "Python 3"
    },
    "language_info": {
      "name": "python"
    }
  },
  "cells": [
    {
      "cell_type": "markdown",
      "metadata": {
        "id": "view-in-github",
        "colab_type": "text"
      },
      "source": [
        "<a href=\"https://colab.research.google.com/github/pentakotanavya/navyapentakota/blob/main/program_assign_10.ipynb\" target=\"_parent\"><img src=\"https://colab.research.google.com/assets/colab-badge.svg\" alt=\"Open In Colab\"/></a>"
      ]
    },
    {
      "cell_type": "markdown",
      "source": [
        "1.\tWrite a Python program to find sum of elements in list?"
      ],
      "metadata": {
        "id": "aKTnGI3wFF8q"
      }
    },
    {
      "cell_type": "code",
      "source": [
        "list= [1,2,3,4,5,6,7,8,9,10]\n",
        "sum =0\n",
        "for i in range(0,len(list)):\n",
        "    sum = sum+ list[i]\n",
        "\n",
        "print(sum)\n"
      ],
      "metadata": {
        "id": "I33yEj5vFIkg"
      },
      "execution_count": null,
      "outputs": []
    },
    {
      "cell_type": "markdown",
      "source": [
        "2.\tWrite a Python program to  Multiply all numbers in the list?"
      ],
      "metadata": {
        "id": "rCBf9o7VFyjW"
      }
    },
    {
      "cell_type": "code",
      "source": [
        "list= [1,2,3,4,5,6,7,8,9,10]\n",
        "product = 1\n",
        "for i in range(0,len(list)):   \n",
        "   product= product * list[i]\n",
        "\n",
        "print(product)"
      ],
      "metadata": {
        "id": "4o7iRy6RF49k"
      },
      "execution_count": null,
      "outputs": []
    },
    {
      "cell_type": "markdown",
      "source": [
        "3.\tWrite a Python program to find smallest number in a list?"
      ],
      "metadata": {
        "id": "GITfC6AXIGno"
      }
    },
    {
      "cell_type": "code",
      "source": [
        "list= [1,5,3,2,4,9,7,10,6,8]\n",
        "list.sort()\n",
        "\n",
        "print(\"Smallest element is:\", list[0])"
      ],
      "metadata": {
        "id": "8uUYhgAbIL9z"
      },
      "execution_count": null,
      "outputs": []
    },
    {
      "cell_type": "markdown",
      "source": [
        "4.\tWrite a Python program to find largest number in a list?"
      ],
      "metadata": {
        "id": "_ZeKz-7rJ0mh"
      }
    },
    {
      "cell_type": "code",
      "source": [
        "list= [1,5,3,2,4,9,7,10,6,8]\n",
        "list.sort()\n",
        "\n",
        "print(\"largest element is:\", list[-1])"
      ],
      "metadata": {
        "id": "8QV77H_bJ4Bh"
      },
      "execution_count": null,
      "outputs": []
    },
    {
      "cell_type": "markdown",
      "source": [
        "\n",
        "5.\tWrite a Python program to find second largest number in a list?"
      ],
      "metadata": {
        "id": "L7fWq5chKBT9"
      }
    },
    {
      "cell_type": "code",
      "source": [
        "list= [1,5,3,2,4,9,7,10,6,8]\n",
        "list.sort()\n",
        "\n",
        "print(\"second largest element is:\", list[-2])"
      ],
      "metadata": {
        "id": "YJ-KzDGrKGHh"
      },
      "execution_count": null,
      "outputs": []
    },
    {
      "cell_type": "markdown",
      "source": [
        "6.\tWrite a Python program to find N largest elements from a list?"
      ],
      "metadata": {
        "id": "kO9HvJg8KVIS"
      }
    },
    {
      "cell_type": "code",
      "source": [
        "list = [1000, 298, 3579, 100, 200, -45, 900]\n",
        "N = int(input(\"enter the value of N  \"))\n",
        " \n",
        "list.sort()\n",
        "print(f\"first {N} largest numbers are:\")\n",
        "print(list[-N:])"
      ],
      "metadata": {
        "id": "8LwnZfR5MCmj"
      },
      "execution_count": null,
      "outputs": []
    },
    {
      "cell_type": "markdown",
      "source": [
        "7.\tWrite a Python program to print even numbers in a list?"
      ],
      "metadata": {
        "id": "SrDowTROM8_g"
      }
    },
    {
      "cell_type": "code",
      "source": [
        "list= [1,2,3,4,5,6,7,8,9,10]\n",
        "print(\"Even numbers in the list are: \")\n",
        "for i in range(0,len(list)):\n",
        "    if list[i]%2==0:\n",
        "       print(list[i])"
      ],
      "metadata": {
        "id": "1pzxoBTgNJ9J"
      },
      "execution_count": null,
      "outputs": []
    },
    {
      "cell_type": "markdown",
      "source": [
        "8.\tWrite a Python program to print odd numbers in a List?"
      ],
      "metadata": {
        "id": "mKDH2Ud-N7f-"
      }
    },
    {
      "cell_type": "code",
      "source": [
        "list= [1,2,3,4,5,6,7,8,9,10]\n",
        "print(\"Odd numbers in the list are: \")\n",
        "for i in range(0,len(list)):\n",
        "    if list[i]%2!=0:\n",
        "       print(list[i])"
      ],
      "metadata": {
        "id": "UslW1mR9OA9y"
      },
      "execution_count": null,
      "outputs": []
    },
    {
      "cell_type": "markdown",
      "source": [
        "9.\tWrite a Python program to Remove empty List from List?"
      ],
      "metadata": {
        "id": "2SyeSkX7OMh7"
      }
    },
    {
      "cell_type": "code",
      "source": [
        "test_list = [5, 6, [], 3, [], [], 9]\n",
        " \n",
        "# printing original list\n",
        "print(\"The original list is : \" + str(test_list))\n",
        " \n",
        "# Remove empty List from List\n",
        "# using list comprehension\n",
        "res = [ele for ele in test_list if ele != []]\n",
        " \n",
        "# printing result\n",
        "print(\"List after empty list removal : \" + str(res))"
      ],
      "metadata": {
        "id": "u0_wpACCOT9L"
      },
      "execution_count": null,
      "outputs": []
    },
    {
      "cell_type": "markdown",
      "source": [
        "10.\tWrite a Python program to Cloning or Copying a list?"
      ],
      "metadata": {
        "id": "3z5PrAzHO3of"
      }
    },
    {
      "cell_type": "code",
      "source": [
        "def Cloning(li1):\n",
        "    list_copy = list_1\n",
        "    return list_copy\n",
        "   \n",
        "list_1 = [4, 8, 2, 10, 15, 18]\n",
        "list_2 = Cloning(list_1)\n",
        "print(\"Original List:\", list_1)\n",
        "print(\"After Cloning:\", list_2)"
      ],
      "metadata": {
        "id": "_VhCrS4cO8rN"
      },
      "execution_count": null,
      "outputs": []
    },
    {
      "cell_type": "markdown",
      "source": [
        "11.\tWrite a Python program to Count occurrences of an element in a list?"
      ],
      "metadata": {
        "id": "JUECyKyJQCvY"
      }
    },
    {
      "cell_type": "code",
      "source": [
        "def countX(list, x):\n",
        "    count = 0\n",
        "    for i in list:\n",
        "        if (i == x):\n",
        "            count = count + 1\n",
        "    return count\n",
        " \n",
        "list = [8, 6, 8, 10, 8, 20, 10, 8, 8]\n",
        "\n",
        "x =int(input(\"enter the element to count its occurence in the list   \")) \n",
        "print('{} has occurred {} times'.format(x,countX(list, x)))\n",
        "                                        "
      ],
      "metadata": {
        "id": "dbmtRda0QRPi"
      },
      "execution_count": null,
      "outputs": []
    }
  ]
}
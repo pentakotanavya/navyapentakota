{
  "nbformat": 4,
  "nbformat_minor": 0,
  "metadata": {
    "colab": {
      "private_outputs": true,
      "provenance": []
    },
    "kernelspec": {
      "name": "python3",
      "display_name": "Python 3"
    },
    "language_info": {
      "name": "python"
    }
  },
  "cells": [
    {
      "cell_type": "markdown",
      "source": [
        "Q1. Can you create a programme or function that employs both positive and negative indexing? Is there any repercussion if you do so?"
      ],
      "metadata": {
        "id": "8nnu6Ptej5tb"
      }
    },
    {
      "cell_type": "code",
      "source": [
        "my_list = [1,2,3,4,5,6,6,7,8,9,10]\n",
        "def indexing(in_list,pos):\n",
        "    return in_list[pos]\n",
        "print('Positive Indexing ->',indexing(my_list,5))\n",
        "print('Negative Indexing ->',indexing(my_list,-1))"
      ],
      "metadata": {
        "id": "QyZD3CK6kB8i"
      },
      "execution_count": null,
      "outputs": []
    },
    {
      "cell_type": "markdown",
      "source": [
        "Q2. What is the most effective way of starting with 1,000 elements in a Python list? Assume that all elements should be set to the same value.\n",
        "\n"
      ],
      "metadata": {
        "id": "xdEuVv_RlX6c"
      }
    },
    {
      "cell_type": "code",
      "source": [
        "start_list = [1 for x in range(1001)] # Quick Way to Create a List Using List Comprehension\n",
        "print(start_list)"
      ],
      "metadata": {
        "id": "99Ozy4IIlWL9"
      },
      "execution_count": null,
      "outputs": []
    },
    {
      "cell_type": "markdown",
      "source": [
        "Q3. How do you slice a list to get any other part while missing the rest? (For example, suppose you want to make a new list with the elements first, third, fifth, seventh, and so on.)\n",
        "\n",
        "\n"
      ],
      "metadata": {
        "id": "DHXwKU5VljAk"
      }
    },
    {
      "cell_type": "code",
      "source": [
        "my_list = [x for x in range(1,15)]\n",
        "print(f'my_list -> {my_list}')\n",
        "sliced_list = my_list[::2]\n",
        "print(f'sliced_list -> {sliced_list}')"
      ],
      "metadata": {
        "id": "VnUSQvzklmU7"
      },
      "execution_count": null,
      "outputs": []
    },
    {
      "cell_type": "markdown",
      "source": [
        "Q4. Explain the distinctions between indexing and slicing."
      ],
      "metadata": {
        "id": "FefFSMgamFMo"
      }
    },
    {
      "cell_type": "code",
      "source": [
        "my_list = [x for x in range(1,15)]\n",
        "print(f'my_list -> {my_list}')\n",
        "print(f'Example of indexing -> {my_list[1], my_list[5]}')\n",
        "print(f'Example of slicing -> {my_list[1:5]}')"
      ],
      "metadata": {
        "id": "clfJm9i1me6e"
      },
      "execution_count": null,
      "outputs": []
    },
    {
      "cell_type": "markdown",
      "source": [
        "Q4. Explain the distinctions between indexing and slicing\n",
        "\n",
        "\n",
        "Ans :  Indexing is used when we have to work on index level. While slicing are used over a range of items."
      ],
      "metadata": {
        "id": "cR_e-HbhmnBz"
      }
    },
    {
      "cell_type": "code",
      "source": [
        "my_list = [x for x in range(1,15)]\n",
        "print(f'my_list -> {my_list}')\n",
        "print(f'Example of indexing -> {my_list[1], my_list[5]}')\n",
        "print(f'Example of slicing -> {my_list[1:5]}')"
      ],
      "metadata": {
        "id": "gMbWfBnRMo-I"
      },
      "execution_count": null,
      "outputs": []
    },
    {
      "cell_type": "markdown",
      "source": [
        "\n",
        "Q5. What happens if one of the slicing expression's indexes is out of range?\n"
      ],
      "metadata": {
        "id": "EXHZm1FxMNvU"
      }
    },
    {
      "cell_type": "code",
      "source": [
        " #If start index is out of range then it will return empty entity.\n",
        "\n",
        " my_list = [x for x in range(1,15)]\n",
        "my_list = [x for x in range(1,15)]\n",
        "print(f'my_list -> {my_list}')\n",
        "print(f'Case #1 -> {my_list[20:]}')\n",
        "print(f'Case #2 -> {my_list[10:100]}')\n"
      ],
      "metadata": {
        "id": "jlITfBwbMZFw"
      },
      "execution_count": null,
      "outputs": []
    },
    {
      "cell_type": "markdown",
      "source": [
        "Q6. If you pass a list to a function, and if you want the function to be able to change the values of the list—so that the list is different after the function returns—what action should you avoid?\n",
        "\n",
        "\n"
      ],
      "metadata": {
        "id": "VGMXTT-8Mus4"
      }
    },
    {
      "cell_type": "code",
      "source": [
        " #  Always use return statement, if we want the see the changes in the input list.\n",
        "\n",
        "my_list = [1,2,3,4,5,6]\n",
        "def modify_list(in_list):\n",
        "    in_list.append(200)\n",
        "    return in_list\n",
        "print(modify_list(my_list))"
      ],
      "metadata": {
        "id": "dLCxMl4Pmno6"
      },
      "execution_count": null,
      "outputs": []
    },
    {
      "cell_type": "markdown",
      "source": [
        "Q7. What is the concept of an unbalanced matrix?\n",
        "\n",
        "Ans :    In Unbalanced Matrix number of rows is not same as number of columns."
      ],
      "metadata": {
        "id": "dIDavt_UM-I0"
      }
    },
    {
      "cell_type": "markdown",
      "source": [
        "Q8. Why is it necessary to use either list comprehension or a loop to create arbitrarily large matrices?\n",
        "\n",
        "\n",
        "Ans :   List comprehension or a Loop helps creation of large matrices easy. it also helps to implemeent and avoid manual errors. it also makes reading code easy. Also lot of time for manual feeding is reduced."
      ],
      "metadata": {
        "id": "8ArwNHoaNIsC"
      }
    },
    {
      "cell_type": "code",
      "source": [],
      "metadata": {
        "id": "vhNtkJ2rNBCM"
      },
      "execution_count": null,
      "outputs": []
    }
  ]
}
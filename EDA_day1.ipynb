{
  "nbformat": 4,
  "nbformat_minor": 0,
  "metadata": {
    "colab": {
      "private_outputs": true,
      "provenance": [],
      "authorship_tag": "ABX9TyNDnRy+KQUEv63h5tcV55UY",
      "include_colab_link": true
    },
    "kernelspec": {
      "name": "python3",
      "display_name": "Python 3"
    },
    "language_info": {
      "name": "python"
    }
  },
  "cells": [
    {
      "cell_type": "markdown",
      "metadata": {
        "id": "view-in-github",
        "colab_type": "text"
      },
      "source": [
        "<a href=\"https://colab.research.google.com/github/pentakotanavya/navyapentakota/blob/main/EDA_day1.ipynb\" target=\"_parent\"><img src=\"https://colab.research.google.com/assets/colab-badge.svg\" alt=\"Open In Colab\"/></a>"
      ]
    },
    {
      "cell_type": "code",
      "execution_count": null,
      "metadata": {
        "id": "qHfXTIlbrddS"
      },
      "outputs": [],
      "source": [
        "import pandas as pd\n",
        "data=pd.read_csv(\"https://raw.githubusercontent.com/sunnysavita10/Statistics-With-Python-TheCompleteGuide/main/googleplaystore.csv\")"
      ]
    },
    {
      "cell_type": "code",
      "source": [
        "data.head()"
      ],
      "metadata": {
        "id": "j5NBY_CgrmUi"
      },
      "execution_count": null,
      "outputs": []
    },
    {
      "cell_type": "code",
      "source": [
        "data.shape"
      ],
      "metadata": {
        "id": "BQyAEkoTstTS"
      },
      "execution_count": null,
      "outputs": []
    },
    {
      "cell_type": "code",
      "source": [
        "data.tail()"
      ],
      "metadata": {
        "id": "j-Swolc8sxSh"
      },
      "execution_count": null,
      "outputs": []
    },
    {
      "cell_type": "code",
      "source": [
        "data.sample()"
      ],
      "metadata": {
        "id": "BO0C4UM7s4bO"
      },
      "execution_count": null,
      "outputs": []
    },
    {
      "cell_type": "code",
      "source": [
        "data.sample(10)"
      ],
      "metadata": {
        "id": "C0hNZW1Ts5B8"
      },
      "execution_count": null,
      "outputs": []
    },
    {
      "cell_type": "code",
      "source": [
        "data.info()"
      ],
      "metadata": {
        "id": "uYV1tBurs-Dd"
      },
      "execution_count": null,
      "outputs": []
    },
    {
      "cell_type": "code",
      "source": [
        "data.describe(include='all').T"
      ],
      "metadata": {
        "id": "iz2DHRjttKZE"
      },
      "execution_count": null,
      "outputs": []
    },
    {
      "cell_type": "code",
      "source": [
        "data[data.duplicated()]\n",
        "\n"
      ],
      "metadata": {
        "id": "O1dBFK4-tPXA"
      },
      "execution_count": null,
      "outputs": []
    },
    {
      "cell_type": "code",
      "source": [
        "data['Reviews'].head(20)"
      ],
      "metadata": {
        "id": "L-hDQRwjti0f"
      },
      "execution_count": null,
      "outputs": []
    },
    {
      "cell_type": "code",
      "source": [
        "data['Reviews'].shape"
      ],
      "metadata": {
        "id": "c2sptLXLtmyW"
      },
      "execution_count": null,
      "outputs": []
    },
    {
      "cell_type": "code",
      "source": [
        "data['Reviews'].dtype"
      ],
      "metadata": {
        "id": "S_FHg9J-trVV"
      },
      "execution_count": null,
      "outputs": []
    },
    {
      "cell_type": "code",
      "source": [
        "data.Reviews.str"
      ],
      "metadata": {
        "id": "ZgdKVMOatudr"
      },
      "execution_count": null,
      "outputs": []
    },
    {
      "cell_type": "code",
      "source": [
        "data.Reviews.str.isnumeric()"
      ],
      "metadata": {
        "id": "oQKNp-SHtxZ0"
      },
      "execution_count": null,
      "outputs": []
    },
    {
      "cell_type": "code",
      "source": [
        "data[data.Reviews.str.isnumeric()].head()"
      ],
      "metadata": {
        "id": "N6K30OPOt2C1"
      },
      "execution_count": null,
      "outputs": []
    },
    {
      "cell_type": "code",
      "source": [
        "data[~data.Reviews.str.isnumeric()]"
      ],
      "metadata": {
        "id": "p7oZPImTt6DA"
      },
      "execution_count": null,
      "outputs": []
    },
    {
      "cell_type": "code",
      "source": [
        "data.head()"
      ],
      "metadata": {
        "id": "4tfVuitmt97Q"
      },
      "execution_count": null,
      "outputs": []
    },
    {
      "cell_type": "code",
      "source": [
        "data_copy=data.copy()"
      ],
      "metadata": {
        "id": "ZC9rti3euA6p"
      },
      "execution_count": null,
      "outputs": []
    },
    {
      "cell_type": "code",
      "source": [
        "data_copy.head()"
      ],
      "metadata": {
        "id": "vHwysGr2uD3k"
      },
      "execution_count": null,
      "outputs": []
    },
    {
      "cell_type": "code",
      "source": [
        "data_copy=data_copy.drop(data_copy.index[10472])"
      ],
      "metadata": {
        "id": "naMk8wIuuOhz"
      },
      "execution_count": null,
      "outputs": []
    },
    {
      "cell_type": "code",
      "source": [
        "data_copy.shape"
      ],
      "metadata": {
        "id": "sae52GPcuPHN"
      },
      "execution_count": null,
      "outputs": []
    },
    {
      "cell_type": "code",
      "source": [
        "data.shape"
      ],
      "metadata": {
        "id": "ZUrikneLuSHX"
      },
      "execution_count": null,
      "outputs": []
    },
    {
      "cell_type": "code",
      "source": [
        "data_copy['Reviews'].dtype"
      ],
      "metadata": {
        "id": "3bXe-1hIuUf5"
      },
      "execution_count": null,
      "outputs": []
    },
    {
      "cell_type": "code",
      "source": [
        "data_copy['Reviews']=data_copy['Reviews'].astype('int')"
      ],
      "metadata": {
        "id": "3PrQrcT5ucYa"
      },
      "execution_count": null,
      "outputs": []
    },
    {
      "cell_type": "code",
      "source": [
        "data_copy['Reviews'].dtype"
      ],
      "metadata": {
        "id": "KLzZJ6hWuiDB"
      },
      "execution_count": null,
      "outputs": []
    },
    {
      "cell_type": "code",
      "source": [
        "data_copy.info()"
      ],
      "metadata": {
        "id": "rCjRZXtNum-J"
      },
      "execution_count": null,
      "outputs": []
    },
    {
      "cell_type": "code",
      "source": [
        "data_copy[\"Size\"]"
      ],
      "metadata": {
        "id": "gRjYnlYZu02e"
      },
      "execution_count": null,
      "outputs": []
    },
    {
      "cell_type": "code",
      "source": [
        "data_copy[\"Size\"].dtype"
      ],
      "metadata": {
        "id": "HNqg64gqu76v"
      },
      "execution_count": null,
      "outputs": []
    },
    {
      "cell_type": "code",
      "source": [
        "data_copy[\"Size\"].unique()"
      ],
      "metadata": {
        "id": "3HK43QUlvGJZ"
      },
      "execution_count": null,
      "outputs": []
    },
    {
      "cell_type": "code",
      "source": [
        "data_copy[\"Size\"]=data_copy[\"Size\"].str.replace(\"M\",\"000\")"
      ],
      "metadata": {
        "id": "lc9u_hc1vJ3Q"
      },
      "execution_count": null,
      "outputs": []
    },
    {
      "cell_type": "code",
      "source": [
        "data_copy[\"Size\"]=data_copy[\"Size\"].str.replace(\"k\",\"\")"
      ],
      "metadata": {
        "id": "mtZOKnX-vQFL"
      },
      "execution_count": null,
      "outputs": []
    },
    {
      "cell_type": "code",
      "source": [
        "data_copy[\"Size\"].unique()"
      ],
      "metadata": {
        "id": "OUzX9ekHvTxj"
      },
      "execution_count": null,
      "outputs": []
    },
    {
      "cell_type": "code",
      "source": [
        "import numpy as np\n",
        "data_copy[\"Size\"]=data_copy[\"Size\"].str.replace('Varies with device',str(np.nan))"
      ],
      "metadata": {
        "id": "pe9xHd_yvXJz"
      },
      "execution_count": null,
      "outputs": []
    },
    {
      "cell_type": "code",
      "source": [
        "data_copy[\"Size\"].unique()\n"
      ],
      "metadata": {
        "id": "sq05awSCvnNr"
      },
      "execution_count": null,
      "outputs": []
    },
    {
      "cell_type": "code",
      "source": [
        "data_copy[\"Size\"].dtype"
      ],
      "metadata": {
        "id": "QXNYKCAuvqpk"
      },
      "execution_count": null,
      "outputs": []
    },
    {
      "cell_type": "code",
      "source": [
        "data_copy[\"Size\"]=data_copy[\"Size\"].astype(\"float\")"
      ],
      "metadata": {
        "id": "k1WDQSrKvvnM"
      },
      "execution_count": null,
      "outputs": []
    },
    {
      "cell_type": "code",
      "source": [
        "data_copy[\"Size\"].dtype"
      ],
      "metadata": {
        "id": "W_g6sEw2vyqR"
      },
      "execution_count": null,
      "outputs": []
    },
    {
      "cell_type": "code",
      "source": [
        "data_copy[\"Size\"].head(10)"
      ],
      "metadata": {
        "id": "ZK2eRyfav2Ed"
      },
      "execution_count": null,
      "outputs": []
    },
    {
      "cell_type": "code",
      "source": [
        "data[\"Size\"][0]"
      ],
      "metadata": {
        "id": "PbkIhiZ7v69n"
      },
      "execution_count": null,
      "outputs": []
    },
    {
      "cell_type": "code",
      "source": [
        "data[\"Size\"][2]"
      ],
      "metadata": {
        "id": "29ZU488RwA7t"
      },
      "execution_count": null,
      "outputs": []
    },
    {
      "cell_type": "code",
      "source": [
        "data_copy[\"Size\"][2]*1000"
      ],
      "metadata": {
        "id": "mEKh10wewJca"
      },
      "execution_count": null,
      "outputs": []
    },
    {
      "cell_type": "code",
      "source": [
        "for i in data_copy[\"Size\"]:\n",
        "    if i < 10:\n",
        "        data_copy[\"Size\"]=data_copy[\"Size\"].replace(i,i*1000)"
      ],
      "metadata": {
        "id": "48DzXSNFwP5o"
      },
      "execution_count": null,
      "outputs": []
    },
    {
      "cell_type": "code",
      "source": [
        "data_copy[\"Size\"].replace(8.7,8.7*1000)"
      ],
      "metadata": {
        "id": "ZnogZ7t5wTvN"
      },
      "execution_count": null,
      "outputs": []
    },
    {
      "cell_type": "code",
      "source": [
        "data_copy[\"Size\"].head(50)"
      ],
      "metadata": {
        "id": "1okg6RE3wXZP"
      },
      "execution_count": null,
      "outputs": []
    },
    {
      "cell_type": "code",
      "source": [
        "\n",
        "\n",
        "data_copy[\"Size\"]/1000"
      ],
      "metadata": {
        "id": "ojtjVdMGwdNx"
      },
      "execution_count": null,
      "outputs": []
    },
    {
      "cell_type": "code",
      "source": [
        "data_copy[\"Size\"].dtype"
      ],
      "metadata": {
        "id": "a-RYCUYZwmBF"
      },
      "execution_count": null,
      "outputs": []
    },
    {
      "cell_type": "code",
      "source": [
        "data[\"Size\"].unique()"
      ],
      "metadata": {
        "id": "j-qQC5h2wqpx"
      },
      "execution_count": null,
      "outputs": []
    },
    {
      "cell_type": "code",
      "source": [
        "data.head(2)"
      ],
      "metadata": {
        "id": "zXOiW5-owtfz"
      },
      "execution_count": null,
      "outputs": []
    },
    {
      "cell_type": "code",
      "source": [
        "data_copy.head(3)"
      ],
      "metadata": {
        "id": "oSozyE6mwy55"
      },
      "execution_count": null,
      "outputs": []
    },
    {
      "cell_type": "code",
      "source": [
        "data_copy.columns"
      ],
      "metadata": {
        "id": "om0sTHcJw2ST"
      },
      "execution_count": null,
      "outputs": []
    },
    {
      "cell_type": "code",
      "source": [
        "data_copy[\"Installs\"].str.replace(\"+\",\"\")"
      ],
      "metadata": {
        "id": "82kDj4fgxFMj"
      },
      "execution_count": null,
      "outputs": []
    },
    {
      "cell_type": "code",
      "source": [
        "data_copy[\"Installs\"].str"
      ],
      "metadata": {
        "id": "bsqYP1gfxJGh"
      },
      "execution_count": null,
      "outputs": []
    },
    {
      "cell_type": "code",
      "source": [
        "data_copy[\"Installs\"].dtype"
      ],
      "metadata": {
        "id": "Dhg1muahxNKr"
      },
      "execution_count": null,
      "outputs": []
    },
    {
      "cell_type": "code",
      "source": [
        "data_copy[\"Installs\"][0]"
      ],
      "metadata": {
        "id": "R4eq2stSxRvf"
      },
      "execution_count": null,
      "outputs": []
    },
    {
      "cell_type": "code",
      "source": [
        "data_copy[\"Price\"].unique()"
      ],
      "metadata": {
        "id": "dDIkWAWOxUlQ"
      },
      "execution_count": null,
      "outputs": []
    },
    {
      "cell_type": "code",
      "source": [
        "char_to_removes=[\"+\",\",\",\"$\"]\n",
        "cols_to_clean=[\"Installs\",\"Price\"]\n",
        "for item in char_to_removes:\n",
        "    for col in cols_to_clean:\n",
        "        data_copy[col]=data_copy[col].str.replace(item,\"\")"
      ],
      "metadata": {
        "id": "9wFZKv1vxXcO"
      },
      "execution_count": null,
      "outputs": []
    },
    {
      "cell_type": "code",
      "source": [
        "data_copy.head(2)"
      ],
      "metadata": {
        "id": "ecJB1Vg3xk4u"
      },
      "execution_count": null,
      "outputs": []
    },
    {
      "cell_type": "code",
      "source": [
        "\n",
        "data.head(3)"
      ],
      "metadata": {
        "id": "bQN3bIImxpFS"
      },
      "execution_count": null,
      "outputs": []
    },
    {
      "cell_type": "code",
      "source": [
        "data_copy.info()"
      ],
      "metadata": {
        "id": "p-7OCNicxsw_"
      },
      "execution_count": null,
      "outputs": []
    },
    {
      "cell_type": "code",
      "source": [
        "data_copy[\"Installs\"]=data_copy[\"Installs\"].astype(\"int\")"
      ],
      "metadata": {
        "id": "eGWJ60c1xxGb"
      },
      "execution_count": null,
      "outputs": []
    },
    {
      "cell_type": "code",
      "source": [
        "data_copy[\"Price\"]=data_copy[\"Price\"].astype(\"float\")"
      ],
      "metadata": {
        "id": "uhnZWN1Zx1Ng"
      },
      "execution_count": null,
      "outputs": []
    },
    {
      "cell_type": "code",
      "source": [
        "\n",
        "\n",
        "data_copy.info()"
      ],
      "metadata": {
        "id": "YftLQdbIx4Dk"
      },
      "execution_count": null,
      "outputs": []
    },
    {
      "cell_type": "code",
      "source": [
        "data_copy[\"Last Updated\"]"
      ],
      "metadata": {
        "id": "Xc02ZaRwx_Fv"
      },
      "execution_count": null,
      "outputs": []
    },
    {
      "cell_type": "code",
      "source": [
        "data_copy[\"Last Updated\"].dtype"
      ],
      "metadata": {
        "id": "_cv-0XkxyEyL"
      },
      "execution_count": null,
      "outputs": []
    },
    {
      "cell_type": "code",
      "source": [
        "data_copy[\"Last Updated\"]=pd.to_datetime(data_copy[\"Last Updated\"])"
      ],
      "metadata": {
        "id": "4_OGjQpcyHvh"
      },
      "execution_count": null,
      "outputs": []
    },
    {
      "cell_type": "code",
      "source": [
        "data_copy.head(2)"
      ],
      "metadata": {
        "id": "jiqghHtqyMC5"
      },
      "execution_count": null,
      "outputs": []
    },
    {
      "cell_type": "code",
      "source": [
        "data_copy[\"day\"]=data_copy[\"Last Updated\"].dt.day"
      ],
      "metadata": {
        "id": "HIrXVdEoyPFJ"
      },
      "execution_count": null,
      "outputs": []
    },
    {
      "cell_type": "code",
      "source": [
        "data_copy[\"month\"]=data_copy[\"Last Updated\"].dt.month"
      ],
      "metadata": {
        "id": "Uda4KTLoyaH2"
      },
      "execution_count": null,
      "outputs": []
    },
    {
      "cell_type": "code",
      "source": [
        "data_copy[\"year\"]=data_copy[\"Last Updated\"].dt.year"
      ],
      "metadata": {
        "id": "ZKAVBRJFylGc"
      },
      "execution_count": null,
      "outputs": []
    },
    {
      "cell_type": "code",
      "source": [
        "data_copy.head()"
      ],
      "metadata": {
        "id": "NCKQ0KTNynrF"
      },
      "execution_count": null,
      "outputs": []
    },
    {
      "cell_type": "code",
      "source": [
        "data_copy[\"Android Ver\"]=data_copy[\"Android Ver\"].str.replace(\"and up\",\"\")\n"
      ],
      "metadata": {
        "id": "cPM53x6wyq0H"
      },
      "execution_count": null,
      "outputs": []
    },
    {
      "cell_type": "code",
      "source": [
        "data_copy[\"Android Ver\"]=data_copy['Android Ver'].str.replace(\"Varies with device\",\"NaN\")"
      ],
      "metadata": {
        "id": "jzuv6mNPyzYR"
      },
      "execution_count": null,
      "outputs": []
    },
    {
      "cell_type": "code",
      "source": [
        "data_copy.head(2)"
      ],
      "metadata": {
        "id": "ZNMsWbtKy2ma"
      },
      "execution_count": null,
      "outputs": []
    },
    {
      "cell_type": "code",
      "source": [
        "data_copy.to_csv(\"clead_google_playstore_data\",index=False)"
      ],
      "metadata": {
        "id": "TVggwVwPy5uV"
      },
      "execution_count": null,
      "outputs": []
    },
    {
      "cell_type": "code",
      "source": [],
      "metadata": {
        "id": "EoEaowRqzDOc"
      },
      "execution_count": null,
      "outputs": []
    }
  ]
}